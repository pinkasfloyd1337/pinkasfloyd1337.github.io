{
 "cells": [
  {
   "cell_type": "code",
   "execution_count": 1,
   "id": "9c25d5a5",
   "metadata": {},
   "outputs": [
    {
     "name": "stdout",
     "output_type": "stream",
     "text": [
      "Requirement already satisfied: google-api-python-client in c:\\users\\bcohe\\anaconda3\\lib\\site-packages (2.57.0)\n",
      "Requirement already satisfied: google-auth-httplib2 in c:\\users\\bcohe\\anaconda3\\lib\\site-packages (0.1.0)\n",
      "Requirement already satisfied: google-auth-oauthlib in c:\\users\\bcohe\\anaconda3\\lib\\site-packages (0.5.2)\n",
      "Requirement already satisfied: google-auth<3.0.0dev,>=1.19.0 in c:\\users\\bcohe\\anaconda3\\lib\\site-packages (from google-api-python-client) (1.33.0)\n",
      "Requirement already satisfied: httplib2<1dev,>=0.15.0 in c:\\users\\bcohe\\anaconda3\\lib\\site-packages (from google-api-python-client) (0.20.4)\n",
      "Requirement already satisfied: google-api-core!=2.0.*,!=2.1.*,!=2.2.*,!=2.3.0,<3.0.0dev,>=1.31.5 in c:\\users\\bcohe\\anaconda3\\lib\\site-packages (from google-api-python-client) (2.8.2)\n",
      "Requirement already satisfied: uritemplate<5,>=3.0.1 in c:\\users\\bcohe\\anaconda3\\lib\\site-packages (from google-api-python-client) (4.1.1)\n",
      "Requirement already satisfied: six in c:\\users\\bcohe\\anaconda3\\lib\\site-packages (from google-auth-httplib2) (1.16.0)\n",
      "Requirement already satisfied: googleapis-common-protos<2.0dev,>=1.56.2 in c:\\users\\bcohe\\anaconda3\\lib\\site-packages (from google-api-core!=2.0.*,!=2.1.*,!=2.2.*,!=2.3.0,<3.0.0dev,>=1.31.5->google-api-python-client) (1.56.4)\n",
      "Requirement already satisfied: protobuf<5.0.0dev,>=3.15.0 in c:\\users\\bcohe\\anaconda3\\lib\\site-packages (from google-api-core!=2.0.*,!=2.1.*,!=2.2.*,!=2.3.0,<3.0.0dev,>=1.31.5->google-api-python-client) (3.17.3)\n",
      "Requirement already satisfied: requests<3.0.0dev,>=2.18.0 in c:\\users\\bcohe\\anaconda3\\lib\\site-packages (from google-api-core!=2.0.*,!=2.1.*,!=2.2.*,!=2.3.0,<3.0.0dev,>=1.31.5->google-api-python-client) (2.25.1)\n",
      "Requirement already satisfied: pyasn1-modules>=0.2.1 in c:\\users\\bcohe\\anaconda3\\lib\\site-packages (from google-auth<3.0.0dev,>=1.19.0->google-api-python-client) (0.2.8)\n",
      "Requirement already satisfied: setuptools>=40.3.0 in c:\\users\\bcohe\\anaconda3\\lib\\site-packages (from google-auth<3.0.0dev,>=1.19.0->google-api-python-client) (52.0.0.post20210125)\n",
      "Requirement already satisfied: rsa<5,>=3.1.4 in c:\\users\\bcohe\\anaconda3\\lib\\site-packages (from google-auth<3.0.0dev,>=1.19.0->google-api-python-client) (4.7.2)\n",
      "Requirement already satisfied: cachetools<5.0,>=2.0.0 in c:\\users\\bcohe\\anaconda3\\lib\\site-packages (from google-auth<3.0.0dev,>=1.19.0->google-api-python-client) (4.2.2)\n",
      "Requirement already satisfied: pyparsing!=3.0.0,!=3.0.1,!=3.0.2,!=3.0.3,<4,>=2.4.2 in c:\\users\\bcohe\\anaconda3\\lib\\site-packages (from httplib2<1dev,>=0.15.0->google-api-python-client) (2.4.7)\n",
      "Requirement already satisfied: pyasn1<0.5.0,>=0.4.6 in c:\\users\\bcohe\\anaconda3\\lib\\site-packages (from pyasn1-modules>=0.2.1->google-auth<3.0.0dev,>=1.19.0->google-api-python-client) (0.4.8)\n",
      "Requirement already satisfied: chardet<5,>=3.0.2 in c:\\users\\bcohe\\anaconda3\\lib\\site-packages (from requests<3.0.0dev,>=2.18.0->google-api-core!=2.0.*,!=2.1.*,!=2.2.*,!=2.3.0,<3.0.0dev,>=1.31.5->google-api-python-client) (3.0.4)\n",
      "Requirement already satisfied: certifi>=2017.4.17 in c:\\users\\bcohe\\anaconda3\\lib\\site-packages (from requests<3.0.0dev,>=2.18.0->google-api-core!=2.0.*,!=2.1.*,!=2.2.*,!=2.3.0,<3.0.0dev,>=1.31.5->google-api-python-client) (2021.10.8)\n",
      "Requirement already satisfied: urllib3<1.27,>=1.21.1 in c:\\users\\bcohe\\anaconda3\\lib\\site-packages (from requests<3.0.0dev,>=2.18.0->google-api-core!=2.0.*,!=2.1.*,!=2.2.*,!=2.3.0,<3.0.0dev,>=1.31.5->google-api-python-client) (1.26.6)\n",
      "Requirement already satisfied: idna<3,>=2.5 in c:\\users\\bcohe\\anaconda3\\lib\\site-packages (from requests<3.0.0dev,>=2.18.0->google-api-core!=2.0.*,!=2.1.*,!=2.2.*,!=2.3.0,<3.0.0dev,>=1.31.5->google-api-python-client) (2.10)\n",
      "Requirement already satisfied: requests-oauthlib>=0.7.0 in c:\\users\\bcohe\\anaconda3\\lib\\site-packages (from google-auth-oauthlib) (1.3.0)\n",
      "Requirement already satisfied: oauthlib>=3.0.0 in c:\\users\\bcohe\\anaconda3\\lib\\site-packages (from requests-oauthlib>=0.7.0->google-auth-oauthlib) (3.1.1)\n"
     ]
    }
   ],
   "source": [
    "!pip install --upgrade google-api-python-client google-auth-httplib2 google-auth-oauthlib"
   ]
  },
  {
   "cell_type": "code",
   "execution_count": null,
   "id": "7e34038f",
   "metadata": {},
   "outputs": [
    {
     "name": "stdout",
     "output_type": "stream",
     "text": [
      "Please visit this URL to authorize this application: https://accounts.google.com/o/oauth2/auth?response_type=code&client_id=222444974434-as82jr3aknmkfnbpnn0colta4c7c17cn.apps.googleusercontent.com&redirect_uri=http%3A%2F%2Flocalhost%3A64623%2F&scope=https%3A%2F%2Fwww.googleapis.com%2Fauth%2Fspreadsheets.readonly&state=l7cvRyUNOnIu1xxIj1KfwHhsMSEAvm&access_type=offline\n"
     ]
    }
   ],
   "source": [
    "from __future__ import print_function\n",
    "\n",
    "import os.path\n",
    "\n",
    "from google.auth.transport.requests import Request\n",
    "from google.oauth2.credentials import Credentials\n",
    "from google_auth_oauthlib.flow import InstalledAppFlow\n",
    "from googleapiclient.discovery import build\n",
    "from googleapiclient.errors import HttpError\n",
    "\n",
    "# If modifying these scopes, delete the file token.json.\n",
    "SCOPES = ['https://www.googleapis.com/auth/spreadsheets.readonly']\n",
    "\n",
    "# The ID and range of a sample spreadsheet.\n",
    "SAMPLE_SPREADSHEET_ID = '1BxiMVs0XRA5nFMdKvBdBZjgmUUqptlbs74OgvE2upms'\n",
    "SAMPLE_RANGE_NAME = 'Class Data!A2:E'\n",
    "\n",
    "\n",
    "def main():\n",
    "    \"\"\"Shows basic usage of the Sheets API.\n",
    "    Prints values from a sample spreadsheet.\n",
    "    \"\"\"\n",
    "    creds = None\n",
    "    # The file token.json stores the user's access and refresh tokens, and is\n",
    "    # created automatically when the authorization flow completes for the first\n",
    "    # time.\n",
    "    if os.path.exists('token.json'):\n",
    "        creds = Credentials.from_authorized_user_file('token.json', SCOPES)\n",
    "    # If there are no (valid) credentials available, let the user log in.\n",
    "    if not creds or not creds.valid:\n",
    "        if creds and creds.expired and creds.refresh_token:\n",
    "            creds.refresh(Request())\n",
    "        else:\n",
    "            flow = InstalledAppFlow.from_client_secrets_file(\n",
    "                'credentials.json', SCOPES)\n",
    "            creds = flow.run_local_server(port=0)\n",
    "        # Save the credentials for the next run\n",
    "        with open('token.json', 'w') as token:\n",
    "            token.write(creds.to_json())\n",
    "\n",
    "    try:\n",
    "        service = build('sheets', 'v4', credentials=creds)\n",
    "\n",
    "        # Call the Sheets API\n",
    "        sheet = service.spreadsheets()\n",
    "        result = sheet.values().get(spreadsheetId=SAMPLE_SPREADSHEET_ID,\n",
    "                                    range=SAMPLE_RANGE_NAME).execute()\n",
    "        values = result.get('values', [])\n",
    "\n",
    "        if not values:\n",
    "            print('No data found.')\n",
    "            return\n",
    "\n",
    "        print('Name, Major:')\n",
    "        for row in values:\n",
    "            # Print columns A and E, which correspond to indices 0 and 4.\n",
    "            print('%s, %s' % (row[0], row[4]))\n",
    "    except HttpError as err:\n",
    "        print(err)\n",
    "\n",
    "\n",
    "if __name__ == '__main__':\n",
    "    main()"
   ]
  },
  {
   "cell_type": "code",
   "execution_count": 1,
   "id": "0f8f96ad",
   "metadata": {},
   "outputs": [],
   "source": [
    "import pandas as pd"
   ]
  },
  {
   "cell_type": "code",
   "execution_count": 30,
   "id": "38a31ca7",
   "metadata": {},
   "outputs": [],
   "source": [
    "income_sheet = pd.read_excel('Goal.xlsx', sheet_name = 'Income', index_col = 0)"
   ]
  },
  {
   "cell_type": "code",
   "execution_count": 25,
   "id": "634c661c",
   "metadata": {},
   "outputs": [
    {
     "data": {
      "text/plain": [
       "108397.58"
      ]
     },
     "execution_count": 25,
     "metadata": {},
     "output_type": "execute_result"
    }
   ],
   "source": [
    "income = income_sheet['Yearly']['Base Pay']\n",
    "income"
   ]
  },
  {
   "cell_type": "code",
   "execution_count": 27,
   "id": "ce70d31b",
   "metadata": {},
   "outputs": [
    {
     "data": {
      "text/plain": [
       "8671.8064"
      ]
     },
     "execution_count": 27,
     "metadata": {},
     "output_type": "execute_result"
    }
   ],
   "source": [
    "k_401 = income * 0.08\n",
    "k_401"
   ]
  },
  {
   "cell_type": "code",
   "execution_count": 32,
   "id": "961d5922",
   "metadata": {},
   "outputs": [
    {
     "data": {
      "text/plain": [
       "280.317258375074"
      ]
     },
     "execution_count": 32,
     "metadata": {},
     "output_type": "execute_result"
    }
   ],
   "source": [
    "benefits = income * 0.0025860103\n",
    "benefits"
   ]
  },
  {
   "cell_type": "code",
   "execution_count": 36,
   "id": "d6bece1a",
   "metadata": {},
   "outputs": [
    {
     "data": {
      "text/plain": [
       "16873.51504223664"
      ]
     },
     "execution_count": 36,
     "metadata": {},
     "output_type": "execute_result"
    }
   ],
   "source": [
    "federal_tax = income * 0.155663208\n",
    "federal_tax"
   ]
  },
  {
   "cell_type": "code",
   "execution_count": 35,
   "id": "c1214884",
   "metadata": {},
   "outputs": [
    {
     "data": {
      "text/plain": [
       "6754.493949985422"
      ]
     },
     "execution_count": 35,
     "metadata": {},
     "output_type": "execute_result"
    }
   ],
   "source": [
    "ss = income * 0.0623122209\n",
    "ss"
   ]
  },
  {
   "cell_type": "code",
   "execution_count": 38,
   "id": "12dea13c",
   "metadata": {},
   "outputs": [
    {
     "data": {
      "text/plain": [
       "1579.664557078628"
      ]
     },
     "execution_count": 38,
     "metadata": {},
     "output_type": "execute_result"
    }
   ],
   "source": [
    "medicare = income * 0.0145728766\n",
    "medicare"
   ]
  },
  {
   "cell_type": "code",
   "execution_count": 39,
   "id": "129e0471",
   "metadata": {},
   "outputs": [
    {
     "data": {
      "text/plain": [
       "74237.78279232423"
      ]
     },
     "execution_count": 39,
     "metadata": {},
     "output_type": "execute_result"
    }
   ],
   "source": [
    "net_pay = income - k_401 - benefits - federal_tax - ss - medicare\n",
    "net_pay"
   ]
  },
  {
   "cell_type": "code",
   "execution_count": 40,
   "id": "1a87aa75",
   "metadata": {},
   "outputs": [
    {
     "data": {
      "text/html": [
       "<div>\n",
       "<style scoped>\n",
       "    .dataframe tbody tr th:only-of-type {\n",
       "        vertical-align: middle;\n",
       "    }\n",
       "\n",
       "    .dataframe tbody tr th {\n",
       "        vertical-align: top;\n",
       "    }\n",
       "\n",
       "    .dataframe thead th {\n",
       "        text-align: right;\n",
       "    }\n",
       "</style>\n",
       "<table border=\"1\" class=\"dataframe\">\n",
       "  <thead>\n",
       "    <tr style=\"text-align: right;\">\n",
       "      <th></th>\n",
       "      <th>Yearly</th>\n",
       "      <th>Monthly</th>\n",
       "      <th>Weekly</th>\n",
       "    </tr>\n",
       "  </thead>\n",
       "  <tbody>\n",
       "    <tr>\n",
       "      <th>Base Pay</th>\n",
       "      <td>108397.580000</td>\n",
       "      <td>9033.131667</td>\n",
       "      <td>2084.568846</td>\n",
       "    </tr>\n",
       "    <tr>\n",
       "      <th>401K (8%)</th>\n",
       "      <td>-8671.806400</td>\n",
       "      <td>-722.650533</td>\n",
       "      <td>-166.765508</td>\n",
       "    </tr>\n",
       "    <tr>\n",
       "      <th>Benefits</th>\n",
       "      <td>-280.317258</td>\n",
       "      <td>-11.679886</td>\n",
       "      <td>-5.390717</td>\n",
       "    </tr>\n",
       "    <tr>\n",
       "      <th>Federal Tax (15.57%)</th>\n",
       "      <td>-16873.515040</td>\n",
       "      <td>-1406.126254</td>\n",
       "      <td>-324.490674</td>\n",
       "    </tr>\n",
       "    <tr>\n",
       "      <th>Social Security (6.23%)</th>\n",
       "      <td>-6754.493950</td>\n",
       "      <td>-562.874496</td>\n",
       "      <td>-129.894114</td>\n",
       "    </tr>\n",
       "    <tr>\n",
       "      <th>Medicare (1.46%)</th>\n",
       "      <td>-1579.664557</td>\n",
       "      <td>-131.638713</td>\n",
       "      <td>-30.378165</td>\n",
       "    </tr>\n",
       "    <tr>\n",
       "      <th>TAX TOTAL</th>\n",
       "      <td>-34159.797210</td>\n",
       "      <td>-2834.969882</td>\n",
       "      <td>-656.919177</td>\n",
       "    </tr>\n",
       "    <tr>\n",
       "      <th>RUNNING</th>\n",
       "      <td>74237.782790</td>\n",
       "      <td>6186.481899</td>\n",
       "      <td>1427.649669</td>\n",
       "    </tr>\n",
       "    <tr>\n",
       "      <th>Renter's Insurance</th>\n",
       "      <td>-142.080000</td>\n",
       "      <td>-11.840000</td>\n",
       "      <td>-2.732308</td>\n",
       "    </tr>\n",
       "    <tr>\n",
       "      <th>Auto Insurance</th>\n",
       "      <td>0.000000</td>\n",
       "      <td>0.000000</td>\n",
       "      <td>0.000000</td>\n",
       "    </tr>\n",
       "    <tr>\n",
       "      <th>Entertainment</th>\n",
       "      <td>-690.000000</td>\n",
       "      <td>-57.500000</td>\n",
       "      <td>-13.269231</td>\n",
       "    </tr>\n",
       "    <tr>\n",
       "      <th>Food &amp; Dining</th>\n",
       "      <td>-2730.000000</td>\n",
       "      <td>-227.500000</td>\n",
       "      <td>-52.500000</td>\n",
       "    </tr>\n",
       "    <tr>\n",
       "      <th>Groceries</th>\n",
       "      <td>-4130.000000</td>\n",
       "      <td>-344.166667</td>\n",
       "      <td>-79.423077</td>\n",
       "    </tr>\n",
       "    <tr>\n",
       "      <th>Health</th>\n",
       "      <td>-830.000000</td>\n",
       "      <td>-69.166667</td>\n",
       "      <td>-15.961538</td>\n",
       "    </tr>\n",
       "    <tr>\n",
       "      <th>Pets</th>\n",
       "      <td>-710.000000</td>\n",
       "      <td>-59.166667</td>\n",
       "      <td>-13.653846</td>\n",
       "    </tr>\n",
       "    <tr>\n",
       "      <th>Shopping</th>\n",
       "      <td>-2890.000000</td>\n",
       "      <td>-240.833333</td>\n",
       "      <td>-55.576923</td>\n",
       "    </tr>\n",
       "    <tr>\n",
       "      <th>Transportation</th>\n",
       "      <td>-1520.000000</td>\n",
       "      <td>-126.666667</td>\n",
       "      <td>-29.230769</td>\n",
       "    </tr>\n",
       "    <tr>\n",
       "      <th>Travel</th>\n",
       "      <td>-720.000000</td>\n",
       "      <td>-60.000000</td>\n",
       "      <td>-24.807692</td>\n",
       "    </tr>\n",
       "    <tr>\n",
       "      <th>Other Expenses</th>\n",
       "      <td>-1290.000000</td>\n",
       "      <td>-107.500000</td>\n",
       "      <td>-7.692308</td>\n",
       "    </tr>\n",
       "    <tr>\n",
       "      <th>Internet</th>\n",
       "      <td>-400.000000</td>\n",
       "      <td>-33.333333</td>\n",
       "      <td>-7.692308</td>\n",
       "    </tr>\n",
       "    <tr>\n",
       "      <th>Water</th>\n",
       "      <td>-400.000000</td>\n",
       "      <td>-33.333333</td>\n",
       "      <td>-7.692308</td>\n",
       "    </tr>\n",
       "    <tr>\n",
       "      <th>Electricity</th>\n",
       "      <td>-400.000000</td>\n",
       "      <td>-33.333333</td>\n",
       "      <td>-7.692308</td>\n",
       "    </tr>\n",
       "    <tr>\n",
       "      <th>Bike Storage</th>\n",
       "      <td>-180.000000</td>\n",
       "      <td>-15.000000</td>\n",
       "      <td>-3.461538</td>\n",
       "    </tr>\n",
       "    <tr>\n",
       "      <th>Trash/Facility Fee</th>\n",
       "      <td>-60.000000</td>\n",
       "      <td>-5.000000</td>\n",
       "      <td>-1.153846</td>\n",
       "    </tr>\n",
       "    <tr>\n",
       "      <th>Rent</th>\n",
       "      <td>-19655.400000</td>\n",
       "      <td>-1637.950000</td>\n",
       "      <td>-377.988462</td>\n",
       "    </tr>\n",
       "    <tr>\n",
       "      <th>Housing Total</th>\n",
       "      <td>-21095.400000</td>\n",
       "      <td>-1740.940000</td>\n",
       "      <td>-405.680769</td>\n",
       "    </tr>\n",
       "    <tr>\n",
       "      <th>Expenses</th>\n",
       "      <td>-36747.480000</td>\n",
       "      <td>-3062.290000</td>\n",
       "      <td>-706.682308</td>\n",
       "    </tr>\n",
       "    <tr>\n",
       "      <th>Savings</th>\n",
       "      <td>37490.302790</td>\n",
       "      <td>3124.191899</td>\n",
       "      <td>720.967361</td>\n",
       "    </tr>\n",
       "  </tbody>\n",
       "</table>\n",
       "</div>"
      ],
      "text/plain": [
       "                                Yearly      Monthly       Weekly\n",
       "Base Pay                 108397.580000  9033.131667  2084.568846\n",
       "401K (8%)                 -8671.806400  -722.650533  -166.765508\n",
       "Benefits                   -280.317258   -11.679886    -5.390717\n",
       "Federal Tax (15.57%)     -16873.515040 -1406.126254  -324.490674\n",
       "Social Security (6.23%)   -6754.493950  -562.874496  -129.894114\n",
       "Medicare (1.46%)          -1579.664557  -131.638713   -30.378165\n",
       "TAX TOTAL                -34159.797210 -2834.969882  -656.919177\n",
       "RUNNING                   74237.782790  6186.481899  1427.649669\n",
       "Renter's Insurance         -142.080000   -11.840000    -2.732308\n",
       "Auto Insurance                0.000000     0.000000     0.000000\n",
       "Entertainment              -690.000000   -57.500000   -13.269231\n",
       "Food & Dining             -2730.000000  -227.500000   -52.500000\n",
       "Groceries                 -4130.000000  -344.166667   -79.423077\n",
       "Health                     -830.000000   -69.166667   -15.961538\n",
       "Pets                       -710.000000   -59.166667   -13.653846\n",
       "Shopping                  -2890.000000  -240.833333   -55.576923\n",
       "Transportation            -1520.000000  -126.666667   -29.230769\n",
       "Travel                     -720.000000   -60.000000   -24.807692\n",
       "Other Expenses            -1290.000000  -107.500000    -7.692308\n",
       "Internet                   -400.000000   -33.333333    -7.692308\n",
       "Water                      -400.000000   -33.333333    -7.692308\n",
       "Electricity                -400.000000   -33.333333    -7.692308\n",
       "Bike Storage               -180.000000   -15.000000    -3.461538\n",
       "Trash/Facility Fee          -60.000000    -5.000000    -1.153846\n",
       "Rent                     -19655.400000 -1637.950000  -377.988462\n",
       "Housing Total            -21095.400000 -1740.940000  -405.680769\n",
       "Expenses                 -36747.480000 -3062.290000  -706.682308\n",
       "Savings                   37490.302790  3124.191899   720.967361"
      ]
     },
     "execution_count": 40,
     "metadata": {},
     "output_type": "execute_result"
    }
   ],
   "source": [
    "income_sheet"
   ]
  },
  {
   "cell_type": "code",
   "execution_count": null,
   "id": "35805f78",
   "metadata": {},
   "outputs": [
    {
     "name": "stdout",
     "output_type": "stream",
     "text": [
      " * Serving Flask app \"__main__\" (lazy loading)\n",
      " * Environment: production\n",
      "\u001b[31m   WARNING: This is a development server. Do not use it in a production deployment.\u001b[0m\n",
      "\u001b[2m   Use a production WSGI server instead.\u001b[0m\n",
      " * Debug mode: off\n"
     ]
    },
    {
     "name": "stderr",
     "output_type": "stream",
     "text": [
      " * Running on http://127.0.0.1:5000/ (Press CTRL+C to quit)\n",
      "127.0.0.1 - - [19/Aug/2022 11:31:55] \"\u001b[37mGET / HTTP/1.1\u001b[0m\" 200 -\n",
      "127.0.0.1 - - [19/Aug/2022 11:31:55] \"\u001b[33mGET /static/https://fonts.googleapis.com/css%3Ffamily%3DNunito:200%2C200i%2C300%2C300i%2C400%2C400i%2C600%2C600i%2C700%2C700i%2C800%2C800i%2C900%2C900i HTTP/1.1\u001b[0m\" 404 -\n",
      "127.0.0.1 - - [19/Aug/2022 11:31:55] \"\u001b[33mGET /static/assets/fonts/font-awesome.min.css%22%3E%3Clink%20rel%3D%22stylesheet%22%20href%3D%22assets/fonts/material-icons.min.css%22%3E%3Clink%20rel%3D%22stylesheet%22%20href%3D%22assets/fonts/fontawesome5-overrides.min.css HTTP/1.1\u001b[0m\" 404 -\n",
      "127.0.0.1 - - [19/Aug/2022 11:31:56] \"\u001b[33mGET /assets/bootstrap/js/bootstrap.min.js HTTP/1.1\u001b[0m\" 404 -\n",
      "127.0.0.1 - - [19/Aug/2022 11:31:56] \"\u001b[33mGET /assets/js/chart.min.js HTTP/1.1\u001b[0m\" 404 -\n",
      "127.0.0.1 - - [19/Aug/2022 11:31:56] \"\u001b[33mGET /assets/js/script.min.js HTTP/1.1\u001b[0m\" 404 -\n",
      "127.0.0.1 - - [19/Aug/2022 11:31:56] \"\u001b[33mGET /assets/img/avatars/avatar4.jpeg HTTP/1.1\u001b[0m\" 404 -\n",
      "127.0.0.1 - - [19/Aug/2022 11:31:56] \"\u001b[33mGET /assets/img/avatars/avatar2.jpeg HTTP/1.1\u001b[0m\" 404 -\n",
      "127.0.0.1 - - [19/Aug/2022 11:31:56] \"\u001b[33mGET /assets/img/avatars/avatar3.jpeg HTTP/1.1\u001b[0m\" 404 -\n",
      "127.0.0.1 - - [19/Aug/2022 11:31:56] \"\u001b[33mGET /assets/img/avatars/avatar5.jpeg HTTP/1.1\u001b[0m\" 404 -\n",
      "127.0.0.1 - - [19/Aug/2022 11:31:56] \"\u001b[33mGET /assets/img/avatars/avatar1.jpeg HTTP/1.1\u001b[0m\" 404 -\n",
      "127.0.0.1 - - [19/Aug/2022 11:31:57] \"\u001b[33mGET /table.html HTTP/1.1\u001b[0m\" 404 -\n",
      "[2022-08-19 11:32:10,659] ERROR in app: Exception on /finances [GET]\n",
      "Traceback (most recent call last):\n",
      "  File \"C:\\Users\\bcohe\\anaconda3\\lib\\site-packages\\flask\\app.py\", line 2447, in wsgi_app\n",
      "    response = self.full_dispatch_request()\n",
      "  File \"C:\\Users\\bcohe\\anaconda3\\lib\\site-packages\\flask\\app.py\", line 1952, in full_dispatch_request\n",
      "    rv = self.handle_user_exception(e)\n",
      "  File \"C:\\Users\\bcohe\\anaconda3\\lib\\site-packages\\flask\\app.py\", line 1821, in handle_user_exception\n",
      "    reraise(exc_type, exc_value, tb)\n",
      "  File \"C:\\Users\\bcohe\\anaconda3\\lib\\site-packages\\flask\\_compat.py\", line 39, in reraise\n",
      "    raise value\n",
      "  File \"C:\\Users\\bcohe\\anaconda3\\lib\\site-packages\\flask\\app.py\", line 1950, in full_dispatch_request\n",
      "    rv = self.dispatch_request()\n",
      "  File \"C:\\Users\\bcohe\\anaconda3\\lib\\site-packages\\flask\\app.py\", line 1936, in dispatch_request\n",
      "    return self.view_functions[rule.endpoint](**req.view_args)\n",
      "  File \"<ipython-input-9-45bd7a15d6cd>\", line 10, in finances\n",
      "    return render_template('table.html')\n",
      "  File \"C:\\Users\\bcohe\\anaconda3\\lib\\site-packages\\flask\\templating.py\", line 138, in render_template\n",
      "    ctx.app.jinja_env.get_or_select_template(template_name_or_list),\n",
      "  File \"C:\\Users\\bcohe\\anaconda3\\lib\\site-packages\\jinja2\\environment.py\", line 930, in get_or_select_template\n",
      "    return self.get_template(template_name_or_list, parent, globals)\n",
      "  File \"C:\\Users\\bcohe\\anaconda3\\lib\\site-packages\\jinja2\\environment.py\", line 883, in get_template\n",
      "    return self._load_template(name, self.make_globals(globals))\n",
      "  File \"C:\\Users\\bcohe\\anaconda3\\lib\\site-packages\\jinja2\\environment.py\", line 857, in _load_template\n",
      "    template = self.loader.load(self, name, globals)\n",
      "  File \"C:\\Users\\bcohe\\anaconda3\\lib\\site-packages\\jinja2\\loaders.py\", line 127, in load\n",
      "    code = environment.compile(source, name, filename)\n",
      "  File \"C:\\Users\\bcohe\\anaconda3\\lib\\site-packages\\jinja2\\environment.py\", line 638, in compile\n",
      "    self.handle_exception(source=source_hint)\n",
      "  File \"C:\\Users\\bcohe\\anaconda3\\lib\\site-packages\\jinja2\\environment.py\", line 832, in handle_exception\n",
      "    reraise(*rewrite_traceback_stack(source=source))\n",
      "  File \"C:\\Users\\bcohe\\anaconda3\\lib\\site-packages\\jinja2\\_compat.py\", line 28, in reraise\n",
      "    raise value.with_traceback(tb)\n",
      "  File \"C:\\Users\\bcohe\\OneDrive\\Documents\\GitHub\\pinkasfloyd1337.github.io\\templates\\table.html\", line 1, in template\n",
      "    <!DOCTYPE html><html><head><meta charset=\"utf-8\"><meta name=\"viewport\" content=\"width=device-width, initial-scale=1.0, shrink-to-fit=no\"><title>Table - Brand</title><link rel=\"stylesheet\" href=\"assets/bootstrap/css/bootstrap.min.css\"><link rel=\"stylesheet\" href=\"https://fonts.googleapis.com/css?family=Nunito:200,200i,300,300i,400,400i,600,600i,700,700i,800,800i,900,900i\"><link rel=\"stylesheet\" href=\"assets/fonts/fontawesome-all.min.css\"><link rel=\"stylesheet\" href=\"assets/fonts/font-awesome.min.css\"><link rel=\"stylesheet\" href=\"assets/fonts/material-icons.min.css\"><link rel=\"stylesheet\" href=\"assets/fonts/fontawesome5-overrides.min.css\"></head><body id=\"page-top\"><div id=\"wrapper\"><nav class=\"navbar navbar-dark align-items-start sidebar sidebar-dark accordion bg-gradient-primary p-0\"><div class=\"container-fluid d-flex flex-column p-0\"><a class=\"navbar-brand d-flex justify-content-center align-items-center sidebar-brand m-0\" href=\"#\"><div class=\"sidebar-brand-icon rotate-n-15\"><i class=\"fas fa-laugh-wink\"></i></div><div class=\"sidebar-brand-text mx-3\"><span>Brand</span></div></a><hr class=\"sidebar-divider my-0\"><ul class=\"navbar-nav text-light\" id=\"accordionSidebar\"><li class=\"nav-item\"><a class=\"nav-link\" href=\"index.html\"><i class=\"fas fa-tachometer-alt\"></i><span>Dashboard</span></a></li><li class=\"nav-item\"><a class=\"nav-link\" href=\"profile.html\"><i class=\"fas fa-user\"></i><span>Profile</span></a></li><li class=\"nav-item\"><a class=\"nav-link active\" href=\"table.html\"><i class=\"fas fa-table\"></i><span>Table</span></a></li><li class=\"nav-item\"><a class=\"nav-link\" href=\"login.html\"><i class=\"far fa-user-circle\"></i><span>Login</span></a></li><li class=\"nav-item\"><a class=\"nav-link\" href=\"register.html\"><i class=\"fas fa-user-circle\"></i><span>Register</span></a></li></ul><div class=\"text-center d-none d-md-inline\"><button class=\"btn rounded-circle border-0\" id=\"sidebarToggle\" type=\"button\"></button></div></div></nav><div class=\"d-flex flex-column\" id=\"content-wrapper\"><div id=\"content\"><nav class=\"navbar navbar-light navbar-expand bg-white shadow mb-4 topbar static-top\"><div class=\"container-fluid\"><button class=\"btn btn-link d-md-none rounded-circle me-3\" id=\"sidebarToggleTop\" type=\"button\"><i class=\"fas fa-bars\"></i></button><form class=\"d-none d-sm-inline-block me-auto ms-md-3 my-2 my-md-0 mw-100 navbar-search\"><div class=\"input-group\"><input class=\"bg-light form-control border-0 small\" type=\"text\" placeholder=\"Search for ...\"><button class=\"btn btn-primary py-0\" type=\"button\"><i class=\"fas fa-search\"></i></button></div></form><ul class=\"navbar-nav flex-nowrap ms-auto\"><li class=\"nav-item dropdown d-sm-none no-arrow\"><a class=\"dropdown-toggle nav-link\" aria-expanded=\"false\" data-bs-toggle=\"dropdown\" href=\"#\"><i class=\"fas fa-search\"></i></a><div class=\"dropdown-menu dropdown-menu-end p-3 animated--grow-in\" aria-labelledby=\"searchDropdown\"><form class=\"me-auto navbar-search w-100\"><div class=\"input-group\"><input class=\"bg-light form-control border-0 small\" type=\"text\" placeholder=\"Search for ...\"><div class=\"input-group-append\"><button class=\"btn btn-primary py-0\" type=\"button\"><i class=\"fas fa-search\"></i></button></div></div></form></div></li><li class=\"nav-item dropdown no-arrow mx-1\"><div class=\"nav-item dropdown no-arrow\"><a class=\"dropdown-toggle nav-link\" aria-expanded=\"false\" data-bs-toggle=\"dropdown\" href=\"#\"><span class=\"badge bg-danger badge-counter\">3+</span><i class=\"fas fa-bell fa-fw\"></i></a><div class=\"dropdown-menu dropdown-menu-end dropdown-list animated--grow-in\"><h6 class=\"dropdown-header\">alerts center</h6><a class=\"dropdown-item d-flex align-items-center\" href=\"#\"><div class=\"me-3\"><div class=\"bg-primary icon-circle\"><i class=\"fas fa-file-alt text-white\"></i></div></div><div><span class=\"small text-gray-500\">December 12, 2019</span><p>A new monthly report is ready to download!</p></div></a><a class=\"dropdown-item d-flex align-items-center\" href=\"#\"><div class=\"me-3\"><div class=\"bg-success icon-circle\"><i class=\"fas fa-donate text-white\"></i></div></div><div><span class=\"small text-gray-500\">December 7, 2019</span><p>$290.29 has been deposited into your account!</p></div></a><a class=\"dropdown-item d-flex align-items-center\" href=\"#\"><div class=\"me-3\"><div class=\"bg-warning icon-circle\"><i class=\"fas fa-exclamation-triangle text-white\"></i></div></div><div><span class=\"small text-gray-500\">December 2, 2019</span><p>Spending Alert: We've noticed unusually high spending for your account.</p></div></a><a class=\"dropdown-item text-center small text-gray-500\" href=\"#\">Show All Alerts</a></div></div></li><li class=\"nav-item dropdown no-arrow mx-1\"><div class=\"nav-item dropdown no-arrow\"><a class=\"dropdown-toggle nav-link\" aria-expanded=\"false\" data-bs-toggle=\"dropdown\" href=\"#\"><span class=\"badge bg-danger badge-counter\">7</span><i class=\"fas fa-envelope fa-fw\"></i></a><div class=\"dropdown-menu dropdown-menu-end dropdown-list animated--grow-in\"><h6 class=\"dropdown-header\">alerts center</h6><a class=\"dropdown-item d-flex align-items-center\" href=\"#\"><div class=\"dropdown-list-image me-3\"><img class=\"rounded-circle\" src=\"assets/img/avatars/avatar4.jpeg\"><div class=\"bg-success status-indicator\"></div></div><div class=\"fw-bold\"><div class=\"text-truncate\"><span>Hi there! I am wondering if you can help me with a problem I've been having.</span></div><p class=\"small text-gray-500 mb-0\">Emily Fowler - 58m</p></div></a><a class=\"dropdown-item d-flex align-items-center\" href=\"#\"><div class=\"dropdown-list-image me-3\"><img class=\"rounded-circle\" src=\"assets/img/avatars/avatar2.jpeg\"><div class=\"status-indicator\"></div></div><div class=\"fw-bold\"><div class=\"text-truncate\"><span>I have the photos that you ordered last month!</span></div><p class=\"small text-gray-500 mb-0\">Jae Chun - 1d</p></div></a><a class=\"dropdown-item d-flex align-items-center\" href=\"#\"><div class=\"dropdown-list-image me-3\"><img class=\"rounded-circle\" src=\"assets/img/avatars/avatar3.jpeg\"><div class=\"bg-warning status-indicator\"></div></div><div class=\"fw-bold\"><div class=\"text-truncate\"><span>Last month's report looks great, I am very happy with the progress so far, keep up the good work!</span></div><p class=\"small text-gray-500 mb-0\">Morgan Alvarez - 2d</p></div></a><a class=\"dropdown-item d-flex align-items-center\" href=\"#\"><div class=\"dropdown-list-image me-3\"><img class=\"rounded-circle\" src=\"assets/img/avatars/avatar5.jpeg\"><div class=\"bg-success status-indicator\"></div></div><div class=\"fw-bold\"><div class=\"text-truncate\"><span>Am I a good boy? The reason I ask is because someone told me that people say this to all dogs, even if they aren't good...</span></div><p class=\"small text-gray-500 mb-0\">Chicken the Dog · 2w</p></div></a><a class=\"dropdown-item text-center small text-gray-500\" href=\"#\">Show All Alerts</a></div></div><div class=\"shadow dropdown-list dropdown-menu dropdown-menu-end\" aria-labelledby=\"alertsDropdown\"></div></li><div class=\"d-none d-sm-block topbar-divider\"></div><li class=\"nav-item dropdown no-arrow\"><div class=\"nav-item dropdown no-arrow\"><a class=\"dropdown-toggle nav-link\" aria-expanded=\"false\" data-bs-toggle=\"dropdown\" href=\"#\"><span class=\"d-none d-lg-inline me-2 text-gray-600 small\">Valerie Luna</span><img class=\"border rounded-circle img-profile\" src=\"assets/img/avatars/avatar1.jpeg\"></a><div class=\"dropdown-menu shadow dropdown-menu-end animated--grow-in\"><a class=\"dropdown-item\" href=\"#\"><i class=\"fas fa-user fa-sm fa-fw me-2 text-gray-400\"></i>&nbsp;Profile</a><a class=\"dropdown-item\" href=\"#\"><i class=\"fas fa-cogs fa-sm fa-fw me-2 text-gray-400\"></i>&nbsp;Settings</a><a class=\"dropdown-item\" href=\"#\"><i class=\"fas fa-list fa-sm fa-fw me-2 text-gray-400\"></i>&nbsp;Activity log</a><div class=\"dropdown-divider\"></div><a class=\"dropdown-item\" href=\"#\"><i class=\"fas fa-sign-out-alt fa-sm fa-fw me-2 text-gray-400\"></i>&nbsp;Logout</a></div></div></li></ul></div></nav><div class=\"container-fluid\"><h3 class=\"text-dark mb-4\">{{Year}}</h3><div class=\"card shadow\"><div class=\"card-header py-3\"><p class=\"text-primary m-0 fw-bold\">{{Year}] Finances</p></div><div class=\"card-body\"><div class=\"row\"><div class=\"col-md-6 text-nowrap\"><div id=\"dataTable_length\" class=\"dataTables_length\" aria-controls=\"dataTable\"><label class=\"form-label\">Show&nbsp;<select class=\"d-inline-block form-select form-select-sm\"><option value=\"10\" selected=\"\">10</option><option value=\"25\">25</option><option value=\"50\">50</option><option value=\"100\">100</option></select>&nbsp;</label></div></div><div class=\"col-md-6 text-nowrap\"><div id=\"dataTable_length-1\" class=\"dataTables_length\" aria-controls=\"dataTable\"><label class=\"form-label\">Show&nbsp;<select class=\"d-inline-block form-select form-select-sm\">\n",
      "jinja2.exceptions.TemplateSyntaxError: unexpected '}'\n"
     ]
    },
    {
     "name": "stderr",
     "output_type": "stream",
     "text": [
      "127.0.0.1 - - [19/Aug/2022 11:32:10] \"\u001b[35m\u001b[1mGET /finances HTTP/1.1\u001b[0m\" 500 -\n"
     ]
    }
   ],
   "source": [
    "from flask import Flask, render_template\n",
    "app = Flask(__name__)\n",
    "\n",
    "@app.route('/', methods=['GET', 'POST'])\n",
    "def dashboard():\n",
    "    return render_template('index.html')\n",
    "\n",
    "@app.route('/table.html', methods=['GET', 'POST'])\n",
    "def finances():\n",
    "    return render_template('table.html')\n",
    "\n",
    "if __name__ == '__main__':\n",
    "    app.run()"
   ]
  },
  {
   "cell_type": "code",
   "execution_count": null,
   "id": "b9585069",
   "metadata": {},
   "outputs": [],
   "source": []
  }
 ],
 "metadata": {
  "kernelspec": {
   "display_name": "Python 3",
   "language": "python",
   "name": "python3"
  },
  "language_info": {
   "codemirror_mode": {
    "name": "ipython",
    "version": 3
   },
   "file_extension": ".py",
   "mimetype": "text/x-python",
   "name": "python",
   "nbconvert_exporter": "python",
   "pygments_lexer": "ipython3",
   "version": "3.8.10"
  }
 },
 "nbformat": 4,
 "nbformat_minor": 5
}
