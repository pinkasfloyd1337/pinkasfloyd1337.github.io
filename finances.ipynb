{
 "cells": [
  {
   "cell_type": "code",
   "execution_count": 942,
   "id": "0f8f96ad",
   "metadata": {},
   "outputs": [],
   "source": [
    "import pandas as pd\n",
    "from datetime import datetime\n",
    "import numpy as np"
   ]
  },
  {
   "cell_type": "code",
   "execution_count": 943,
   "id": "38a31ca7",
   "metadata": {},
   "outputs": [],
   "source": [
    "income_sheet = pd.read_excel('Goal.xlsx', sheet_name = 'Income', index_col = 0)"
   ]
  },
  {
   "cell_type": "code",
   "execution_count": 944,
   "id": "634c661c",
   "metadata": {},
   "outputs": [
    {
     "data": {
      "text/plain": [
       "108397.58"
      ]
     },
     "execution_count": 944,
     "metadata": {},
     "output_type": "execute_result"
    }
   ],
   "source": [
    "income = income_sheet['Yearly']['Base Pay']\n",
    "income"
   ]
  },
  {
   "cell_type": "code",
   "execution_count": 945,
   "id": "ce70d31b",
   "metadata": {},
   "outputs": [
    {
     "data": {
      "text/plain": [
       "8671.8064"
      ]
     },
     "execution_count": 945,
     "metadata": {},
     "output_type": "execute_result"
    }
   ],
   "source": [
    "k_401 = income * 0.08\n",
    "k_401"
   ]
  },
  {
   "cell_type": "code",
   "execution_count": 946,
   "id": "961d5922",
   "metadata": {},
   "outputs": [
    {
     "data": {
      "text/plain": [
       "280.317258375074"
      ]
     },
     "execution_count": 946,
     "metadata": {},
     "output_type": "execute_result"
    }
   ],
   "source": [
    "benefits = income * 0.0025860103\n",
    "benefits"
   ]
  },
  {
   "cell_type": "code",
   "execution_count": 947,
   "id": "d6bece1a",
   "metadata": {},
   "outputs": [
    {
     "data": {
      "text/plain": [
       "16873.51504223664"
      ]
     },
     "execution_count": 947,
     "metadata": {},
     "output_type": "execute_result"
    }
   ],
   "source": [
    "federal_tax = income * 0.155663208\n",
    "federal_tax"
   ]
  },
  {
   "cell_type": "code",
   "execution_count": 948,
   "id": "c1214884",
   "metadata": {},
   "outputs": [
    {
     "data": {
      "text/plain": [
       "6754.493949985422"
      ]
     },
     "execution_count": 948,
     "metadata": {},
     "output_type": "execute_result"
    }
   ],
   "source": [
    "ss = income * 0.0623122209\n",
    "ss"
   ]
  },
  {
   "cell_type": "code",
   "execution_count": 949,
   "id": "12dea13c",
   "metadata": {},
   "outputs": [
    {
     "data": {
      "text/plain": [
       "1579.664557078628"
      ]
     },
     "execution_count": 949,
     "metadata": {},
     "output_type": "execute_result"
    }
   ],
   "source": [
    "medicare = income * 0.0145728766\n",
    "medicare"
   ]
  },
  {
   "cell_type": "code",
   "execution_count": 950,
   "id": "129e0471",
   "metadata": {},
   "outputs": [
    {
     "data": {
      "text/plain": [
       "74237.78279232423"
      ]
     },
     "execution_count": 950,
     "metadata": {},
     "output_type": "execute_result"
    }
   ],
   "source": [
    "net_pay = income - k_401 - benefits - federal_tax - ss - medicare\n",
    "net_pay"
   ]
  },
  {
   "cell_type": "code",
   "execution_count": 951,
   "id": "1a87aa75",
   "metadata": {},
   "outputs": [
    {
     "data": {
      "text/html": [
       "<div>\n",
       "<style scoped>\n",
       "    .dataframe tbody tr th:only-of-type {\n",
       "        vertical-align: middle;\n",
       "    }\n",
       "\n",
       "    .dataframe tbody tr th {\n",
       "        vertical-align: top;\n",
       "    }\n",
       "\n",
       "    .dataframe thead th {\n",
       "        text-align: right;\n",
       "    }\n",
       "</style>\n",
       "<table border=\"1\" class=\"dataframe\">\n",
       "  <thead>\n",
       "    <tr style=\"text-align: right;\">\n",
       "      <th></th>\n",
       "      <th>Date</th>\n",
       "      <th>Description</th>\n",
       "      <th>Original Description</th>\n",
       "      <th>Amount</th>\n",
       "      <th>Transaction Type</th>\n",
       "      <th>Category</th>\n",
       "      <th>Account Name</th>\n",
       "      <th>Labels</th>\n",
       "      <th>Notes</th>\n",
       "    </tr>\n",
       "  </thead>\n",
       "  <tbody>\n",
       "    <tr>\n",
       "      <th>0</th>\n",
       "      <td>8/22/2022</td>\n",
       "      <td>BLUESTONE ANALYT CACI INTER PB0771 082222</td>\n",
       "      <td>BLUESTONE ANALYT CACI INTER PB0771 082222</td>\n",
       "      <td>3093.29</td>\n",
       "      <td>credit</td>\n",
       "      <td>Paycheck</td>\n",
       "      <td>5/3 ESSENTIAL CHECKING</td>\n",
       "      <td>NaN</td>\n",
       "      <td>NaN</td>\n",
       "    </tr>\n",
       "    <tr>\n",
       "      <th>1</th>\n",
       "      <td>8/20/2022</td>\n",
       "      <td>SMARTRIP WASHINGTON DC</td>\n",
       "      <td>SMARTRIP WASHINGTON DC</td>\n",
       "      <td>50.00</td>\n",
       "      <td>debit</td>\n",
       "      <td>Public Transportation</td>\n",
       "      <td>CREDIT CARD</td>\n",
       "      <td>NaN</td>\n",
       "      <td>NaN</td>\n",
       "    </tr>\n",
       "    <tr>\n",
       "      <th>2</th>\n",
       "      <td>8/20/2022</td>\n",
       "      <td>Too Good To Go Inc.</td>\n",
       "      <td>Too Good To Go Inc.</td>\n",
       "      <td>3.99</td>\n",
       "      <td>debit</td>\n",
       "      <td>Restaurants</td>\n",
       "      <td>CREDIT CARD</td>\n",
       "      <td>NaN</td>\n",
       "      <td>NaN</td>\n",
       "    </tr>\n",
       "    <tr>\n",
       "      <th>3</th>\n",
       "      <td>8/19/2022</td>\n",
       "      <td>GIANT 2381</td>\n",
       "      <td>GIANT 2381</td>\n",
       "      <td>83.91</td>\n",
       "      <td>debit</td>\n",
       "      <td>Groceries</td>\n",
       "      <td>CREDIT CARD</td>\n",
       "      <td>NaN</td>\n",
       "      <td>NaN</td>\n",
       "    </tr>\n",
       "    <tr>\n",
       "      <th>4</th>\n",
       "      <td>8/19/2022</td>\n",
       "      <td>AMTRAK MOBIL2290740145425</td>\n",
       "      <td>AMTRAK MOBIL2290740145425</td>\n",
       "      <td>16.00</td>\n",
       "      <td>debit</td>\n",
       "      <td>Public Transportation</td>\n",
       "      <td>CREDIT CARD</td>\n",
       "      <td>NaN</td>\n",
       "      <td>NaN</td>\n",
       "    </tr>\n",
       "    <tr>\n",
       "      <th>...</th>\n",
       "      <td>...</td>\n",
       "      <td>...</td>\n",
       "      <td>...</td>\n",
       "      <td>...</td>\n",
       "      <td>...</td>\n",
       "      <td>...</td>\n",
       "      <td>...</td>\n",
       "      <td>...</td>\n",
       "      <td>...</td>\n",
       "    </tr>\n",
       "    <tr>\n",
       "      <th>2634</th>\n",
       "      <td>12/08/2019</td>\n",
       "      <td>Brendan Cohen Charged</td>\n",
       "      <td>Brendan Cohen Charged Keith Cook</td>\n",
       "      <td>5.87</td>\n",
       "      <td>credit</td>\n",
       "      <td>Utilities</td>\n",
       "      <td>Venmo</td>\n",
       "      <td>NaN</td>\n",
       "      <td>NaN</td>\n",
       "    </tr>\n",
       "    <tr>\n",
       "      <th>2635</th>\n",
       "      <td>12/07/2019</td>\n",
       "      <td>Ok Per Inch</td>\n",
       "      <td>Ok $1 per inch</td>\n",
       "      <td>5.87</td>\n",
       "      <td>credit</td>\n",
       "      <td>Restaurants</td>\n",
       "      <td>Venmo</td>\n",
       "      <td>NaN</td>\n",
       "      <td>NaN</td>\n",
       "    </tr>\n",
       "    <tr>\n",
       "      <th>2636</th>\n",
       "      <td>12/07/2019</td>\n",
       "      <td>Raising Cane's</td>\n",
       "      <td>RAISING CANES #RCC19 CINCINNATI OH</td>\n",
       "      <td>7.06</td>\n",
       "      <td>debit</td>\n",
       "      <td>Restaurants</td>\n",
       "      <td>DISCOVER IT CHROME CARD</td>\n",
       "      <td>NaN</td>\n",
       "      <td>NaN</td>\n",
       "    </tr>\n",
       "    <tr>\n",
       "      <th>2637</th>\n",
       "      <td>12/06/2019</td>\n",
       "      <td>Brendan Cohen Charged</td>\n",
       "      <td>Brendan Cohen Charged Justin Mormol</td>\n",
       "      <td>5.87</td>\n",
       "      <td>credit</td>\n",
       "      <td>Utilities</td>\n",
       "      <td>Venmo</td>\n",
       "      <td>NaN</td>\n",
       "      <td>NaN</td>\n",
       "    </tr>\n",
       "    <tr>\n",
       "      <th>2638</th>\n",
       "      <td>12/06/2019</td>\n",
       "      <td>Wal-Mart</td>\n",
       "      <td>WAL-MART SC - #2250 CINCINNATI OH</td>\n",
       "      <td>23.48</td>\n",
       "      <td>debit</td>\n",
       "      <td>Shopping</td>\n",
       "      <td>DISCOVER IT CHROME CARD</td>\n",
       "      <td>NaN</td>\n",
       "      <td>NaN</td>\n",
       "    </tr>\n",
       "  </tbody>\n",
       "</table>\n",
       "<p>2639 rows × 9 columns</p>\n",
       "</div>"
      ],
      "text/plain": [
       "            Date                                Description  \\\n",
       "0      8/22/2022  BLUESTONE ANALYT CACI INTER PB0771 082222   \n",
       "1      8/20/2022                     SMARTRIP WASHINGTON DC   \n",
       "2      8/20/2022                        Too Good To Go Inc.   \n",
       "3      8/19/2022                                 GIANT 2381   \n",
       "4      8/19/2022                  AMTRAK MOBIL2290740145425   \n",
       "...          ...                                        ...   \n",
       "2634  12/08/2019                      Brendan Cohen Charged   \n",
       "2635  12/07/2019                                Ok Per Inch   \n",
       "2636  12/07/2019                             Raising Cane's   \n",
       "2637  12/06/2019                      Brendan Cohen Charged   \n",
       "2638  12/06/2019                                   Wal-Mart   \n",
       "\n",
       "                           Original Description   Amount Transaction Type  \\\n",
       "0     BLUESTONE ANALYT CACI INTER PB0771 082222  3093.29           credit   \n",
       "1                        SMARTRIP WASHINGTON DC    50.00            debit   \n",
       "2                           Too Good To Go Inc.     3.99            debit   \n",
       "3                                    GIANT 2381    83.91            debit   \n",
       "4                     AMTRAK MOBIL2290740145425    16.00            debit   \n",
       "...                                         ...      ...              ...   \n",
       "2634           Brendan Cohen Charged Keith Cook     5.87           credit   \n",
       "2635                             Ok $1 per inch     5.87           credit   \n",
       "2636         RAISING CANES #RCC19 CINCINNATI OH     7.06            debit   \n",
       "2637        Brendan Cohen Charged Justin Mormol     5.87           credit   \n",
       "2638          WAL-MART SC - #2250 CINCINNATI OH    23.48            debit   \n",
       "\n",
       "                   Category             Account Name Labels  Notes  \n",
       "0                  Paycheck   5/3 ESSENTIAL CHECKING    NaN    NaN  \n",
       "1     Public Transportation              CREDIT CARD    NaN    NaN  \n",
       "2               Restaurants              CREDIT CARD    NaN    NaN  \n",
       "3                 Groceries              CREDIT CARD    NaN    NaN  \n",
       "4     Public Transportation              CREDIT CARD    NaN    NaN  \n",
       "...                     ...                      ...    ...    ...  \n",
       "2634              Utilities                    Venmo    NaN    NaN  \n",
       "2635            Restaurants                    Venmo    NaN    NaN  \n",
       "2636            Restaurants  DISCOVER IT CHROME CARD    NaN    NaN  \n",
       "2637              Utilities                    Venmo    NaN    NaN  \n",
       "2638               Shopping  DISCOVER IT CHROME CARD    NaN    NaN  \n",
       "\n",
       "[2639 rows x 9 columns]"
      ]
     },
     "execution_count": 951,
     "metadata": {},
     "output_type": "execute_result"
    }
   ],
   "source": [
    "transactions = pd.read_csv('transactions.csv')\n",
    "transactions"
   ]
  },
  {
   "cell_type": "code",
   "execution_count": 952,
   "id": "e1688034",
   "metadata": {},
   "outputs": [
    {
     "name": "stderr",
     "output_type": "stream",
     "text": [
      "C:\\Users\\bcohe\\anaconda3\\lib\\site-packages\\pandas\\core\\generic.py:5494: SettingWithCopyWarning: \n",
      "A value is trying to be set on a copy of a slice from a DataFrame.\n",
      "Try using .loc[row_indexer,col_indexer] = value instead\n",
      "\n",
      "See the caveats in the documentation: https://pandas.pydata.org/pandas-docs/stable/user_guide/indexing.html#returning-a-view-versus-a-copy\n",
      "  self[name] = value\n"
     ]
    }
   ],
   "source": [
    "debit = transactions[transactions['Transaction Type'] == 'debit']\n",
    "debit.Amount = debit.Amount * -1"
   ]
  },
  {
   "cell_type": "code",
   "execution_count": 953,
   "id": "f86815db",
   "metadata": {},
   "outputs": [],
   "source": [
    "transactions = transactions[transactions['Transaction Type'] == 'credit'].merge(debit, how=\"outer\")"
   ]
  },
  {
   "cell_type": "code",
   "execution_count": 954,
   "id": "82fe2bdb",
   "metadata": {},
   "outputs": [],
   "source": [
    "auto_transport = ['Auto & Transport', 'Auto Insurance', 'Auto Payment', 'Gas & Fuel', 'Parking', 'Public Transportation', 'Ride Share', 'Service & Parts']\n",
    "bills = ['Bills & Utilities', 'Home Phone', 'Internet', 'Mobile Phone', 'Television', 'Utilities']\n",
    "business = ['Business Services', 'Advertising', 'Legal', 'Office Supplies', 'Printing', 'Shipping']\n",
    "education = ['Education', 'Books & Supplies', 'Student Loan', 'Tuition']\n",
    "entertainment = ['Entertainment', 'Amusement', 'Arts', 'Fun', 'Movies & DVDs', 'Music', 'Newspapers & Magazines', 'Streaming']\n",
    "fees = ['Fees & Charges', 'ATM Fee', 'Bank Fee', 'Finance Charge', 'Late Fee', 'Service Fee', 'Trade Commissions']\n",
    "financial = ['Financial', 'Financial Advisor', 'Life Insurance']\n",
    "food = ['Food & Dining', 'Alcohol & Bars', 'All', 'Coffee Shops', 'Fast Food', 'Food Delivery', 'Restaurants']\n",
    "groceries = ['Groceries']\n",
    "gifts = ['Gifts & Donations', 'Charity', 'Gift']\n",
    "health = ['Health & Fitness', 'Dentist', 'Doctor', 'Eyecare', 'Gym', 'Health Insurance', 'Pharmacy', 'Sports']\n",
    "home = ['Home', 'Furnishings', 'Home Improvement', 'Home Insurance', 'Home Services', 'Home Supplies', 'Lawn & Garden', 'Mortgage & Rent']\n",
    "income = ['Income', 'Bonus', 'Interest Income', 'Reimbursement', 'Rental Income', 'Returned Purchase']\n",
    "paycheck = ['Paycheck']\n",
    "investments = ['Investments', 'Buy', 'Deposit', 'Dividend & Cap Gains', 'Sell', 'Withdrawal']\n",
    "personal_care = ['Personal Care', 'Hair', 'Laundry', 'Spa & Massage']\n",
    "pets = ['Pets', 'Pet Food & Supplies', 'Pet Grooming', 'Veterinary']\n",
    "shopping = ['Shopping', 'Books', 'Clothing', 'Electronics & Software', 'Hobbies', 'Sporting Goods']\n",
    "transfer = ['Transfer', 'Credit Card Payment', 'Savings', 'Transfer for Cash Spending']\n",
    "travel = ['Travel', 'Air Travel', 'Hotel', 'Rental Car & Taxi', 'Vacation']"
   ]
  },
  {
   "cell_type": "code",
   "execution_count": 955,
   "id": "584e98fa",
   "metadata": {},
   "outputs": [],
   "source": [
    "df = pd.DataFrame(transactions, columns=['Date', 'Category', 'Description', 'Amount', 'Account Name'])\n",
    "df['Category'] = np.where(df['Category'].isin(auto_transport), 'Auto & Transport',\n",
    "                        np.where(df['Category'].isin(bills), 'Bills & Utilities', \n",
    "                        np.where(df['Category'].isin(business), 'Business Services',\n",
    "                        np.where(df['Category'].isin(education), 'Education',\n",
    "                        np.where(df['Category'].isin(entertainment), 'Entertainment',\n",
    "                        np.where(df['Category'].isin(fees), 'Fees & Charges',\n",
    "                        np.where(df['Category'].isin(financial), 'Financial',\n",
    "                        np.where(df['Category'].isin(food), 'Food & Dining',\n",
    "                        np.where(df['Category'].isin(groceries), 'Groceries',\n",
    "                        np.where(df['Category'].isin(gifts), 'Gifts & Donations',\n",
    "                        np.where(df['Category'].isin(health), 'Health & Fitness',\n",
    "                        np.where(df['Category'].isin(home), 'Home',\n",
    "                        np.where(df['Category'].isin(income), 'Income',\n",
    "                        np.where(df['Category'].isin(paycheck), 'Paycheck',\n",
    "                        np.where(df['Category'].isin(investments), 'Investments',\n",
    "                        np.where(df['Category'].isin(personal_care), 'Personal Care',\n",
    "                        np.where(df['Category'].isin(pets), 'Pets',\n",
    "                        np.where(df['Category'].isin(shopping), 'Shopping',\n",
    "                        np.where(df['Category'].isin(transfer), 'Transfer',\n",
    "                        np.where(df['Category'].isin(travel), 'Travel',\n",
    "                'Other'))))))))))))))))))))\n",
    "df['Expenses'] = np.where(df['Category'].isin(auto_transport), 1,\n",
    "                        np.where(df['Category'].isin(bills), 1, \n",
    "                        np.where(df['Category'].isin(business), 1,\n",
    "                        np.where(df['Category'].isin(education), 1,\n",
    "                        np.where(df['Category'].isin(entertainment), 1,\n",
    "                        np.where(df['Category'].isin(fees), 0,\n",
    "                        np.where(df['Category'].isin(financial), 0,\n",
    "                        np.where(df['Category'].isin(food), 1,\n",
    "                        np.where(df['Category'].isin(groceries), 1,\n",
    "                        np.where(df['Category'].isin(gifts), 0,\n",
    "                        np.where(df['Category'].isin(health), 1,\n",
    "                        np.where(df['Category'].isin(home), 1,\n",
    "                        np.where(df['Category'].isin(income), 0,\n",
    "                        np.where(df['Category'].isin(paycheck), 0,\n",
    "                        np.where(df['Category'].isin(investments), 0,\n",
    "                        np.where(df['Category'].isin(personal_care), 1,\n",
    "                        np.where(df['Category'].isin(pets), 1,\n",
    "                        np.where(df['Category'].isin(shopping), 1,\n",
    "                        np.where(df['Category'].isin(transfer), 0,\n",
    "                        np.where(df['Category'].isin(travel), 1,\n",
    "                1))))))))))))))))))))\n",
    "df['Budget'] = np.where(df['Category'].isin(auto_transport), 190,\n",
    "                        np.where(df['Category'].isin(bills), 100, \n",
    "                        np.where(df['Category'].isin(business), 10,\n",
    "                        np.where(df['Category'].isin(education), 45,\n",
    "                        np.where(df['Category'].isin(entertainment), 75,\n",
    "                        np.where(df['Category'].isin(fees), 0,\n",
    "                        np.where(df['Category'].isin(financial), 0,\n",
    "                        np.where(df['Category'].isin(food), 315,\n",
    "                        np.where(df['Category'].isin(groceries), 320,\n",
    "                        np.where(df['Category'].isin(gifts), 0,\n",
    "                        np.where(df['Category'].isin(health), 105,\n",
    "                        np.where(df['Category'].isin(home), 1700,\n",
    "                        np.where(df['Category'].isin(income), 0,\n",
    "                        np.where(df['Category'].isin(paycheck), 0,\n",
    "                        np.where(df['Category'].isin(investments), 0,\n",
    "                        np.where(df['Category'].isin(personal_care), 0,\n",
    "                        np.where(df['Category'].isin(pets), 100,\n",
    "                        np.where(df['Category'].isin(shopping), 190,\n",
    "                        np.where(df['Category'].isin(transfer), 10,\n",
    "                        np.where(df['Category'].isin(travel), 190,\n",
    "                1))))))))))))))))))))"
   ]
  },
  {
   "cell_type": "code",
   "execution_count": 956,
   "id": "549d8788",
   "metadata": {},
   "outputs": [
    {
     "data": {
      "text/html": [
       "<div>\n",
       "<style scoped>\n",
       "    .dataframe tbody tr th:only-of-type {\n",
       "        vertical-align: middle;\n",
       "    }\n",
       "\n",
       "    .dataframe tbody tr th {\n",
       "        vertical-align: top;\n",
       "    }\n",
       "\n",
       "    .dataframe thead th {\n",
       "        text-align: right;\n",
       "    }\n",
       "</style>\n",
       "<table border=\"1\" class=\"dataframe\">\n",
       "  <thead>\n",
       "    <tr style=\"text-align: right;\">\n",
       "      <th></th>\n",
       "      <th>Date</th>\n",
       "      <th>Category</th>\n",
       "      <th>Description</th>\n",
       "      <th>Amount</th>\n",
       "      <th>Account Name</th>\n",
       "      <th>Expenses</th>\n",
       "      <th>Budget</th>\n",
       "    </tr>\n",
       "  </thead>\n",
       "  <tbody>\n",
       "    <tr>\n",
       "      <th>0</th>\n",
       "      <td>8/22/2022</td>\n",
       "      <td>Paycheck</td>\n",
       "      <td>BLUESTONE ANALYT CACI INTER PB0771 082222</td>\n",
       "      <td>3093.29</td>\n",
       "      <td>5/3 ESSENTIAL CHECKING</td>\n",
       "      <td>0</td>\n",
       "      <td>0</td>\n",
       "    </tr>\n",
       "    <tr>\n",
       "      <th>1</th>\n",
       "      <td>8/18/2022</td>\n",
       "      <td>Gifts &amp; Donations</td>\n",
       "      <td>Congratulations on graduation and you Birthday...</td>\n",
       "      <td>150.00</td>\n",
       "      <td>Venmo</td>\n",
       "      <td>0</td>\n",
       "      <td>0</td>\n",
       "    </tr>\n",
       "    <tr>\n",
       "      <th>2</th>\n",
       "      <td>8/16/2022</td>\n",
       "      <td>Transfer</td>\n",
       "      <td>Payment Thank You-Mobile</td>\n",
       "      <td>165.91</td>\n",
       "      <td>CREDIT CARD</td>\n",
       "      <td>0</td>\n",
       "      <td>10</td>\n",
       "    </tr>\n",
       "    <tr>\n",
       "      <th>3</th>\n",
       "      <td>8/16/2022</td>\n",
       "      <td>Transfer</td>\n",
       "      <td>Payment Thank You-Mobile</td>\n",
       "      <td>588.29</td>\n",
       "      <td>CREDIT CARD</td>\n",
       "      <td>0</td>\n",
       "      <td>10</td>\n",
       "    </tr>\n",
       "    <tr>\n",
       "      <th>4</th>\n",
       "      <td>8/12/2022</td>\n",
       "      <td>Investments</td>\n",
       "      <td>Apple Market Buy</td>\n",
       "      <td>0.07</td>\n",
       "      <td>Robinhood Investments</td>\n",
       "      <td>0</td>\n",
       "      <td>0</td>\n",
       "    </tr>\n",
       "    <tr>\n",
       "      <th>...</th>\n",
       "      <td>...</td>\n",
       "      <td>...</td>\n",
       "      <td>...</td>\n",
       "      <td>...</td>\n",
       "      <td>...</td>\n",
       "      <td>...</td>\n",
       "      <td>...</td>\n",
       "    </tr>\n",
       "    <tr>\n",
       "      <th>2634</th>\n",
       "      <td>12/10/2019</td>\n",
       "      <td>Shopping</td>\n",
       "      <td>Target</td>\n",
       "      <td>-30.33</td>\n",
       "      <td>DISCOVER IT CHROME CARD</td>\n",
       "      <td>1</td>\n",
       "      <td>190</td>\n",
       "    </tr>\n",
       "    <tr>\n",
       "      <th>2635</th>\n",
       "      <td>12/08/2019</td>\n",
       "      <td>Food &amp; Dining</td>\n",
       "      <td>Melk</td>\n",
       "      <td>-2.69</td>\n",
       "      <td>Venmo</td>\n",
       "      <td>1</td>\n",
       "      <td>315</td>\n",
       "    </tr>\n",
       "    <tr>\n",
       "      <th>2636</th>\n",
       "      <td>12/08/2019</td>\n",
       "      <td>Health &amp; Fitness</td>\n",
       "      <td>Half of Keiths medical bills</td>\n",
       "      <td>-10.00</td>\n",
       "      <td>Venmo</td>\n",
       "      <td>1</td>\n",
       "      <td>105</td>\n",
       "    </tr>\n",
       "    <tr>\n",
       "      <th>2637</th>\n",
       "      <td>12/07/2019</td>\n",
       "      <td>Food &amp; Dining</td>\n",
       "      <td>Raising Cane's</td>\n",
       "      <td>-7.06</td>\n",
       "      <td>DISCOVER IT CHROME CARD</td>\n",
       "      <td>1</td>\n",
       "      <td>315</td>\n",
       "    </tr>\n",
       "    <tr>\n",
       "      <th>2638</th>\n",
       "      <td>12/06/2019</td>\n",
       "      <td>Shopping</td>\n",
       "      <td>Wal-Mart</td>\n",
       "      <td>-23.48</td>\n",
       "      <td>DISCOVER IT CHROME CARD</td>\n",
       "      <td>1</td>\n",
       "      <td>190</td>\n",
       "    </tr>\n",
       "  </tbody>\n",
       "</table>\n",
       "<p>2639 rows × 7 columns</p>\n",
       "</div>"
      ],
      "text/plain": [
       "            Date           Category  \\\n",
       "0      8/22/2022           Paycheck   \n",
       "1      8/18/2022  Gifts & Donations   \n",
       "2      8/16/2022           Transfer   \n",
       "3      8/16/2022           Transfer   \n",
       "4      8/12/2022        Investments   \n",
       "...          ...                ...   \n",
       "2634  12/10/2019           Shopping   \n",
       "2635  12/08/2019      Food & Dining   \n",
       "2636  12/08/2019   Health & Fitness   \n",
       "2637  12/07/2019      Food & Dining   \n",
       "2638  12/06/2019           Shopping   \n",
       "\n",
       "                                            Description   Amount  \\\n",
       "0             BLUESTONE ANALYT CACI INTER PB0771 082222  3093.29   \n",
       "1     Congratulations on graduation and you Birthday...   150.00   \n",
       "2                              Payment Thank You-Mobile   165.91   \n",
       "3                              Payment Thank You-Mobile   588.29   \n",
       "4                                      Apple Market Buy     0.07   \n",
       "...                                                 ...      ...   \n",
       "2634                                             Target   -30.33   \n",
       "2635                                               Melk    -2.69   \n",
       "2636                       Half of Keiths medical bills   -10.00   \n",
       "2637                                     Raising Cane's    -7.06   \n",
       "2638                                           Wal-Mart   -23.48   \n",
       "\n",
       "                 Account Name  Expenses  Budget  \n",
       "0      5/3 ESSENTIAL CHECKING         0       0  \n",
       "1                       Venmo         0       0  \n",
       "2                 CREDIT CARD         0      10  \n",
       "3                 CREDIT CARD         0      10  \n",
       "4       Robinhood Investments         0       0  \n",
       "...                       ...       ...     ...  \n",
       "2634  DISCOVER IT CHROME CARD         1     190  \n",
       "2635                    Venmo         1     315  \n",
       "2636                    Venmo         1     105  \n",
       "2637  DISCOVER IT CHROME CARD         1     315  \n",
       "2638  DISCOVER IT CHROME CARD         1     190  \n",
       "\n",
       "[2639 rows x 7 columns]"
      ]
     },
     "execution_count": 956,
     "metadata": {},
     "output_type": "execute_result"
    }
   ],
   "source": [
    "df"
   ]
  },
  {
   "cell_type": "code",
   "execution_count": 957,
   "id": "fb6b56e5",
   "metadata": {},
   "outputs": [
    {
     "data": {
      "text/plain": [
       "datetime.date(2022, 8, 21)"
      ]
     },
     "execution_count": 957,
     "metadata": {},
     "output_type": "execute_result"
    }
   ],
   "source": [
    "from datetime import date, timedelta\n",
    "\n",
    "year, week_num, day_of_week = date.today().isocalendar()\n",
    "\n",
    "today = date.today()\n",
    "start = today - timedelta(days=today.weekday())\n",
    "end = start + timedelta(days=6)\n",
    "\n",
    "this_week = start.strftime(\"%m/%d/%Y\")\n",
    "year = date.today().year\n",
    "today"
   ]
  },
  {
   "cell_type": "code",
   "execution_count": 958,
   "id": "029542f3",
   "metadata": {},
   "outputs": [],
   "source": [
    "df['Date'] = df['Date'].apply(lambda x: datetime.strptime(x, '%m/%d/%Y'))\n",
    "df['week'] = df['Date'].dt.isocalendar().week\n",
    "df['day'] = df['Date'].dt.day\n",
    "df['month'] = df['Date'].dt.month\n",
    "df['year'] = df['Date'].dt.year"
   ]
  },
  {
   "cell_type": "code",
   "execution_count": 959,
   "id": "b71cfd41",
   "metadata": {},
   "outputs": [],
   "source": [
    "df_expenses = df[df['Expenses'] == 1]\n",
    "expenses_week = df_expenses[df_expenses['year'] == date.today().year].groupby('week').sum()['Amount']\n",
    "if indexExists(expenses_week, week_num):\n",
    "    expenses_week = expenses_week[week_num]\n",
    "else:\n",
    "    expenses_week = 0"
   ]
  },
  {
   "cell_type": "code",
   "execution_count": 960,
   "id": "0ce01f89",
   "metadata": {},
   "outputs": [
    {
     "data": {
      "text/plain": [
       "-127.72425287356322"
      ]
     },
     "execution_count": 960,
     "metadata": {},
     "output_type": "execute_result"
    }
   ],
   "source": [
    "expenses_per_day = cal_average(df_expenses[df_expenses['year'] == date.today().year].groupby('Date').sum()['Amount'])\n",
    "expenses_per_day"
   ]
  },
  {
   "cell_type": "code",
   "execution_count": 961,
   "id": "42bf7863",
   "metadata": {},
   "outputs": [
    {
     "data": {
      "text/plain": [
       "-653.6476470588236"
      ]
     },
     "execution_count": 961,
     "metadata": {},
     "output_type": "execute_result"
    }
   ],
   "source": [
    "expenses_per_week = cal_average(df_expenses[df_expenses['year'] == date.today().year].groupby('week').sum()['Amount'])\n",
    "expenses_per_week"
   ]
  },
  {
   "cell_type": "code",
   "execution_count": 962,
   "id": "1863cb7f",
   "metadata": {},
   "outputs": [
    {
     "data": {
      "text/plain": [
       "-2778.0025"
      ]
     },
     "execution_count": 962,
     "metadata": {},
     "output_type": "execute_result"
    }
   ],
   "source": [
    "expenses_per_month = cal_average(df_expenses[df_expenses['year'] == date.today().year].groupby('month').sum()['Amount'])\n",
    "expenses_per_month"
   ]
  },
  {
   "cell_type": "code",
   "execution_count": 963,
   "id": "88b32b28",
   "metadata": {},
   "outputs": [
    {
     "data": {
      "text/plain": [
       "-22224.020000000008"
      ]
     },
     "execution_count": 963,
     "metadata": {},
     "output_type": "execute_result"
    }
   ],
   "source": [
    "expenses_this_year = cal_average(df_expenses[df_expenses['year'] == date.today().year].groupby('year').sum()['Amount'])\n",
    "expenses_this_year"
   ]
  },
  {
   "cell_type": "code",
   "execution_count": 964,
   "id": "4cfaa80d",
   "metadata": {},
   "outputs": [
    {
     "data": {
      "text/plain": [
       "22615.23"
      ]
     },
     "execution_count": 964,
     "metadata": {},
     "output_type": "execute_result"
    }
   ],
   "source": [
    "income_this_year = df[df['Category'] == 'Paycheck'].groupby('year').sum()['Amount'][date.today().year]\n",
    "income_this_year"
   ]
  },
  {
   "cell_type": "code",
   "execution_count": 965,
   "id": "c34e4de5",
   "metadata": {},
   "outputs": [
    {
     "data": {
      "text/plain": [
       "233"
      ]
     },
     "execution_count": 965,
     "metadata": {},
     "output_type": "execute_result"
    }
   ],
   "source": [
    "day_of_year = int(date.today().strftime('%j'))\n",
    "day_of_year"
   ]
  },
  {
   "cell_type": "code",
   "execution_count": 966,
   "id": "fa501283",
   "metadata": {},
   "outputs": [],
   "source": [
    "income_per_day = df[df['Category'] == 'Paycheck']\n",
    "income_per_day = income_per_day[income_per_day['year'] == 2022]\n",
    "income_per_day = income_per_day['Amount'].sum()/day_of_year"
   ]
  },
  {
   "cell_type": "code",
   "execution_count": 967,
   "id": "9b0df05d",
   "metadata": {},
   "outputs": [],
   "source": [
    "df_income = df[df['Category'] == 'Paycheck']\n",
    "income_week = df_income[df_income['year'] == date.today().year].groupby('week').sum()['Amount']\n",
    "if indexExists(income_week, week_num):\n",
    "    income_week = income_week[week_num]\n",
    "else:\n",
    "    income_week = 0"
   ]
  },
  {
   "cell_type": "code",
   "execution_count": 968,
   "id": "90cfac4d",
   "metadata": {},
   "outputs": [],
   "source": [
    "df_2022 = df_expenses[df_expenses.year == 2022]\n",
    "this_month = df_2022[df_2022.month == date.today().month]"
   ]
  },
  {
   "cell_type": "code",
   "execution_count": 969,
   "id": "a1443527",
   "metadata": {},
   "outputs": [
    {
     "data": {
      "text/plain": [
       "-1675.51"
      ]
     },
     "execution_count": 969,
     "metadata": {},
     "output_type": "execute_result"
    }
   ],
   "source": [
    "expenses_by_cat = this_month.groupby('Category').sum()['Amount']\n",
    "budget_by_cat = this_month.groupby('Category').mean()['Budget']\n",
    "df_b = budget_by_cat.to_frame()\n",
    "df_e = expenses_by_cat.to_frame()\n",
    "df_this_month = df_e.merge(df_b, left_index=True, right_index = True).sort_values(by='Amount')\n",
    "df_this_month.values[0][0]"
   ]
  },
  {
   "cell_type": "code",
   "execution_count": 970,
   "id": "188ec861",
   "metadata": {},
   "outputs": [],
   "source": [
    "sorted_index = df_this_month.index\n",
    "sorted_values = df_this_month.values"
   ]
  },
  {
   "cell_type": "code",
   "execution_count": 972,
   "id": "2be6729a",
   "metadata": {},
   "outputs": [
    {
     "name": "stdout",
     "output_type": "stream",
     "text": [
      "<h4 class=\"small fw-bold\">Home<span class=\"float-end\">1675.51</span></h4><div class=\"progress mb-4\"><div class=\"progress-bar bg-danger\" aria-valuenow=\"1675.51\" aria-valuemin=\"0\" aria-valuemax=\"1700.0\" style=\"width:98.56%;\"><span class=\"visually-hidden\">$1,675.51</span></div></div>\n",
      "<h4 class=\"small fw-bold\">Food & Dining<span class=\"float-end\">348.57</span></h4><div class=\"progress mb-4\"><div class=\"progress-bar bg-danger\" aria-valuenow=\"348.57\" aria-valuemin=\"0\" aria-valuemax=\"315.0\" style=\"width:110.66%;\"><span class=\"visually-hidden\">$348.57</span></div></div>\n",
      "<h4 class=\"small fw-bold\">Shopping<span class=\"float-end\">255.5</span></h4><div class=\"progress mb-4\"><div class=\"progress-bar bg-danger\" aria-valuenow=\"255.5\" aria-valuemin=\"0\" aria-valuemax=\"190.0\" style=\"width:134.47%;\"><span class=\"visually-hidden\">$255.50</span></div></div>\n",
      "<h4 class=\"small fw-bold\">Groceries<span class=\"float-end\">179.3</span></h4><div class=\"progress mb-4\"><div class=\"progress-bar bg-danger\" aria-valuenow=\"179.3\" aria-valuemin=\"0\" aria-valuemax=\"320.0\" style=\"width:56.03%;\"><span class=\"visually-hidden\">$179.30</span></div></div>\n",
      "<h4 class=\"small fw-bold\">Auto & Transport<span class=\"float-end\">94.0</span></h4><div class=\"progress mb-4\"><div class=\"progress-bar bg-danger\" aria-valuenow=\"94.0\" aria-valuemin=\"0\" aria-valuemax=\"190.0\" style=\"width:49.47%;\"><span class=\"visually-hidden\">$94.00</span></div></div>\n",
      "<h4 class=\"small fw-bold\">Bills & Utilities<span class=\"float-end\">70.14</span></h4><div class=\"progress mb-4\"><div class=\"progress-bar bg-danger\" aria-valuenow=\"70.14\" aria-valuemin=\"0\" aria-valuemax=\"100.0\" style=\"width:70.14%;\"><span class=\"visually-hidden\">$70.14</span></div></div>\n",
      "<h4 class=\"small fw-bold\">Personal Care<span class=\"float-end\">32.0</span></h4><div class=\"progress mb-4\"><div class=\"progress-bar bg-danger\" aria-valuenow=\"32.0\" aria-valuemin=\"0\" aria-valuemax=\"0.0\" style=\"width:0%;\"><span class=\"visually-hidden\">$32.00</span></div></div>\n",
      "<h4 class=\"small fw-bold\">Travel<span class=\"float-end\">30.0</span></h4><div class=\"progress mb-4\"><div class=\"progress-bar bg-danger\" aria-valuenow=\"30.0\" aria-valuemin=\"0\" aria-valuemax=\"190.0\" style=\"width:15.79%;\"><span class=\"visually-hidden\">$30.00</span></div></div>\n",
      "<h4 class=\"small fw-bold\">Health & Fitness<span class=\"float-end\">26.88</span></h4><div class=\"progress mb-4\"><div class=\"progress-bar bg-danger\" aria-valuenow=\"26.88\" aria-valuemin=\"0\" aria-valuemax=\"105.0\" style=\"width:25.6%;\"><span class=\"visually-hidden\">$26.88</span></div></div>\n",
      "<h4 class=\"small fw-bold\">Entertainment<span class=\"float-end\">5.37</span></h4><div class=\"progress mb-4\"><div class=\"progress-bar bg-danger\" aria-valuenow=\"5.37\" aria-valuemin=\"0\" aria-valuemax=\"75.0\" style=\"width:7.16%;\"><span class=\"visually-hidden\">$5.37</span></div></div>\n"
     ]
    },
    {
     "data": {
      "text/plain": [
       "[]"
      ]
     },
     "execution_count": 972,
     "metadata": {},
     "output_type": "execute_result"
    }
   ],
   "source": [
    "category_len = len(this_month.groupby('Category').sum()['Amount'])\n",
    "budgets = []\n",
    "for i in range(0, category_len):\n",
    "    cat = f\"{sorted_index[i]}\"\n",
    "    cat_num = f\"{round(sorted_values[i][0]*-1, 2)}\"\n",
    "    cat_max = f\"{round(sorted_values[i][1], 2)}\"\n",
    "    if float(cat_num) == 0 or float(cat_max) == 0:\n",
    "        cat_style = 0\n",
    "    else:\n",
    "        cat_style = round(float(cat_num) / float(cat_max)*100, 2)\n",
    "    print(f\"\"\"<h4 class=\"small fw-bold\">{cat}<span class=\"float-end\">{cat_num}</span></h4><div class=\"progress mb-4\"><div class=\"progress-bar bg-danger\" aria-valuenow=\"{cat_num}\" aria-valuemin=\"0\" aria-valuemax=\"{cat_max}\" style=\"width:{cat_style}%;\"><span class=\"visually-hidden\">{formatting(float(cat_num))}</span></div></div>\"\"\")\n",
    "budgets"
   ]
  },
  {
   "cell_type": "code",
   "execution_count": 659,
   "id": "6bc8095e",
   "metadata": {},
   "outputs": [],
   "source": [
    "def indexExists(list,index):\n",
    "    try:\n",
    "        list[index]\n",
    "        return True\n",
    "    except KeyError:\n",
    "        return False"
   ]
  },
  {
   "cell_type": "code",
   "execution_count": 660,
   "id": "1a3d953e",
   "metadata": {},
   "outputs": [],
   "source": [
    "def cal_average(num):\n",
    "    sum_num = 0\n",
    "    for t in num:\n",
    "        sum_num = sum_num + t           \n",
    "\n",
    "    avg = sum_num / len(num)\n",
    "    return avg"
   ]
  },
  {
   "cell_type": "code",
   "execution_count": 670,
   "id": "1188e087",
   "metadata": {},
   "outputs": [],
   "source": [
    "def formatting(amount):\n",
    "    if amount < 0:\n",
    "        amount = amount * -1\n",
    "        amount = \"-${:,.2f}\".format(amount)\n",
    "        color = '\"color:red\"'\n",
    "    else:\n",
    "        amount = \"${:,.2f}\".format(amount)\n",
    "        color = '\"color:black\"'\n",
    "    return amount"
   ]
  },
  {
   "cell_type": "code",
   "execution_count": 671,
   "id": "eb14329f",
   "metadata": {},
   "outputs": [],
   "source": [
    "sheet = pd.read_excel('Goal.xlsx', sheet_name = '2022', index_col = 0, header = 9)\n",
    "sheet['Start of Week']  = sheet['Start of Week'][:52].map(lambda x: datetime.strptime(str(x), \"%B-%d-%Y\").date())\n",
    "in_savings = float(sheet[sheet['Start of Week'] == start]['Savings End'][0])\n",
    "for_investment = float(sheet[sheet['Start of Week'] == start]['End For Investment'][0])\n",
    "net_worth = float(sheet[sheet['Start of Week'] == start]['In Investment'][0]) + in_savings + for_investment\n",
    "progress = pd.read_excel('Goal.xlsx', sheet_name = 'Budget')\n",
    "progress = float(progress['Unnamed: 1'][6]) - net_worth"
   ]
  },
  {
   "cell_type": "code",
   "execution_count": 934,
   "id": "05798ca1",
   "metadata": {},
   "outputs": [
    {
     "name": "stdout",
     "output_type": "stream",
     "text": [
      " * Serving Flask app \"__main__\" (lazy loading)\n",
      " * Environment: production\n",
      "\u001b[31m   WARNING: This is a development server. Do not use it in a production deployment.\u001b[0m\n",
      "\u001b[2m   Use a production WSGI server instead.\u001b[0m\n",
      " * Debug mode: off\n"
     ]
    },
    {
     "name": "stderr",
     "output_type": "stream",
     "text": [
      " * Running on http://127.0.0.1:5000/ (Press CTRL+C to quit)\n",
      "127.0.0.1 - - [21/Aug/2022 16:36:15] \"\u001b[37mGET / HTTP/1.1\u001b[0m\" 200 -\n",
      "127.0.0.1 - - [21/Aug/2022 16:36:15] \"\u001b[33mGET /static/https://fonts.googleapis.com/css%3Ffamily%3DNunito:200%2C200i%2C300%2C300i%2C400%2C400i%2C600%2C600i%2C700%2C700i%2C800%2C800i%2C900%2C900i HTTP/1.1\u001b[0m\" 404 -\n",
      "127.0.0.1 - - [21/Aug/2022 16:36:15] \"\u001b[33mGET /assets/bootstrap/js/bootstrap.min.js HTTP/1.1\u001b[0m\" 404 -\n",
      "127.0.0.1 - - [21/Aug/2022 16:36:15] \"\u001b[33mGET /assets/js/script.min.js HTTP/1.1\u001b[0m\" 404 -\n",
      "127.0.0.1 - - [21/Aug/2022 16:36:24] \"\u001b[33mGET /static/https://fonts.googleapis.com/css%3Ffamily%3DNunito:200%2C200i%2C300%2C300i%2C400%2C400i%2C600%2C600i%2C700%2C700i%2C800%2C800i%2C900%2C900i HTTP/1.1\u001b[0m\" 404 -\n"
     ]
    }
   ],
   "source": [
    "from flask import Flask, render_template\n",
    "## from flask import Flask, render_template\n",
    "app = Flask(__name__)\n",
    "\n",
    "@app.route('/', methods=['GET', 'POST'])\n",
    "def dashboard():\n",
    "    return render_template('index.html', \n",
    "    income_this_week = formatting(income_week), expenses_this_week = formatting(expenses_week), \n",
    "    this_week = this_week, net_worth = formatting(net_worth), left = formatting(progress),\n",
    "    expenses_per_day = formatting(expenses_per_day), expenses_per_week = formatting(expenses_per_week), \n",
    "    expenses_per_month = formatting(expenses_per_month), expenses_this_year = formatting(expenses_this_year),\n",
    "    income_this_year = formatting(income_this_year), income_per_day = formatting(income_per_day), in_savings = formatting(in_savings),\n",
    "    for_investment = formatting(for_investment), budgets = budgets)\n",
    "\n",
    "@app.route('/table.html', methods=['GET', 'POST'])\n",
    "def finances():\n",
    "    return render_template('table.html')\n",
    "\n",
    "if __name__ == '__main__':\n",
    "    app.run()"
   ]
  },
  {
   "cell_type": "code",
   "execution_count": null,
   "id": "380bc89d",
   "metadata": {},
   "outputs": [],
   "source": []
  },
  {
   "cell_type": "code",
   "execution_count": null,
   "id": "c6570f7e",
   "metadata": {},
   "outputs": [],
   "source": []
  }
 ],
 "metadata": {
  "kernelspec": {
   "display_name": "Python 3",
   "language": "python",
   "name": "python3"
  },
  "language_info": {
   "codemirror_mode": {
    "name": "ipython",
    "version": 3
   },
   "file_extension": ".py",
   "mimetype": "text/x-python",
   "name": "python",
   "nbconvert_exporter": "python",
   "pygments_lexer": "ipython3",
   "version": "3.8.10"
  }
 },
 "nbformat": 4,
 "nbformat_minor": 5
}
