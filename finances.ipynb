{
 "cells": [
  {
   "cell_type": "code",
   "execution_count": 35,
   "id": "0f8f96ad",
   "metadata": {},
   "outputs": [],
   "source": [
    "import pandas as pd\n",
    "from datetime import datetime\n",
    "import numpy as np\n",
    "from datetime import date, timedelta\n",
    "from IPython.display import HTML"
   ]
  },
  {
   "cell_type": "code",
   "execution_count": 36,
   "id": "d788a3f7",
   "metadata": {},
   "outputs": [],
   "source": [
    "def indexExists(list,index):\n",
    "    try:\n",
    "        list[index]\n",
    "        return True\n",
    "    except KeyError:\n",
    "        return False"
   ]
  },
  {
   "cell_type": "code",
   "execution_count": 37,
   "id": "9929dc3b",
   "metadata": {},
   "outputs": [],
   "source": [
    "def cal_average(num):\n",
    "    sum_num = 0\n",
    "    for t in num:\n",
    "        sum_num = sum_num + t           \n",
    "\n",
    "    avg = sum_num / len(num)\n",
    "    return avg"
   ]
  },
  {
   "cell_type": "code",
   "execution_count": 38,
   "id": "ef3000ed",
   "metadata": {},
   "outputs": [],
   "source": [
    "def formatting(amount):\n",
    "    if amount < 0:\n",
    "        amount = amount * -1\n",
    "        amount = \"-${:,.2f}\".format(amount)\n",
    "    else:\n",
    "        amount = \"${:,.2f}\".format(amount)\n",
    "    return amount"
   ]
  },
  {
   "cell_type": "code",
   "execution_count": 39,
   "id": "38a31ca7",
   "metadata": {},
   "outputs": [],
   "source": [
    "def salary():\n",
    "    income = 108397.58\n",
    "    k_401 = income * 0.08\n",
    "    benefits = income * 0.0025860103\n",
    "    federal_tax = income * 0.155663208\n",
    "    ss = income * 0.0623122209\n",
    "    medicare = income * 0.0145728766\n",
    "    net_pay = income - k_401 - benefits - federal_tax - ss - medicare\n",
    "    return [income, k_401, benefits, federal_tax, ss, medicare, net_pay]"
   ]
  },
  {
   "cell_type": "code",
   "execution_count": 40,
   "id": "1a87aa75",
   "metadata": {},
   "outputs": [],
   "source": [
    "def transactions():\n",
    "    transactions = pd.read_csv('transactions.csv')\n",
    "    debit = transactions[transactions['Transaction Type'] == 'debit']\n",
    "    debit.Amount = debit.Amount * -1\n",
    "    transactions = transactions[transactions['Transaction Type'] == 'credit'].merge(debit, how=\"outer\")\n",
    "    return transactions"
   ]
  },
  {
   "cell_type": "code",
   "execution_count": null,
   "id": "0addb10a",
   "metadata": {},
   "outputs": [
    {
     "name": "stderr",
     "output_type": "stream",
     "text": [
      "C:\\Users\\bcohe\\anaconda3\\lib\\site-packages\\pandas\\core\\generic.py:5494: SettingWithCopyWarning: \n",
      "A value is trying to be set on a copy of a slice from a DataFrame.\n",
      "Try using .loc[row_indexer,col_indexer] = value instead\n",
      "\n",
      "See the caveats in the documentation: https://pandas.pydata.org/pandas-docs/stable/user_guide/indexing.html#returning-a-view-versus-a-copy\n",
      "  self[name] = value\n"
     ]
    }
   ],
   "source": [
    "def df_processed(transactions = transactions()):\n",
    "    df = pd.DataFrame(transactions, columns=['Date', 'Category', 'Description', 'Amount', 'Account Name'])\n",
    "    auto_transport = ['Auto & Transport', 'Auto Insurance', 'Auto Payment', 'Gas & Fuel', 'Parking', 'Public Transportation', 'Ride Share', 'Service & Parts']\n",
    "    bills = ['Bills & Utilities', 'Home Phone', 'Internet', 'Mobile Phone', 'Television', 'Utilities']\n",
    "    business = ['Business Services', 'Advertising', 'Legal', 'Office Supplies', 'Printing', 'Shipping']\n",
    "    education = ['Education', 'Books & Supplies', 'Student Loan', 'Tuition']\n",
    "    entertainment = ['Entertainment', 'Amusement', 'Arts', 'Fun', 'Movies & DVDs', 'Music', 'Newspapers & Magazines', 'Streaming']\n",
    "    fees = ['Fees & Charges', 'ATM Fee', 'Bank Fee', 'Finance Charge', 'Late Fee', 'Service Fee', 'Trade Commissions']\n",
    "    financial = ['Financial', 'Financial Advisor', 'Life Insurance']\n",
    "    food = ['Food & Dining', 'Alcohol & Bars', 'All', 'Coffee Shops', 'Fast Food', 'Food Delivery', 'Restaurants']\n",
    "    groceries = ['Groceries']\n",
    "    gifts = ['Gifts & Donations', 'Charity', 'Gift']\n",
    "    health = ['Health & Fitness', 'Dentist', 'Doctor', 'Eyecare', 'Gym', 'Health Insurance', 'Pharmacy', 'Sports']\n",
    "    home = ['Home', 'Furnishings', 'Home Improvement', 'Home Insurance', 'Home Services', 'Home Supplies', 'Lawn & Garden', 'Mortgage & Rent']\n",
    "    income = ['Income', 'Bonus', 'Interest Income', 'Reimbursement', 'Rental Income', 'Returned Purchase']\n",
    "    paycheck = ['Paycheck']\n",
    "    investments = ['Investments', 'Buy', 'Deposit', 'Dividend & Cap Gains', 'Sell', 'Withdrawal']\n",
    "    personal_care = ['Personal Care', 'Hair', 'Laundry', 'Spa & Massage']\n",
    "    pets = ['Pets', 'Pet Food & Supplies', 'Pet Grooming', 'Veterinary']\n",
    "    shopping = ['Shopping', 'Books', 'Clothing', 'Electronics & Software', 'Hobbies', 'Sporting Goods']\n",
    "    transfer = ['Transfer', 'Credit Card Payment', 'Savings', 'Transfer for Cash Spending']\n",
    "    travel = ['Travel', 'Air Travel', 'Hotel', 'Rental Car & Taxi', 'Vacation']\n",
    "    df['Category'] = np.where(df['Category'].isin(auto_transport), 'Auto & Transport',\n",
    "                            np.where(df['Category'].isin(bills), 'Bills & Utilities', \n",
    "                            np.where(df['Category'].isin(business), 'Business Services',\n",
    "                            np.where(df['Category'].isin(education), 'Education',\n",
    "                            np.where(df['Category'].isin(entertainment), 'Entertainment',\n",
    "                            np.where(df['Category'].isin(fees), 'Fees & Charges',\n",
    "                            np.where(df['Category'].isin(financial), 'Financial',\n",
    "                            np.where(df['Category'].isin(food), 'Food & Dining',\n",
    "                            np.where(df['Category'].isin(groceries), 'Groceries',\n",
    "                            np.where(df['Category'].isin(gifts), 'Gifts & Donations',\n",
    "                            np.where(df['Category'].isin(health), 'Health & Fitness',\n",
    "                            np.where(df['Category'].isin(home), 'Home',\n",
    "                            np.where(df['Category'].isin(income), 'Income',\n",
    "                            np.where(df['Category'].isin(paycheck), 'Paycheck',\n",
    "                            np.where(df['Category'].isin(investments), 'Investments',\n",
    "                            np.where(df['Category'].isin(personal_care), 'Personal Care',\n",
    "                            np.where(df['Category'].isin(pets), 'Pets',\n",
    "                            np.where(df['Category'].isin(shopping), 'Shopping',\n",
    "                            np.where(df['Category'].isin(transfer), 'Transfer',\n",
    "                            np.where(df['Category'].isin(travel), 'Travel',\n",
    "                    'Other'))))))))))))))))))))\n",
    "    df['Expenses'] = np.where(df['Category'].isin(auto_transport), 1,\n",
    "                            np.where(df['Category'].isin(bills), 1, \n",
    "                            np.where(df['Category'].isin(business), 1,\n",
    "                            np.where(df['Category'].isin(education), 1,\n",
    "                            np.where(df['Category'].isin(entertainment), 1,\n",
    "                            np.where(df['Category'].isin(fees), 0,\n",
    "                            np.where(df['Category'].isin(financial), 0,\n",
    "                            np.where(df['Category'].isin(food), 1,\n",
    "                            np.where(df['Category'].isin(groceries), 1,\n",
    "                            np.where(df['Category'].isin(gifts), 0,\n",
    "                            np.where(df['Category'].isin(health), 1,\n",
    "                            np.where(df['Category'].isin(home), 1,\n",
    "                            np.where(df['Category'].isin(income), 0,\n",
    "                            np.where(df['Category'].isin(paycheck), 0,\n",
    "                            np.where(df['Category'].isin(investments), 0,\n",
    "                            np.where(df['Category'].isin(personal_care), 1,\n",
    "                            np.where(df['Category'].isin(pets), 1,\n",
    "                            np.where(df['Category'].isin(shopping), 1,\n",
    "                            np.where(df['Category'].isin(transfer), 0,\n",
    "                            np.where(df['Category'].isin(travel), 1,\n",
    "                    1))))))))))))))))))))\n",
    "    df['Budget'] = np.where(df['Category'].isin(auto_transport), 190,\n",
    "                            np.where(df['Category'].isin(bills), 100, \n",
    "                            np.where(df['Category'].isin(business), 10,\n",
    "                            np.where(df['Category'].isin(education), 45,\n",
    "                            np.where(df['Category'].isin(entertainment), 75,\n",
    "                            np.where(df['Category'].isin(fees), 0,\n",
    "                            np.where(df['Category'].isin(financial), 0,\n",
    "                            np.where(df['Category'].isin(food), 315,\n",
    "                            np.where(df['Category'].isin(groceries), 320,\n",
    "                            np.where(df['Category'].isin(gifts), 0,\n",
    "                            np.where(df['Category'].isin(health), 105,\n",
    "                            np.where(df['Category'].isin(home), 1700,\n",
    "                            np.where(df['Category'].isin(income), 0,\n",
    "                            np.where(df['Category'].isin(paycheck), 0,\n",
    "                            np.where(df['Category'].isin(investments), 0,\n",
    "                            np.where(df['Category'].isin(personal_care), 0,\n",
    "                            np.where(df['Category'].isin(pets), 100,\n",
    "                            np.where(df['Category'].isin(shopping), 190,\n",
    "                            np.where(df['Category'].isin(transfer), 10,\n",
    "                            np.where(df['Category'].isin(travel), 190,\n",
    "                    1))))))))))))))))))))\n",
    "    df['Date'] = df['Date'].apply(lambda x: datetime.strptime(x, '%m/%d/%Y'))\n",
    "    df['Week'] = df['Date'].dt.isocalendar().week\n",
    "    df['Day'] = df['Date'].dt.day\n",
    "    df['Month'] = df['Date'].dt.month\n",
    "    df['Year'] = df['Date'].dt.year\n",
    "    return df"
   ]
  },
  {
   "cell_type": "code",
   "execution_count": null,
   "id": "ce7c28a4",
   "metadata": {},
   "outputs": [],
   "source": [
    "def df_checking(df = df_processed(), year = date.today().year):\n",
    "    #get only checking account info\n",
    "    df_checking = df[df['Account Name'] == '5/3 ESSENTIAL CHECKING']\n",
    "    df_checking = df_checking[df_checking['Year'] == year].groupby(['Week', 'Year']).sum()['Amount'].to_frame()\n",
    "    return df_checking"
   ]
  },
  {
   "cell_type": "code",
   "execution_count": 42,
   "id": "d79b0ad1",
   "metadata": {},
   "outputs": [],
   "source": [
    "def process_dates():\n",
    "    year, week_num, day_of_week = date.today().isocalendar()\n",
    "\n",
    "    today = date.today()\n",
    "    start = today - timedelta(days=today.weekday())\n",
    "    end = start + timedelta(days=6)\n",
    "\n",
    "    this_week = start.strftime(\"%m/%d/%Y\")\n",
    "    month_num = today.month\n",
    "    day_of_year = int(date.today().strftime('%j'))\n",
    "    return [year, week_num, this_week, day_of_year, start]"
   ]
  },
  {
   "cell_type": "code",
   "execution_count": 43,
   "id": "373136da",
   "metadata": {},
   "outputs": [],
   "source": [
    "transactions_df = pd.DataFrame(df_processed(), columns=['Date', 'Category', 'Description', 'Amount'])\n",
    "tables = [transactions_df.head(10).to_html(classes='table table-stripped', index = False)]"
   ]
  },
  {
   "cell_type": "code",
   "execution_count": 44,
   "id": "3175bdf1",
   "metadata": {},
   "outputs": [],
   "source": [
    "last_transaction = df_processed()['Date'].dt.date.max()"
   ]
  },
  {
   "cell_type": "code",
   "execution_count": 45,
   "id": "ce41dd78",
   "metadata": {},
   "outputs": [],
   "source": [
    "def expenses_week(df = df_processed(), week_num = process_dates()[1], year = date.today().year):\n",
    "    df_expenses = df[df['Expenses'] == 1]\n",
    "    expenses_week = df_expenses[df_expenses['Year'] == year].groupby('Week').sum()['Amount']\n",
    "    if indexExists(expenses_week, week_num):\n",
    "        expenses_week = round(expenses_week[week_num], 2)\n",
    "    else:\n",
    "        expenses_week = round(0, 2)\n",
    "    return expenses_week"
   ]
  },
  {
   "cell_type": "code",
   "execution_count": 46,
   "id": "ee97f111",
   "metadata": {},
   "outputs": [],
   "source": [
    "def expenses_month(df = df_processed(), month_num = date.today().month, year = date.today().year):\n",
    "    df_expenses = df[df['Expenses'] == 1]\n",
    "    df_expenses = df_expenses[df_expenses['Year'] == year]\n",
    "    expenses_month = df_expenses[df_expenses['Month'] == date.today().month].groupby('Month').sum()['Amount']\n",
    "    if indexExists(expenses_month, month_num):\n",
    "        expenses_this_month = round(expenses_month[month_num], 2)\n",
    "    else:\n",
    "        expenses_this_month = round(0, 2)\n",
    "    return expenses_this_month"
   ]
  },
  {
   "cell_type": "code",
   "execution_count": 47,
   "id": "761ee113",
   "metadata": {},
   "outputs": [],
   "source": [
    "def budget_per_month(df = df_processed(), year = date.today().year):\n",
    "    df_expenses = df[df['Expenses'] == 1]\n",
    "    budget_per_month = df_expenses[df_expenses['Year'] == year].groupby('Category').mean()['Budget'].sum()\n",
    "    return budget_per_month"
   ]
  },
  {
   "cell_type": "code",
   "execution_count": 48,
   "id": "887beab6",
   "metadata": {},
   "outputs": [],
   "source": [
    "def average_expenses(df = df_processed(), year = date.today().year):\n",
    "    df_expenses = df[df['Expenses'] == 1]\n",
    "    expenses_per_day = cal_average(df_expenses[df_expenses['Year'] == year].groupby('Date').sum()['Amount'])\n",
    "    expenses_per_week = cal_average(df_expenses[df_expenses['Year'] == year].groupby('Week').sum()['Amount'])\n",
    "    expenses_per_month = cal_average(df_expenses[df_expenses['Year'] == year].groupby('Month').sum()['Amount'])\n",
    "    expenses_this_year = cal_average(df_expenses[df_expenses['Year'] == year].groupby('Year').sum()['Amount'])\n",
    "    df_2023 = df_expenses[df_expenses.Year == year]\n",
    "    this_month = df_2023[df_2023.Month == date.today().month]\n",
    "    return [expenses_per_day, expenses_per_week, expenses_per_month, expenses_this_year, this_month]"
   ]
  },
  {
   "cell_type": "code",
   "execution_count": 49,
   "id": "9da429a8",
   "metadata": {},
   "outputs": [],
   "source": [
    "def average_income(df = df_processed(), day_of_year = process_dates()[3], year = date.today().year):\n",
    "    income_this_year = df[df['Category'] == 'Paycheck'].groupby('Year').sum()['Amount'][year]\n",
    "    income_per_day = df[df['Category'] == 'Paycheck']\n",
    "    income_per_day = income_per_day[income_per_day['Year'] == year]\n",
    "    income_per_day = income_per_day['Amount'].sum()/day_of_year\n",
    "    return [income_this_year, income_per_day]"
   ]
  },
  {
   "cell_type": "code",
   "execution_count": 50,
   "id": "69698302",
   "metadata": {},
   "outputs": [],
   "source": [
    "def income_week(df = df_processed(), week_num = process_dates()[1], year = date.today().year):\n",
    "    df_income = df[df['Category'] == 'Paycheck']\n",
    "    income_week = df_income[df_income['Year'] == year].groupby('Week').sum()['Amount']\n",
    "    if indexExists(income_week, week_num):\n",
    "        income_weeks = income_week[week_num]\n",
    "    else:\n",
    "        income_weeks = round(0, 2)\n",
    "    return income_weeks"
   ]
  },
  {
   "cell_type": "code",
   "execution_count": null,
   "id": "ecfbfb48",
   "metadata": {},
   "outputs": [],
   "source": [
    "def goal_sheet(start, end, years = date.today().year):\n",
    "    index = [i for i in range(start, end)]\n",
    "    year_list = [years for i in range(start, end)]\n",
    "    income_weeks = [income_week(week_num = i, year=years) for i in range(start, end)]\n",
    "    checking = df_checking(year = years)\n",
    "    df = pd.DataFrame(income_weeks, columns=['Income'])\n",
    "    df['Week'] = index\n",
    "    df['Year'] = year_list\n",
    "    df['Expenses'] = [expenses_week(week_num = i, year=years) for i in range(start, end)]\n",
    "    df['Net'] = df['Income'] + df['Expenses']\n",
    "    df.set_index(['Week', 'Year'], inplace = True)\n",
    "    df = df.merge(checking, how='left', on  = ['Week', 'Year'])\n",
    "    df = df.fillna(0)\n",
    "    if years == 2022:\n",
    "        df.loc[(1, 2022), 'Checking Beginning'] = 2078.33\n",
    "        df['Checking End'] = df['Checking Beginning'] + df['Amount']\n",
    "        for row, value in df.iterrows():\n",
    "            if row[0] > 1:\n",
    "                df.loc[row, 'Checking Beginning'] = df.loc[(row[0]-1, years), 'Checking End']\n",
    "                df.loc[row, 'Checking End'] = df.loc[row, 'Checking Beginning'] + df.loc[row, 'Amount']\n",
    "    elif years < 2022:\n",
    "        df.loc[(52, years), 'Checking End'] = 2078.33\n",
    "        df.loc[(52, years), 'Checking Beginning'] = df.loc[(52, years), 'Checking End'] - df.loc[(52, years), 'Amount']\n",
    "        for row, value in df.iterrows():\n",
    "            if row[0] < 52:\n",
    "                df.loc[row, 'Checking End'] = df.loc[(row[0]+1, years), 'Checking Beginning'] \n",
    "                df.loc[row, 'Checking Beginning'] = df.loc[row, 'Checking End'] - df.loc[row, 'Amount']\n",
    "    else:\n",
    "        df.loc[(1, years), 'Checking Beginning'] = goal_sheet(1, 2, years - 1)\n",
    "    return df[['Checking Beginning', 'Income', 'Expenses', 'Net', 'Checking End']]"
   ]
  },
  {
   "cell_type": "code",
   "execution_count": null,
   "id": "9fc5de61",
   "metadata": {},
   "outputs": [],
   "source": [
    "def payschedule():\n",
    "    schedule = ['1/15/2023', '1/31/2023', '2/15/2023', '2/28/2023', '3/15/2023', '3/31/2023', '4/15/2023', '4/30/2023', '5/15/2023', '5/31/2023', '6/15/2023','6/30/2023','7/15/2023','7/31/2023','8/15/2023','8/31/2023','9/15/2023','9/30/2023','10/15/2023','10/31/2023','11/15/2023','11/30/2023','12/15/2023','12/31/2023']\n",
    "    weeks = []\n",
    "    for dates in schedule:\n",
    "        date1 =  datetime.strptime(dates, '%m/%d/%Y')\n",
    "        year, week_num, day_of_week = datetime.date(date1).isocalendar()\n",
    "        weeks.append(week_num)\n",
    "    return weeks"
   ]
  },
  {
   "cell_type": "code",
   "execution_count": null,
   "id": "d2887b29",
   "metadata": {},
   "outputs": [],
   "source": [
    "def future(df = goal_sheet(1, 53, years = 2022), future_years = 2032, checking_balance = 3800, rainy_day = 100000):\n",
    "    expenses = [np.average(df['Expenses']) for i in range(len(list(range(1, 53)) * (future_years-2022)))]\n",
    "    weeks = list(range(1, 53)) * (future_years-2022)\n",
    "    years = []\n",
    "    for i in range(1, future_years-2022+1):\n",
    "        years.append([2022+i] * 52)\n",
    "    years_list = []\n",
    "    for year in years:\n",
    "        for i in year:\n",
    "            years_list.append(i)\n",
    "    new_df = pd.DataFrame(expenses, columns=['Expenses'])\n",
    "    new_df['Week'] = weeks\n",
    "    income = []\n",
    "    for week in weeks:\n",
    "        if week in list(payschedule()):\n",
    "            income.append(3093.27)\n",
    "        else:\n",
    "            income.append(0)\n",
    "    new_df['Income'] = income\n",
    "    new_df['Net'] = new_df['Income'] + new_df['Expenses']\n",
    "    new_df['Year'] = years_list\n",
    "    new_df.set_index(['Week', 'Year'], inplace = True)\n",
    "    new_df.loc[(1, 2023), 'Checking Beginning'] = 4265.78\n",
    "    new_df.loc[(1, 2023), 'Savings End'] = 35000\n",
    "    new_df.loc[(1, 2023), 'After Net'] = new_df.loc[(1, 2023), 'Checking Beginning'] + new_df.loc[(1, 2023), 'Expenses']\n",
    "    \n",
    "    if new_df.loc[(1, 2023), 'After Net'] >= checking_balance and new_df.loc[(1, 2023), 'After Net'] < rainy_day:\n",
    "        new_df.loc[(1, 2023), 'Left'] = new_df.loc[(1, 2023), 'After Net'] - checking_balance\n",
    "    else:\n",
    "        new_df.loc[(1, 2023), 'Left'] = 0\n",
    "        \n",
    "    if new_df.loc[(1, 2023), 'Savings End'] + new_df.loc[(1, 2023), 'Left'] >= rainy_day:\n",
    "        new_df.loc[(1, 2023), 'Add To Savings'] = rainy_day - new_df.loc[(1, 2023), 'Savings End']\n",
    "    elif new_df.loc[(1, 2023), 'Savings End'] + new_df.loc[(1, 2023), 'Left'] < rainy_day:\n",
    "        new_df.loc[(1, 2023), 'Add To Savings'] = 0\n",
    "    \n",
    "    new_df.loc[(1, 2023), 'Checking End'] = new_df.loc[(1, 2023), 'After Net'] - (new_df.loc[(1, 2023), 'Add To Savings'] if new_df.loc[(1, 2023), 'Add To Savings'] == 0 else new_df.loc[(1, 2023), 'Left'])\n",
    "    \n",
    "    for row, value in new_df.iterrows():\n",
    "        if row != (1, 2023) and row[0] != 1:\n",
    "            new_df.loc[row, 'Checking Beginning'] = new_df.loc[(row[0]-1, row[1]), 'Checking End']\n",
    "            new_df.loc[row, 'After Net'] = new_df.loc[row, 'Checking Beginning'] + new_df.loc[row, 'Expenses'] + new_df.loc[row, 'Income']\n",
    "            \n",
    "            if new_df.loc[row, 'After Net'] >= checking_balance and new_df.loc[row, 'After Net'] < rainy_day:\n",
    "                new_df.loc[row, 'Left'] = new_df.loc[row, 'After Net'] - checking_balance\n",
    "            else:\n",
    "                new_df.loc[row, 'Left'] = 0\n",
    "\n",
    "            if new_df.loc[(row[0]-1, row[1]), 'Savings End'] + new_df.loc[row, 'Left'] >= rainy_day:\n",
    "                new_df.loc[row, 'Add To Savings'] = rainy_day - new_df.loc[(row[0]-1, row[1]), 'Savings End']\n",
    "            elif new_df.loc[(row[0]-1, row[1]), 'Savings End'] + new_df.loc[row, 'Left'] < rainy_day:\n",
    "                new_df.loc[row, 'Add To Savings'] = new_df.loc[row, 'Left']\n",
    "            else:\n",
    "                new_df.loc[row, 'Add To Savings'] = 0\n",
    "            \n",
    "            new_df.loc[row, 'Savings End'] = new_df.loc[(row[0]-1, row[1]), 'Savings End'] + new_df.loc[row, 'Add To Savings']\n",
    "            new_df.loc[row, 'Checking End'] = new_df.loc[row, 'After Net'] - (new_df.loc[row, 'Add To Savings'] if new_df.loc[row, 'Add To Savings'] == 0 else new_df.loc[row, 'Left'])\n",
    "        elif row[0] == 1 and row != (1, 2023):\n",
    "            new_df.loc[row, 'Checking Beginning'] = new_df.loc[(52, row[1]-1), 'Checking End']\n",
    "            new_df.loc[row, 'After Net'] = new_df.loc[row, 'Checking Beginning'] + new_df.loc[row, 'Expenses'] + new_df.loc[row, 'Income']\n",
    "            \n",
    "            if new_df.loc[row, 'After Net'] >= checking_balance and new_df.loc[row, 'After Net'] < rainy_day:\n",
    "                new_df.loc[row, 'Left'] = new_df.loc[row, 'After Net'] - checking_balance\n",
    "            else:\n",
    "                new_df.loc[row, 'Left'] = 0\n",
    "\n",
    "            if new_df.loc[(52, row[1]-1), 'Savings End'] + new_df.loc[row, 'Left'] >= rainy_day:\n",
    "                new_df.loc[row, 'Add To Savings'] = rainy_day - new_df.loc[(52, row[1]-1), 'Savings End']\n",
    "            elif new_df.loc[(52, row[1]-1), 'Savings End'] + new_df.loc[row, 'Left'] < rainy_day:\n",
    "                new_df.loc[row, 'Add To Savings'] = new_df.loc[row, 'Left']\n",
    "            else:\n",
    "                new_df.loc[row, 'Add To Savings'] = 0\n",
    "            \n",
    "            new_df.loc[row, 'Savings End'] = new_df.loc[(52, row[1]-1), 'Savings End'] + new_df.loc[row, 'Add To Savings']\n",
    "            new_df.loc[row, 'Checking End'] = new_df.loc[row, 'After Net'] - (new_df.loc[row, 'Add To Savings'] if new_df.loc[row, 'Add To Savings'] == 0 else new_df.loc[row, 'Left'])\n",
    "    return new_df[['Checking Beginning', 'Income', 'Expenses', 'After Net', 'Left', 'Add To Savings', 'Checking End', 'Savings End']]"
   ]
  },
  {
   "cell_type": "code",
   "execution_count": 51,
   "id": "1b138d54",
   "metadata": {},
   "outputs": [],
   "source": [
    "def df_this_month():\n",
    "    this_month = average_expenses()[-1]\n",
    "    expenses_by_cat = this_month.groupby('Category').sum()['Amount']\n",
    "    budget_by_cat = this_month.groupby('Category').mean()['Budget']\n",
    "    df_b = budget_by_cat.to_frame()\n",
    "    df_e = expenses_by_cat.to_frame()\n",
    "    df_this_month = df_e.merge(df_b, left_index=True, right_index = True).sort_values(by='Amount')\n",
    "    return df_this_month"
   ]
  },
  {
   "cell_type": "code",
   "execution_count": 52,
   "id": "06b5c3a0",
   "metadata": {},
   "outputs": [],
   "source": [
    "def get_budgets(this_month = average_expenses()[-1], sorted_values = df_this_month().values, sorted_index = df_this_month().index):\n",
    "    category_len = len(this_month.groupby('Category').sum()['Amount'])\n",
    "    budgets = {}\n",
    "    for i in range(0, category_len):\n",
    "        cat = f\"{sorted_index[i]}\"\n",
    "        cat_num = f\"{round(sorted_values[i][0]*-1, 2)}\"\n",
    "        cat_max = f\"{round(sorted_values[i][1], 2)}\"\n",
    "        if float(cat_num) == 0 or float(cat_max) == 0:\n",
    "            cat_style = 0\n",
    "        else:\n",
    "            cat_style = round(float(cat_num) / float(cat_max)*100, 2)\n",
    "        cat_formatted = formatting(float(cat_num)) + \" / \" + \"${:,.2f}\".format(round(sorted_values[i][1], 2))\n",
    "        budgets[cat] = [cat_num, cat_max, cat_style, cat_formatted]\n",
    "    return budgets"
   ]
  },
  {
   "cell_type": "code",
   "execution_count": 55,
   "id": "73a5c37e",
   "metadata": {},
   "outputs": [],
   "source": [
    "def color_negative_red(value):\n",
    "    if value < 0:\n",
    "        color = 'red'\n",
    "    elif value > 0:\n",
    "        color = 'green'\n",
    "    else:\n",
    "        color = 'black'\n",
    "\n",
    "    return 'color: %s' % color"
   ]
  },
  {
   "cell_type": "code",
   "execution_count": 56,
   "id": "0aadd338",
   "metadata": {},
   "outputs": [
    {
     "name": "stderr",
     "output_type": "stream",
     "text": [
      "<ipython-input-56-6d844ceea3bd>:2: UserWarning: Boolean Series key will be reindexed to match DataFrame index.\n",
      "  df_expenses = df_expenses[df_processed().Expenses == 1].groupby('week').sum().Amount.to_frame()\n",
      "<ipython-input-56-6d844ceea3bd>:4: UserWarning: Boolean Series key will be reindexed to match DataFrame index.\n",
      "  df_income = df_income[df_processed().Category == 'Paycheck'].groupby('week').sum().Amount.to_frame()\n"
     ]
    }
   ],
   "source": [
    "df_expenses = df_processed()[df_processed().year == date.today().year]\n",
    "df_expenses = df_expenses[df_processed().Expenses == 1].groupby('week').sum().Amount.to_frame()\n",
    "df_income = df_processed()[df_processed().year == date.today().year]\n",
    "df_income = df_income[df_processed().Category == 'Paycheck'].groupby('week').sum().Amount.to_frame()\n",
    "df_this_year = df_income.merge(df_expenses, left_index = True, right_index = True, how = 'outer').fillna(0)[:process_dates()[1]]\n",
    "df_this_year.reset_index(inplace = True)\n",
    "df_this_year = df_this_year.rename(columns={'week': 'Week', 'Amount_x': \"Income\", 'Amount_y': \"Expenses\"})\n",
    "df_this_year['Net'] = df_this_year['Income'] + df_this_year['Expenses']\n",
    "df_this_year['Checking Beginning'] = check_begin\n",
    "df_this_year['After Net'] = df_this_year['Checking Beginning'] + df_this_year['Net']\n",
    "df_this_year['Add To Savings'] = add_savings\n",
    "df_this_year['Add To Investment'] = add_investment\n",
    "df_this_year['Checking End'] = end_checking\n",
    "df_this_year = df_this_year.reindex(columns=['Week', 'Checking Beginning', 'Income', 'Expenses', 'Net', 'After Net', 'Add To Savings', 'Add To Investment', 'Checking End'])"
   ]
  },
  {
   "cell_type": "code",
   "execution_count": 57,
   "id": "085d3e01",
   "metadata": {},
   "outputs": [],
   "source": [
    "sheet = pd.read_excel('Goal.xlsx', sheet_name = '2022', index_col = 0, header = 9)\n",
    "sheet['Start of Week']  = sheet['Start of Week'][:52].map(lambda x: datetime.strptime(str(x), \"%B-%d-%Y\").date())\n",
    "in_savings = float(sheet[sheet['Start of Week'] == process_dates()[4]]['Savings End'][0])\n",
    "savings_goal = 11000\n",
    "savings_perc = round(in_savings/savings_goal * 100, 2)\n",
    "for_investment = float(sheet[sheet['Start of Week'] == process_dates()[4]]['End For Investment'][0])\n",
    "net_worth = float(sheet[sheet['Start of Week'] == process_dates()[4]]['In Investment'][0]) + in_savings + for_investment\n",
    "df_progress = pd.read_excel('Goal.xlsx', sheet_name = 'Budget')\n",
    "progress = float(df_progress['Unnamed: 1'][6]) - net_worth\n",
    "needed = float(df_progress['Unnamed: 1'][6])\n",
    "left_perc = round(net_worth/needed*100, 2)\n",
    "budget_perc = round(expenses_month()*-1/budget_per_month()*100, 2)\n",
    "budget_left = \"${:,.2f}\".format(round(expenses_month() + budget_per_month(), 2)) + \" / \" + \"${:,.2f}\".format(round(budget_per_month()), 2)"
   ]
  },
  {
   "cell_type": "code",
   "execution_count": 58,
   "id": "8589cadd",
   "metadata": {},
   "outputs": [],
   "source": [
    "rainy_day = 11000\n",
    "checking_balance = 3050\n",
    "left = df_this_year['After Net'][process_dates()[1]-1] - checking_balance if df_this_year['After Net'][33] > checking_balance and in_savings < rainy_day else 0"
   ]
  },
  {
   "cell_type": "code",
   "execution_count": 59,
   "id": "7a442c12",
   "metadata": {},
   "outputs": [],
   "source": [
    "if in_savings + left >= rainy_day:\n",
    "    add_to_savings = rainy_day - in_savings\n",
    "elif in_savings + left <= rainy_day:\n",
    "    add_to_savings = left\n",
    "else:\n",
    "    add_to_savings = 0\n",
    "if add_to_savings > left:\n",
    "    add_to_investment = left - add_to_savings\n",
    "else:\n",
    "    add_to_investment = 0"
   ]
  },
  {
   "cell_type": "code",
   "execution_count": 61,
   "id": "cb415c68",
   "metadata": {},
   "outputs": [],
   "source": [
    "df_this_year.loc[process_dates()[1]-1, 'Add To Savings'] = add_to_savings\n",
    "df_this_year.loc[process_dates()[1]-1, 'Add To Investment'] = add_to_investment\n",
    "df_this_year.loc[process_dates()[1]-1, 'Checking End'] = df_this_year.loc[process_dates()[1]-1, 'After Net'] - add_to_investment - add_to_savings"
   ]
  },
  {
   "cell_type": "code",
   "execution_count": 62,
   "id": "4346d439",
   "metadata": {},
   "outputs": [],
   "source": [
    "df_this_year[['Checking Beginning', 'Income', 'Expenses', 'Net', 'After Net', 'Add To Savings', 'Add To Investment', 'Checking End']] = df_this_year[['Checking Beginning', 'Income', 'Expenses', 'Net', 'After Net', 'Add To Savings', 'Add To Investment', 'Checking End']].applymap(lambda x: \"${:,.2f}\".format(x) if x >= 0 else \"-${:,.2f}\".format(x*-1))"
   ]
  },
  {
   "cell_type": "code",
   "execution_count": 63,
   "id": "ab720134",
   "metadata": {},
   "outputs": [],
   "source": [
    "income_this_year = average_income()[0]\n",
    "income_per_day = average_income()[1]\n",
    "income_this_week = income_week()\n",
    "expenses_this_week = expenses_week()\n",
    "expenses_per_day = average_expenses()[0]\n",
    "expenses_per_week = average_expenses()[1]\n",
    "expenses_per_month = average_expenses()[2]\n",
    "expenses_this_year = average_expenses()[3]\n",
    "this_week = process_dates()[2]\n",
    "net_this_year = income_this_year + expenses_this_year"
   ]
  },
  {
   "cell_type": "code",
   "execution_count": null,
   "id": "43687227",
   "metadata": {},
   "outputs": [
    {
     "name": "stdout",
     "output_type": "stream",
     "text": [
      " * Serving Flask app \"__main__\" (lazy loading)\n",
      " * Environment: production\n",
      "\u001b[31m   WARNING: This is a development server. Do not use it in a production deployment.\u001b[0m\n",
      "\u001b[2m   Use a production WSGI server instead.\u001b[0m\n",
      " * Debug mode: off\n"
     ]
    },
    {
     "name": "stderr",
     "output_type": "stream",
     "text": [
      " * Running on http://127.0.0.1:5000/ (Press CTRL+C to quit)\n",
      "127.0.0.1 - - [25/Aug/2022 15:02:28] \"\u001b[37mGET / HTTP/1.1\u001b[0m\" 200 -\n",
      "127.0.0.1 - - [25/Aug/2022 15:02:28] \"\u001b[33mGET /static/https://fonts.googleapis.com/css%3Ffamily%3DNunito:200%2C200i%2C300%2C300i%2C400%2C400i%2C600%2C600i%2C700%2C700i%2C800%2C800i%2C900%2C900i HTTP/1.1\u001b[0m\" 404 -\n",
      "127.0.0.1 - - [25/Aug/2022 15:02:28] \"\u001b[33mGET /assets/bootstrap/js/bootstrap.min.js HTTP/1.1\u001b[0m\" 404 -\n",
      "127.0.0.1 - - [25/Aug/2022 15:02:28] \"\u001b[33mGET /assets/js/theme.js HTTP/1.1\u001b[0m\" 404 -\n",
      "127.0.0.1 - - [25/Aug/2022 15:02:33] \"\u001b[37mGET /thisyear.html HTTP/1.1\u001b[0m\" 200 -\n",
      "127.0.0.1 - - [25/Aug/2022 15:02:33] \"\u001b[33mGET /static/https://fonts.googleapis.com/css%3Ffamily%3DNunito:200%2C200i%2C300%2C300i%2C400%2C400i%2C600%2C600i%2C700%2C700i%2C800%2C800i%2C900%2C900i HTTP/1.1\u001b[0m\" 404 -\n",
      "127.0.0.1 - - [25/Aug/2022 15:02:33] \"\u001b[33mGET /assets/bootstrap/js/bootstrap.min.js HTTP/1.1\u001b[0m\" 404 -\n",
      "127.0.0.1 - - [25/Aug/2022 15:02:33] \"\u001b[33mGET /assets/js/theme.js HTTP/1.1\u001b[0m\" 404 -\n",
      "127.0.0.1 - - [25/Aug/2022 15:02:51] \"\u001b[37mGET /fire.html HTTP/1.1\u001b[0m\" 200 -\n",
      "127.0.0.1 - - [25/Aug/2022 15:02:51] \"\u001b[33mGET /static/https://fonts.googleapis.com/css%3Ffamily%3DNunito:200%2C200i%2C300%2C300i%2C400%2C400i%2C600%2C600i%2C700%2C700i%2C800%2C800i%2C900%2C900i HTTP/1.1\u001b[0m\" 404 -\n",
      "127.0.0.1 - - [25/Aug/2022 15:02:51] \"\u001b[33mGET /assets/bootstrap/js/bootstrap.min.js HTTP/1.1\u001b[0m\" 404 -\n",
      "127.0.0.1 - - [25/Aug/2022 15:02:51] \"\u001b[33mGET /assets/js/theme.js HTTP/1.1\u001b[0m\" 404 -\n",
      "127.0.0.1 - - [25/Aug/2022 15:02:53] \"\u001b[37mGET / HTTP/1.1\u001b[0m\" 200 -\n",
      "127.0.0.1 - - [25/Aug/2022 15:02:53] \"\u001b[33mGET /static/https://fonts.googleapis.com/css%3Ffamily%3DNunito:200%2C200i%2C300%2C300i%2C400%2C400i%2C600%2C600i%2C700%2C700i%2C800%2C800i%2C900%2C900i HTTP/1.1\u001b[0m\" 404 -\n",
      "127.0.0.1 - - [25/Aug/2022 15:02:53] \"\u001b[33mGET /assets/bootstrap/js/bootstrap.min.js HTTP/1.1\u001b[0m\" 404 -\n",
      "127.0.0.1 - - [25/Aug/2022 15:02:53] \"\u001b[33mGET /assets/js/theme.js HTTP/1.1\u001b[0m\" 404 -\n"
     ]
    }
   ],
   "source": [
    "from flask import Flask, render_template\n",
    "## from flask import Flask, render_template\n",
    "app = Flask(__name__)\n",
    "\n",
    "@app.route('/', methods=['GET', 'POST'])\n",
    "def dashboard():\n",
    "    return render_template('finances.html', \n",
    "    income_this_week = formatting(income_this_week), expenses_this_week = expenses_this_week, \n",
    "    this_week = this_week, net_worth = formatting(net_worth), left = formatting(progress), needed = needed, \n",
    "    savings_goal = savings_goal, savings_perc = savings_perc, expenses_this_year = formatting(expenses_this_year), income_this_year = formatting(income_this_year),\n",
    "    left_perc = left_perc, expenses_per_day = formatting(expenses_per_day), expenses_per_week = formatting(expenses_per_week), \n",
    "    expenses_per_month = formatting(expenses_per_month), income_per_day = formatting(income_per_day), in_savings = formatting(in_savings),\n",
    "    for_investment = formatting(for_investment), budgets = budgets, this_month = this_month, budget_per_month = budget_per_month, \n",
    "    budget_perc = budget_perc, budget_left = budget_left, net_this_year = formatting(net_this_year))\n",
    "\n",
    "@app.route('/fire.html', methods=['GET', 'POST'])\n",
    "def transactions():\n",
    "    return render_template('fire.html', net_worth = formatting(net_worth), left = formatting(progress), needed = needed, \n",
    "    left_perc = left_perc, expenses_this_year = formatting(expenses_this_year), income_this_year = formatting(income_this_year),\n",
    "                          net_this_year = formatting(net_this_year))\n",
    "\n",
    "@app.route('/thisyear.html', methods=['GET', 'POST'])\n",
    "def this_year():\n",
    "    return render_template('thisyear.html', df_this_year = df_this_year, titles=df_this_year.columns.values, expenses_this_year = formatting(expenses_this_year), \n",
    "                           income_this_year = formatting(income_this_year), net_this_year = formatting(net_this_year), add_to_savings = formatting(add_to_savings), \n",
    "                           add_to_investment = formatting(add_to_investment), expenses_per_day_this_year = formatting(expenses_per_day), expenses_per_week_this_year = formatting(expenses_per_week), \n",
    "    expenses_per_month_this_year = formatting(expenses_per_month))\n",
    "\n",
    "if __name__ == '__main__':\n",
    "    app.run()"
   ]
  },
  {
   "cell_type": "code",
   "execution_count": 539,
   "id": "bb690188",
   "metadata": {},
   "outputs": [],
   "source": [
    "for row, table in df_this_year.iterrows():\n",
    "    table['After Net']"
   ]
  },
  {
   "cell_type": "code",
   "execution_count": 56,
   "id": "e9454f50",
   "metadata": {},
   "outputs": [
    {
     "ename": "SyntaxError",
     "evalue": "invalid syntax (<ipython-input-56-3bc417650f8b>, line 1)",
     "output_type": "error",
     "traceback": [
      "\u001b[1;36m  File \u001b[1;32m\"<ipython-input-56-3bc417650f8b>\"\u001b[1;36m, line \u001b[1;32m1\u001b[0m\n\u001b[1;33m    <!DOCTYPE html><html><head><meta charset=\"utf-8\"><meta name=\"viewport\" content=\"width=device-width, initial-scale=1.0, shrink-to-fit=no\"><title>Dashboard - Brand</title><link rel=\"stylesheet\" href=\"{{ url_for('static', filename='assets/bootstrap/css/bootstrap.min.css')}}\"><link rel=\"stylesheet\" href=\"{{ url_for('static', filename='https://fonts.googleapis.com/css?family=Nunito:200,200i,300,300i,400,400i,600,600i,700,700i,800,800i,900,900i')}}\"><link rel=\"stylesheet\" href=\"{{ url_for('static', filename='assets/fonts/fontawesome-all.min.css')}}\"><link rel=\"stylesheet\" href=\"{{ url_for('static', filename='assets/fonts/font-awesome.min.css')}}\"><link rel=\"stylesheet\" href=\"{{ url_for('static', filename='assets/fonts/material-icons.min.css')}}\"><link rel=\"stylesheet\" href=\"{{ url_for('static', filename='assets/fonts/fontawesome5-overrides.min.css')}}\">\u001b[0m\n\u001b[1;37m    ^\u001b[0m\n\u001b[1;31mSyntaxError\u001b[0m\u001b[1;31m:\u001b[0m invalid syntax\n"
     ]
    }
   ],
   "source": [
    "<!DOCTYPE html><html><head><meta charset=\"utf-8\"><meta name=\"viewport\" content=\"width=device-width, initial-scale=1.0, shrink-to-fit=no\"><title>Dashboard - Brand</title><link rel=\"stylesheet\" href=\"{{ url_for('static', filename='assets/bootstrap/css/bootstrap.min.css')}}\"><link rel=\"stylesheet\" href=\"{{ url_for('static', filename='https://fonts.googleapis.com/css?family=Nunito:200,200i,300,300i,400,400i,600,600i,700,700i,800,800i,900,900i')}}\"><link rel=\"stylesheet\" href=\"{{ url_for('static', filename='assets/fonts/fontawesome-all.min.css')}}\"><link rel=\"stylesheet\" href=\"{{ url_for('static', filename='assets/fonts/font-awesome.min.css')}}\"><link rel=\"stylesheet\" href=\"{{ url_for('static', filename='assets/fonts/material-icons.min.css')}}\"><link rel=\"stylesheet\" href=\"{{ url_for('static', filename='assets/fonts/fontawesome5-overrides.min.css')}}\">"
   ]
  }
 ],
 "metadata": {
  "kernelspec": {
   "display_name": "Python 3",
   "language": "python",
   "name": "python3"
  },
  "language_info": {
   "codemirror_mode": {
    "name": "ipython",
    "version": 3
   },
   "file_extension": ".py",
   "mimetype": "text/x-python",
   "name": "python",
   "nbconvert_exporter": "python",
   "pygments_lexer": "ipython3",
   "version": "3.8.10"
  }
 },
 "nbformat": 4,
 "nbformat_minor": 5
}
