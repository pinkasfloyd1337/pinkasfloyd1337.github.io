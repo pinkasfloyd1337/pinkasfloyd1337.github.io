{
 "cells": [
  {
   "cell_type": "code",
   "execution_count": 1,
   "id": "9c25d5a5",
   "metadata": {},
   "outputs": [
    {
     "name": "stdout",
     "output_type": "stream",
     "text": [
      "Requirement already satisfied: google-api-python-client in c:\\users\\bcohe\\anaconda3\\lib\\site-packages (2.57.0)\n",
      "Requirement already satisfied: google-auth-httplib2 in c:\\users\\bcohe\\anaconda3\\lib\\site-packages (0.1.0)\n",
      "Requirement already satisfied: google-auth-oauthlib in c:\\users\\bcohe\\anaconda3\\lib\\site-packages (0.5.2)\n",
      "Requirement already satisfied: google-auth<3.0.0dev,>=1.19.0 in c:\\users\\bcohe\\anaconda3\\lib\\site-packages (from google-api-python-client) (1.33.0)\n",
      "Requirement already satisfied: httplib2<1dev,>=0.15.0 in c:\\users\\bcohe\\anaconda3\\lib\\site-packages (from google-api-python-client) (0.20.4)\n",
      "Requirement already satisfied: google-api-core!=2.0.*,!=2.1.*,!=2.2.*,!=2.3.0,<3.0.0dev,>=1.31.5 in c:\\users\\bcohe\\anaconda3\\lib\\site-packages (from google-api-python-client) (2.8.2)\n",
      "Requirement already satisfied: uritemplate<5,>=3.0.1 in c:\\users\\bcohe\\anaconda3\\lib\\site-packages (from google-api-python-client) (4.1.1)\n",
      "Requirement already satisfied: six in c:\\users\\bcohe\\anaconda3\\lib\\site-packages (from google-auth-httplib2) (1.16.0)\n",
      "Requirement already satisfied: googleapis-common-protos<2.0dev,>=1.56.2 in c:\\users\\bcohe\\anaconda3\\lib\\site-packages (from google-api-core!=2.0.*,!=2.1.*,!=2.2.*,!=2.3.0,<3.0.0dev,>=1.31.5->google-api-python-client) (1.56.4)\n",
      "Requirement already satisfied: protobuf<5.0.0dev,>=3.15.0 in c:\\users\\bcohe\\anaconda3\\lib\\site-packages (from google-api-core!=2.0.*,!=2.1.*,!=2.2.*,!=2.3.0,<3.0.0dev,>=1.31.5->google-api-python-client) (3.17.3)\n",
      "Requirement already satisfied: requests<3.0.0dev,>=2.18.0 in c:\\users\\bcohe\\anaconda3\\lib\\site-packages (from google-api-core!=2.0.*,!=2.1.*,!=2.2.*,!=2.3.0,<3.0.0dev,>=1.31.5->google-api-python-client) (2.25.1)\n",
      "Requirement already satisfied: pyasn1-modules>=0.2.1 in c:\\users\\bcohe\\anaconda3\\lib\\site-packages (from google-auth<3.0.0dev,>=1.19.0->google-api-python-client) (0.2.8)\n",
      "Requirement already satisfied: setuptools>=40.3.0 in c:\\users\\bcohe\\anaconda3\\lib\\site-packages (from google-auth<3.0.0dev,>=1.19.0->google-api-python-client) (52.0.0.post20210125)\n",
      "Requirement already satisfied: rsa<5,>=3.1.4 in c:\\users\\bcohe\\anaconda3\\lib\\site-packages (from google-auth<3.0.0dev,>=1.19.0->google-api-python-client) (4.7.2)\n",
      "Requirement already satisfied: cachetools<5.0,>=2.0.0 in c:\\users\\bcohe\\anaconda3\\lib\\site-packages (from google-auth<3.0.0dev,>=1.19.0->google-api-python-client) (4.2.2)\n",
      "Requirement already satisfied: pyparsing!=3.0.0,!=3.0.1,!=3.0.2,!=3.0.3,<4,>=2.4.2 in c:\\users\\bcohe\\anaconda3\\lib\\site-packages (from httplib2<1dev,>=0.15.0->google-api-python-client) (2.4.7)\n",
      "Requirement already satisfied: pyasn1<0.5.0,>=0.4.6 in c:\\users\\bcohe\\anaconda3\\lib\\site-packages (from pyasn1-modules>=0.2.1->google-auth<3.0.0dev,>=1.19.0->google-api-python-client) (0.4.8)\n",
      "Requirement already satisfied: chardet<5,>=3.0.2 in c:\\users\\bcohe\\anaconda3\\lib\\site-packages (from requests<3.0.0dev,>=2.18.0->google-api-core!=2.0.*,!=2.1.*,!=2.2.*,!=2.3.0,<3.0.0dev,>=1.31.5->google-api-python-client) (3.0.4)\n",
      "Requirement already satisfied: certifi>=2017.4.17 in c:\\users\\bcohe\\anaconda3\\lib\\site-packages (from requests<3.0.0dev,>=2.18.0->google-api-core!=2.0.*,!=2.1.*,!=2.2.*,!=2.3.0,<3.0.0dev,>=1.31.5->google-api-python-client) (2021.10.8)\n",
      "Requirement already satisfied: urllib3<1.27,>=1.21.1 in c:\\users\\bcohe\\anaconda3\\lib\\site-packages (from requests<3.0.0dev,>=2.18.0->google-api-core!=2.0.*,!=2.1.*,!=2.2.*,!=2.3.0,<3.0.0dev,>=1.31.5->google-api-python-client) (1.26.6)\n",
      "Requirement already satisfied: idna<3,>=2.5 in c:\\users\\bcohe\\anaconda3\\lib\\site-packages (from requests<3.0.0dev,>=2.18.0->google-api-core!=2.0.*,!=2.1.*,!=2.2.*,!=2.3.0,<3.0.0dev,>=1.31.5->google-api-python-client) (2.10)\n",
      "Requirement already satisfied: requests-oauthlib>=0.7.0 in c:\\users\\bcohe\\anaconda3\\lib\\site-packages (from google-auth-oauthlib) (1.3.0)\n",
      "Requirement already satisfied: oauthlib>=3.0.0 in c:\\users\\bcohe\\anaconda3\\lib\\site-packages (from requests-oauthlib>=0.7.0->google-auth-oauthlib) (3.1.1)\n"
     ]
    }
   ],
   "source": [
    "!pip install --upgrade google-api-python-client google-auth-httplib2 google-auth-oauthlib"
   ]
  },
  {
   "cell_type": "code",
   "execution_count": null,
   "id": "7e34038f",
   "metadata": {},
   "outputs": [
    {
     "name": "stdout",
     "output_type": "stream",
     "text": [
      "Please visit this URL to authorize this application: https://accounts.google.com/o/oauth2/auth?response_type=code&client_id=222444974434-as82jr3aknmkfnbpnn0colta4c7c17cn.apps.googleusercontent.com&redirect_uri=http%3A%2F%2Flocalhost%3A64623%2F&scope=https%3A%2F%2Fwww.googleapis.com%2Fauth%2Fspreadsheets.readonly&state=l7cvRyUNOnIu1xxIj1KfwHhsMSEAvm&access_type=offline\n"
     ]
    }
   ],
   "source": [
    "from __future__ import print_function\n",
    "\n",
    "import os.path\n",
    "\n",
    "from google.auth.transport.requests import Request\n",
    "from google.oauth2.credentials import Credentials\n",
    "from google_auth_oauthlib.flow import InstalledAppFlow\n",
    "from googleapiclient.discovery import build\n",
    "from googleapiclient.errors import HttpError\n",
    "\n",
    "# If modifying these scopes, delete the file token.json.\n",
    "SCOPES = ['https://www.googleapis.com/auth/spreadsheets.readonly']\n",
    "\n",
    "# The ID and range of a sample spreadsheet.\n",
    "SAMPLE_SPREADSHEET_ID = '1BxiMVs0XRA5nFMdKvBdBZjgmUUqptlbs74OgvE2upms'\n",
    "SAMPLE_RANGE_NAME = 'Class Data!A2:E'\n",
    "\n",
    "\n",
    "def main():\n",
    "    \"\"\"Shows basic usage of the Sheets API.\n",
    "    Prints values from a sample spreadsheet.\n",
    "    \"\"\"\n",
    "    creds = None\n",
    "    # The file token.json stores the user's access and refresh tokens, and is\n",
    "    # created automatically when the authorization flow completes for the first\n",
    "    # time.\n",
    "    if os.path.exists('token.json'):\n",
    "        creds = Credentials.from_authorized_user_file('token.json', SCOPES)\n",
    "    # If there are no (valid) credentials available, let the user log in.\n",
    "    if not creds or not creds.valid:\n",
    "        if creds and creds.expired and creds.refresh_token:\n",
    "            creds.refresh(Request())\n",
    "        else:\n",
    "            flow = InstalledAppFlow.from_client_secrets_file(\n",
    "                'credentials.json', SCOPES)\n",
    "            creds = flow.run_local_server(port=0)\n",
    "        # Save the credentials for the next run\n",
    "        with open('token.json', 'w') as token:\n",
    "            token.write(creds.to_json())\n",
    "\n",
    "    try:\n",
    "        service = build('sheets', 'v4', credentials=creds)\n",
    "\n",
    "        # Call the Sheets API\n",
    "        sheet = service.spreadsheets()\n",
    "        result = sheet.values().get(spreadsheetId=SAMPLE_SPREADSHEET_ID,\n",
    "                                    range=SAMPLE_RANGE_NAME).execute()\n",
    "        values = result.get('values', [])\n",
    "\n",
    "        if not values:\n",
    "            print('No data found.')\n",
    "            return\n",
    "\n",
    "        print('Name, Major:')\n",
    "        for row in values:\n",
    "            # Print columns A and E, which correspond to indices 0 and 4.\n",
    "            print('%s, %s' % (row[0], row[4]))\n",
    "    except HttpError as err:\n",
    "        print(err)\n",
    "\n",
    "\n",
    "if __name__ == '__main__':\n",
    "    main()"
   ]
  },
  {
   "cell_type": "code",
   "execution_count": 140,
   "id": "0f8f96ad",
   "metadata": {},
   "outputs": [],
   "source": [
    "import pandas as pd\n",
    "from datetime import datetime"
   ]
  },
  {
   "cell_type": "code",
   "execution_count": 22,
   "id": "38a31ca7",
   "metadata": {},
   "outputs": [],
   "source": [
    "income_sheet = pd.read_excel('Goal.xlsx', sheet_name = 'Income', index_col = 0)"
   ]
  },
  {
   "cell_type": "code",
   "execution_count": 23,
   "id": "634c661c",
   "metadata": {},
   "outputs": [
    {
     "data": {
      "text/plain": [
       "108397.58"
      ]
     },
     "execution_count": 23,
     "metadata": {},
     "output_type": "execute_result"
    }
   ],
   "source": [
    "income = income_sheet['Yearly']['Base Pay']\n",
    "income"
   ]
  },
  {
   "cell_type": "code",
   "execution_count": 25,
   "id": "ce70d31b",
   "metadata": {},
   "outputs": [
    {
     "data": {
      "text/plain": [
       "8671.8064"
      ]
     },
     "execution_count": 25,
     "metadata": {},
     "output_type": "execute_result"
    }
   ],
   "source": [
    "k_401 = income * 0.08\n",
    "k_401"
   ]
  },
  {
   "cell_type": "code",
   "execution_count": 32,
   "id": "961d5922",
   "metadata": {},
   "outputs": [
    {
     "data": {
      "text/plain": [
       "280.317258375074"
      ]
     },
     "execution_count": 32,
     "metadata": {},
     "output_type": "execute_result"
    }
   ],
   "source": [
    "benefits = income * 0.0025860103\n",
    "benefits"
   ]
  },
  {
   "cell_type": "code",
   "execution_count": 36,
   "id": "d6bece1a",
   "metadata": {},
   "outputs": [
    {
     "data": {
      "text/plain": [
       "16873.51504223664"
      ]
     },
     "execution_count": 36,
     "metadata": {},
     "output_type": "execute_result"
    }
   ],
   "source": [
    "federal_tax = income * 0.155663208\n",
    "federal_tax"
   ]
  },
  {
   "cell_type": "code",
   "execution_count": 35,
   "id": "c1214884",
   "metadata": {},
   "outputs": [
    {
     "data": {
      "text/plain": [
       "6754.493949985422"
      ]
     },
     "execution_count": 35,
     "metadata": {},
     "output_type": "execute_result"
    }
   ],
   "source": [
    "ss = income * 0.0623122209\n",
    "ss"
   ]
  },
  {
   "cell_type": "code",
   "execution_count": 38,
   "id": "12dea13c",
   "metadata": {},
   "outputs": [
    {
     "data": {
      "text/plain": [
       "1579.664557078628"
      ]
     },
     "execution_count": 38,
     "metadata": {},
     "output_type": "execute_result"
    }
   ],
   "source": [
    "medicare = income * 0.0145728766\n",
    "medicare"
   ]
  },
  {
   "cell_type": "code",
   "execution_count": 39,
   "id": "129e0471",
   "metadata": {},
   "outputs": [
    {
     "data": {
      "text/plain": [
       "74237.78279232423"
      ]
     },
     "execution_count": 39,
     "metadata": {},
     "output_type": "execute_result"
    }
   ],
   "source": [
    "net_pay = income - k_401 - benefits - federal_tax - ss - medicare\n",
    "net_pay"
   ]
  },
  {
   "cell_type": "code",
   "execution_count": 177,
   "id": "1a87aa75",
   "metadata": {},
   "outputs": [
    {
     "data": {
      "text/html": [
       "<div>\n",
       "<style scoped>\n",
       "    .dataframe tbody tr th:only-of-type {\n",
       "        vertical-align: middle;\n",
       "    }\n",
       "\n",
       "    .dataframe tbody tr th {\n",
       "        vertical-align: top;\n",
       "    }\n",
       "\n",
       "    .dataframe thead th {\n",
       "        text-align: right;\n",
       "    }\n",
       "</style>\n",
       "<table border=\"1\" class=\"dataframe\">\n",
       "  <thead>\n",
       "    <tr style=\"text-align: right;\">\n",
       "      <th></th>\n",
       "      <th>Date</th>\n",
       "      <th>Description</th>\n",
       "      <th>Original Description</th>\n",
       "      <th>Amount</th>\n",
       "      <th>Transaction Type</th>\n",
       "      <th>Category</th>\n",
       "      <th>Account Name</th>\n",
       "      <th>Labels</th>\n",
       "      <th>Notes</th>\n",
       "    </tr>\n",
       "  </thead>\n",
       "  <tbody>\n",
       "    <tr>\n",
       "      <th>0</th>\n",
       "      <td>12/23/2019</td>\n",
       "      <td>Delta</td>\n",
       "      <td>DELTA AIR LINES 18002211212 CA</td>\n",
       "      <td>198.60</td>\n",
       "      <td>debit</td>\n",
       "      <td>Air Travel</td>\n",
       "      <td>DISCOVER IT CHROME CARD</td>\n",
       "      <td>NaN</td>\n",
       "      <td>NaN</td>\n",
       "    </tr>\n",
       "    <tr>\n",
       "      <th>1</th>\n",
       "      <td>1/31/2020</td>\n",
       "      <td>CVG 2145A BLUE GRASS BAZ ATLANTA GAAPPLE PAY E...</td>\n",
       "      <td>CVG 2145A BLUE GRASS BAZ ATLANTA GAAPPLE PAY E...</td>\n",
       "      <td>2.19</td>\n",
       "      <td>debit</td>\n",
       "      <td>Air Travel</td>\n",
       "      <td>DISCOVER IT CHROME CARD</td>\n",
       "      <td>NaN</td>\n",
       "      <td>NaN</td>\n",
       "    </tr>\n",
       "    <tr>\n",
       "      <th>2</th>\n",
       "      <td>5/05/2021</td>\n",
       "      <td>DMV</td>\n",
       "      <td>OH BUREAU MOTOR VEHICLES</td>\n",
       "      <td>30.00</td>\n",
       "      <td>debit</td>\n",
       "      <td>Auto &amp; Transport</td>\n",
       "      <td>CREDIT CARD</td>\n",
       "      <td>NaN</td>\n",
       "      <td>NaN</td>\n",
       "    </tr>\n",
       "    <tr>\n",
       "      <th>3</th>\n",
       "      <td>3/21/2020</td>\n",
       "      <td>Brendan Cohen Charged</td>\n",
       "      <td>Brendan Cohen Charged Keith Cook</td>\n",
       "      <td>11.47</td>\n",
       "      <td>credit</td>\n",
       "      <td>Bills &amp; Utilities</td>\n",
       "      <td>Venmo</td>\n",
       "      <td>NaN</td>\n",
       "      <td>NaN</td>\n",
       "    </tr>\n",
       "    <tr>\n",
       "      <th>4</th>\n",
       "      <td>3/21/2020</td>\n",
       "      <td>Brendan Cohen Charged</td>\n",
       "      <td>Brendan Cohen Charged Justin Mormol</td>\n",
       "      <td>11.47</td>\n",
       "      <td>credit</td>\n",
       "      <td>Bills &amp; Utilities</td>\n",
       "      <td>Venmo</td>\n",
       "      <td>NaN</td>\n",
       "      <td>NaN</td>\n",
       "    </tr>\n",
       "    <tr>\n",
       "      <th>...</th>\n",
       "      <td>...</td>\n",
       "      <td>...</td>\n",
       "      <td>...</td>\n",
       "      <td>...</td>\n",
       "      <td>...</td>\n",
       "      <td>...</td>\n",
       "      <td>...</td>\n",
       "      <td>...</td>\n",
       "      <td>...</td>\n",
       "    </tr>\n",
       "    <tr>\n",
       "      <th>1785</th>\n",
       "      <td>8/07/2022</td>\n",
       "      <td>SHENANDOAH NATL PARK</td>\n",
       "      <td>SHENANDOAH NATL PARK</td>\n",
       "      <td>30.00</td>\n",
       "      <td>debit</td>\n",
       "      <td>Vacation</td>\n",
       "      <td>CREDIT CARD</td>\n",
       "      <td>Expenses</td>\n",
       "      <td>NaN</td>\n",
       "    </tr>\n",
       "    <tr>\n",
       "      <th>1786</th>\n",
       "      <td>6/14/2020</td>\n",
       "      <td>Gahanna Animal Hospital Inc</td>\n",
       "      <td>GAHANNA ANIMAL HOSPITA</td>\n",
       "      <td>457.42</td>\n",
       "      <td>debit</td>\n",
       "      <td>Veterinary</td>\n",
       "      <td>CREDIT CARD</td>\n",
       "      <td>NaN</td>\n",
       "      <td>NaN</td>\n",
       "    </tr>\n",
       "    <tr>\n",
       "      <th>1787</th>\n",
       "      <td>6/14/2020</td>\n",
       "      <td>Gahanna Animal Hospital Inc</td>\n",
       "      <td>GAHANNA ANIMAL HOSPITA</td>\n",
       "      <td>27.74</td>\n",
       "      <td>debit</td>\n",
       "      <td>Veterinary</td>\n",
       "      <td>CREDIT CARD</td>\n",
       "      <td>NaN</td>\n",
       "      <td>NaN</td>\n",
       "    </tr>\n",
       "    <tr>\n",
       "      <th>1788</th>\n",
       "      <td>11/08/2020</td>\n",
       "      <td>Gahanna Animal Hospital Inc</td>\n",
       "      <td>GAHANNA ANIMAL HOSPITA</td>\n",
       "      <td>131.93</td>\n",
       "      <td>debit</td>\n",
       "      <td>Veterinary</td>\n",
       "      <td>CREDIT CARD</td>\n",
       "      <td>NaN</td>\n",
       "      <td>NaN</td>\n",
       "    </tr>\n",
       "    <tr>\n",
       "      <th>1789</th>\n",
       "      <td>3/16/2022</td>\n",
       "      <td>BRENTWOOD ANIMAL HOSPI BRENTWOOD MD</td>\n",
       "      <td>BRENTWOOD ANIMAL HOSPI BRENTWOOD MD</td>\n",
       "      <td>171.21</td>\n",
       "      <td>debit</td>\n",
       "      <td>Veterinary</td>\n",
       "      <td>DISCOVER IT CHROME CARD</td>\n",
       "      <td>Expenses</td>\n",
       "      <td>NaN</td>\n",
       "    </tr>\n",
       "  </tbody>\n",
       "</table>\n",
       "<p>1790 rows × 9 columns</p>\n",
       "</div>"
      ],
      "text/plain": [
       "            Date                                        Description  \\\n",
       "0     12/23/2019                                              Delta   \n",
       "1      1/31/2020  CVG 2145A BLUE GRASS BAZ ATLANTA GAAPPLE PAY E...   \n",
       "2      5/05/2021                                                DMV   \n",
       "3      3/21/2020                              Brendan Cohen Charged   \n",
       "4      3/21/2020                              Brendan Cohen Charged   \n",
       "...          ...                                                ...   \n",
       "1785   8/07/2022                               SHENANDOAH NATL PARK   \n",
       "1786   6/14/2020                        Gahanna Animal Hospital Inc   \n",
       "1787   6/14/2020                        Gahanna Animal Hospital Inc   \n",
       "1788  11/08/2020                        Gahanna Animal Hospital Inc   \n",
       "1789   3/16/2022                BRENTWOOD ANIMAL HOSPI BRENTWOOD MD   \n",
       "\n",
       "                                   Original Description  Amount  \\\n",
       "0                        DELTA AIR LINES 18002211212 CA  198.60   \n",
       "1     CVG 2145A BLUE GRASS BAZ ATLANTA GAAPPLE PAY E...    2.19   \n",
       "2                              OH BUREAU MOTOR VEHICLES   30.00   \n",
       "3                      Brendan Cohen Charged Keith Cook   11.47   \n",
       "4                   Brendan Cohen Charged Justin Mormol   11.47   \n",
       "...                                                 ...     ...   \n",
       "1785                               SHENANDOAH NATL PARK   30.00   \n",
       "1786                             GAHANNA ANIMAL HOSPITA  457.42   \n",
       "1787                             GAHANNA ANIMAL HOSPITA   27.74   \n",
       "1788                             GAHANNA ANIMAL HOSPITA  131.93   \n",
       "1789                BRENTWOOD ANIMAL HOSPI BRENTWOOD MD  171.21   \n",
       "\n",
       "     Transaction Type           Category             Account Name    Labels  \\\n",
       "0               debit         Air Travel  DISCOVER IT CHROME CARD       NaN   \n",
       "1               debit         Air Travel  DISCOVER IT CHROME CARD       NaN   \n",
       "2               debit   Auto & Transport              CREDIT CARD       NaN   \n",
       "3              credit  Bills & Utilities                    Venmo       NaN   \n",
       "4              credit  Bills & Utilities                    Venmo       NaN   \n",
       "...               ...                ...                      ...       ...   \n",
       "1785            debit           Vacation              CREDIT CARD  Expenses   \n",
       "1786            debit         Veterinary              CREDIT CARD       NaN   \n",
       "1787            debit         Veterinary              CREDIT CARD       NaN   \n",
       "1788            debit         Veterinary              CREDIT CARD       NaN   \n",
       "1789            debit         Veterinary  DISCOVER IT CHROME CARD  Expenses   \n",
       "\n",
       "      Notes  \n",
       "0       NaN  \n",
       "1       NaN  \n",
       "2       NaN  \n",
       "3       NaN  \n",
       "4       NaN  \n",
       "...     ...  \n",
       "1785    NaN  \n",
       "1786    NaN  \n",
       "1787    NaN  \n",
       "1788    NaN  \n",
       "1789    NaN  \n",
       "\n",
       "[1790 rows x 9 columns]"
      ]
     },
     "execution_count": 177,
     "metadata": {},
     "output_type": "execute_result"
    }
   ],
   "source": [
    "transactions = pd.read_csv('transactions.csv')\n",
    "transactions"
   ]
  },
  {
   "cell_type": "code",
   "execution_count": 178,
   "id": "592ceec0",
   "metadata": {},
   "outputs": [
    {
     "name": "stderr",
     "output_type": "stream",
     "text": [
      "<ipython-input-178-d5df397e46bd>:1: SettingWithCopyWarning: \n",
      "A value is trying to be set on a copy of a slice from a DataFrame\n",
      "\n",
      "See the caveats in the documentation: https://pandas.pydata.org/pandas-docs/stable/user_guide/indexing.html#returning-a-view-versus-a-copy\n",
      "  transactions['Amount'][transactions['Transaction Type'] == 'credit'] = transactions[transactions['Transaction Type'] == 'credit'].apply(lambda x: x*-1)['Amount']\n"
     ]
    }
   ],
   "source": [
    "transactions['Amount'][transactions['Transaction Type'] == 'credit'] = transactions[transactions['Transaction Type'] == 'credit'].apply(lambda x: x*-1)['Amount']"
   ]
  },
  {
   "cell_type": "code",
   "execution_count": 179,
   "id": "af5ad619",
   "metadata": {},
   "outputs": [
    {
     "data": {
      "text/html": [
       "<div>\n",
       "<style scoped>\n",
       "    .dataframe tbody tr th:only-of-type {\n",
       "        vertical-align: middle;\n",
       "    }\n",
       "\n",
       "    .dataframe tbody tr th {\n",
       "        vertical-align: top;\n",
       "    }\n",
       "\n",
       "    .dataframe thead th {\n",
       "        text-align: right;\n",
       "    }\n",
       "</style>\n",
       "<table border=\"1\" class=\"dataframe\">\n",
       "  <thead>\n",
       "    <tr style=\"text-align: right;\">\n",
       "      <th></th>\n",
       "      <th>Date</th>\n",
       "      <th>Category</th>\n",
       "      <th>Description</th>\n",
       "      <th>Amount</th>\n",
       "      <th>Account Name</th>\n",
       "    </tr>\n",
       "  </thead>\n",
       "  <tbody>\n",
       "    <tr>\n",
       "      <th>0</th>\n",
       "      <td>12/23/2019</td>\n",
       "      <td>Air Travel</td>\n",
       "      <td>Delta</td>\n",
       "      <td>198.60</td>\n",
       "      <td>DISCOVER IT CHROME CARD</td>\n",
       "    </tr>\n",
       "    <tr>\n",
       "      <th>1</th>\n",
       "      <td>1/31/2020</td>\n",
       "      <td>Air Travel</td>\n",
       "      <td>CVG 2145A BLUE GRASS BAZ ATLANTA GAAPPLE PAY E...</td>\n",
       "      <td>2.19</td>\n",
       "      <td>DISCOVER IT CHROME CARD</td>\n",
       "    </tr>\n",
       "    <tr>\n",
       "      <th>2</th>\n",
       "      <td>5/05/2021</td>\n",
       "      <td>Auto &amp; Transport</td>\n",
       "      <td>DMV</td>\n",
       "      <td>30.00</td>\n",
       "      <td>CREDIT CARD</td>\n",
       "    </tr>\n",
       "    <tr>\n",
       "      <th>3</th>\n",
       "      <td>3/21/2020</td>\n",
       "      <td>Bills &amp; Utilities</td>\n",
       "      <td>Brendan Cohen Charged</td>\n",
       "      <td>-11.47</td>\n",
       "      <td>Venmo</td>\n",
       "    </tr>\n",
       "    <tr>\n",
       "      <th>4</th>\n",
       "      <td>3/21/2020</td>\n",
       "      <td>Bills &amp; Utilities</td>\n",
       "      <td>Brendan Cohen Charged</td>\n",
       "      <td>-11.47</td>\n",
       "      <td>Venmo</td>\n",
       "    </tr>\n",
       "    <tr>\n",
       "      <th>...</th>\n",
       "      <td>...</td>\n",
       "      <td>...</td>\n",
       "      <td>...</td>\n",
       "      <td>...</td>\n",
       "      <td>...</td>\n",
       "    </tr>\n",
       "    <tr>\n",
       "      <th>1785</th>\n",
       "      <td>8/07/2022</td>\n",
       "      <td>Vacation</td>\n",
       "      <td>SHENANDOAH NATL PARK</td>\n",
       "      <td>30.00</td>\n",
       "      <td>CREDIT CARD</td>\n",
       "    </tr>\n",
       "    <tr>\n",
       "      <th>1786</th>\n",
       "      <td>6/14/2020</td>\n",
       "      <td>Veterinary</td>\n",
       "      <td>Gahanna Animal Hospital Inc</td>\n",
       "      <td>457.42</td>\n",
       "      <td>CREDIT CARD</td>\n",
       "    </tr>\n",
       "    <tr>\n",
       "      <th>1787</th>\n",
       "      <td>6/14/2020</td>\n",
       "      <td>Veterinary</td>\n",
       "      <td>Gahanna Animal Hospital Inc</td>\n",
       "      <td>27.74</td>\n",
       "      <td>CREDIT CARD</td>\n",
       "    </tr>\n",
       "    <tr>\n",
       "      <th>1788</th>\n",
       "      <td>11/08/2020</td>\n",
       "      <td>Veterinary</td>\n",
       "      <td>Gahanna Animal Hospital Inc</td>\n",
       "      <td>131.93</td>\n",
       "      <td>CREDIT CARD</td>\n",
       "    </tr>\n",
       "    <tr>\n",
       "      <th>1789</th>\n",
       "      <td>3/16/2022</td>\n",
       "      <td>Veterinary</td>\n",
       "      <td>BRENTWOOD ANIMAL HOSPI BRENTWOOD MD</td>\n",
       "      <td>171.21</td>\n",
       "      <td>DISCOVER IT CHROME CARD</td>\n",
       "    </tr>\n",
       "  </tbody>\n",
       "</table>\n",
       "<p>1790 rows × 5 columns</p>\n",
       "</div>"
      ],
      "text/plain": [
       "            Date           Category  \\\n",
       "0     12/23/2019         Air Travel   \n",
       "1      1/31/2020         Air Travel   \n",
       "2      5/05/2021   Auto & Transport   \n",
       "3      3/21/2020  Bills & Utilities   \n",
       "4      3/21/2020  Bills & Utilities   \n",
       "...          ...                ...   \n",
       "1785   8/07/2022           Vacation   \n",
       "1786   6/14/2020         Veterinary   \n",
       "1787   6/14/2020         Veterinary   \n",
       "1788  11/08/2020         Veterinary   \n",
       "1789   3/16/2022         Veterinary   \n",
       "\n",
       "                                            Description  Amount  \\\n",
       "0                                                 Delta  198.60   \n",
       "1     CVG 2145A BLUE GRASS BAZ ATLANTA GAAPPLE PAY E...    2.19   \n",
       "2                                                   DMV   30.00   \n",
       "3                                 Brendan Cohen Charged  -11.47   \n",
       "4                                 Brendan Cohen Charged  -11.47   \n",
       "...                                                 ...     ...   \n",
       "1785                               SHENANDOAH NATL PARK   30.00   \n",
       "1786                        Gahanna Animal Hospital Inc  457.42   \n",
       "1787                        Gahanna Animal Hospital Inc   27.74   \n",
       "1788                        Gahanna Animal Hospital Inc  131.93   \n",
       "1789                BRENTWOOD ANIMAL HOSPI BRENTWOOD MD  171.21   \n",
       "\n",
       "                 Account Name  \n",
       "0     DISCOVER IT CHROME CARD  \n",
       "1     DISCOVER IT CHROME CARD  \n",
       "2                 CREDIT CARD  \n",
       "3                       Venmo  \n",
       "4                       Venmo  \n",
       "...                       ...  \n",
       "1785              CREDIT CARD  \n",
       "1786              CREDIT CARD  \n",
       "1787              CREDIT CARD  \n",
       "1788              CREDIT CARD  \n",
       "1789  DISCOVER IT CHROME CARD  \n",
       "\n",
       "[1790 rows x 5 columns]"
      ]
     },
     "execution_count": 179,
     "metadata": {},
     "output_type": "execute_result"
    }
   ],
   "source": [
    "df = pd.DataFrame(transactions, columns=['Date', 'Category', 'Description', 'Amount', 'Account Name'])\n",
    "df"
   ]
  },
  {
   "cell_type": "code",
   "execution_count": 180,
   "id": "57de8f67",
   "metadata": {},
   "outputs": [
    {
     "name": "stderr",
     "output_type": "stream",
     "text": [
      "<ipython-input-180-c4c7eba58a76>:2: FutureWarning: Series.dt.weekofyear and Series.dt.week have been deprecated.  Please use Series.dt.isocalendar().week instead.\n",
      "  df['week'] = df['Date'].dt.week\n"
     ]
    }
   ],
   "source": [
    "df['Date'] = df['Date'].apply(lambda x: datetime.strptime(x, '%m/%d/%Y'))\n",
    "df['week'] = df['Date'].dt.week\n",
    "df['day'] = df['Date'].dt.day\n",
    "df['month'] = df['Date'].dt.month\n",
    "df['year'] = df['Date'].dt.year"
   ]
  },
  {
   "cell_type": "code",
   "execution_count": 181,
   "id": "faf09c05",
   "metadata": {},
   "outputs": [
    {
     "data": {
      "text/html": [
       "<div>\n",
       "<style scoped>\n",
       "    .dataframe tbody tr th:only-of-type {\n",
       "        vertical-align: middle;\n",
       "    }\n",
       "\n",
       "    .dataframe tbody tr th {\n",
       "        vertical-align: top;\n",
       "    }\n",
       "\n",
       "    .dataframe thead th {\n",
       "        text-align: right;\n",
       "    }\n",
       "</style>\n",
       "<table border=\"1\" class=\"dataframe\">\n",
       "  <thead>\n",
       "    <tr style=\"text-align: right;\">\n",
       "      <th></th>\n",
       "      <th>Date</th>\n",
       "      <th>Category</th>\n",
       "      <th>Description</th>\n",
       "      <th>Amount</th>\n",
       "      <th>Account Name</th>\n",
       "      <th>week</th>\n",
       "      <th>day</th>\n",
       "      <th>month</th>\n",
       "      <th>year</th>\n",
       "    </tr>\n",
       "  </thead>\n",
       "  <tbody>\n",
       "    <tr>\n",
       "      <th>0</th>\n",
       "      <td>2019-12-23</td>\n",
       "      <td>Air Travel</td>\n",
       "      <td>Delta</td>\n",
       "      <td>198.60</td>\n",
       "      <td>DISCOVER IT CHROME CARD</td>\n",
       "      <td>52</td>\n",
       "      <td>23</td>\n",
       "      <td>12</td>\n",
       "      <td>2019</td>\n",
       "    </tr>\n",
       "    <tr>\n",
       "      <th>1</th>\n",
       "      <td>2020-01-31</td>\n",
       "      <td>Air Travel</td>\n",
       "      <td>CVG 2145A BLUE GRASS BAZ ATLANTA GAAPPLE PAY E...</td>\n",
       "      <td>2.19</td>\n",
       "      <td>DISCOVER IT CHROME CARD</td>\n",
       "      <td>5</td>\n",
       "      <td>31</td>\n",
       "      <td>1</td>\n",
       "      <td>2020</td>\n",
       "    </tr>\n",
       "    <tr>\n",
       "      <th>2</th>\n",
       "      <td>2021-05-05</td>\n",
       "      <td>Auto &amp; Transport</td>\n",
       "      <td>DMV</td>\n",
       "      <td>30.00</td>\n",
       "      <td>CREDIT CARD</td>\n",
       "      <td>18</td>\n",
       "      <td>5</td>\n",
       "      <td>5</td>\n",
       "      <td>2021</td>\n",
       "    </tr>\n",
       "    <tr>\n",
       "      <th>3</th>\n",
       "      <td>2020-03-21</td>\n",
       "      <td>Bills &amp; Utilities</td>\n",
       "      <td>Brendan Cohen Charged</td>\n",
       "      <td>-11.47</td>\n",
       "      <td>Venmo</td>\n",
       "      <td>12</td>\n",
       "      <td>21</td>\n",
       "      <td>3</td>\n",
       "      <td>2020</td>\n",
       "    </tr>\n",
       "    <tr>\n",
       "      <th>4</th>\n",
       "      <td>2020-03-21</td>\n",
       "      <td>Bills &amp; Utilities</td>\n",
       "      <td>Brendan Cohen Charged</td>\n",
       "      <td>-11.47</td>\n",
       "      <td>Venmo</td>\n",
       "      <td>12</td>\n",
       "      <td>21</td>\n",
       "      <td>3</td>\n",
       "      <td>2020</td>\n",
       "    </tr>\n",
       "    <tr>\n",
       "      <th>...</th>\n",
       "      <td>...</td>\n",
       "      <td>...</td>\n",
       "      <td>...</td>\n",
       "      <td>...</td>\n",
       "      <td>...</td>\n",
       "      <td>...</td>\n",
       "      <td>...</td>\n",
       "      <td>...</td>\n",
       "      <td>...</td>\n",
       "    </tr>\n",
       "    <tr>\n",
       "      <th>1785</th>\n",
       "      <td>2022-08-07</td>\n",
       "      <td>Vacation</td>\n",
       "      <td>SHENANDOAH NATL PARK</td>\n",
       "      <td>30.00</td>\n",
       "      <td>CREDIT CARD</td>\n",
       "      <td>31</td>\n",
       "      <td>7</td>\n",
       "      <td>8</td>\n",
       "      <td>2022</td>\n",
       "    </tr>\n",
       "    <tr>\n",
       "      <th>1786</th>\n",
       "      <td>2020-06-14</td>\n",
       "      <td>Veterinary</td>\n",
       "      <td>Gahanna Animal Hospital Inc</td>\n",
       "      <td>457.42</td>\n",
       "      <td>CREDIT CARD</td>\n",
       "      <td>24</td>\n",
       "      <td>14</td>\n",
       "      <td>6</td>\n",
       "      <td>2020</td>\n",
       "    </tr>\n",
       "    <tr>\n",
       "      <th>1787</th>\n",
       "      <td>2020-06-14</td>\n",
       "      <td>Veterinary</td>\n",
       "      <td>Gahanna Animal Hospital Inc</td>\n",
       "      <td>27.74</td>\n",
       "      <td>CREDIT CARD</td>\n",
       "      <td>24</td>\n",
       "      <td>14</td>\n",
       "      <td>6</td>\n",
       "      <td>2020</td>\n",
       "    </tr>\n",
       "    <tr>\n",
       "      <th>1788</th>\n",
       "      <td>2020-11-08</td>\n",
       "      <td>Veterinary</td>\n",
       "      <td>Gahanna Animal Hospital Inc</td>\n",
       "      <td>131.93</td>\n",
       "      <td>CREDIT CARD</td>\n",
       "      <td>45</td>\n",
       "      <td>8</td>\n",
       "      <td>11</td>\n",
       "      <td>2020</td>\n",
       "    </tr>\n",
       "    <tr>\n",
       "      <th>1789</th>\n",
       "      <td>2022-03-16</td>\n",
       "      <td>Veterinary</td>\n",
       "      <td>BRENTWOOD ANIMAL HOSPI BRENTWOOD MD</td>\n",
       "      <td>171.21</td>\n",
       "      <td>DISCOVER IT CHROME CARD</td>\n",
       "      <td>11</td>\n",
       "      <td>16</td>\n",
       "      <td>3</td>\n",
       "      <td>2022</td>\n",
       "    </tr>\n",
       "  </tbody>\n",
       "</table>\n",
       "<p>1790 rows × 9 columns</p>\n",
       "</div>"
      ],
      "text/plain": [
       "           Date           Category  \\\n",
       "0    2019-12-23         Air Travel   \n",
       "1    2020-01-31         Air Travel   \n",
       "2    2021-05-05   Auto & Transport   \n",
       "3    2020-03-21  Bills & Utilities   \n",
       "4    2020-03-21  Bills & Utilities   \n",
       "...         ...                ...   \n",
       "1785 2022-08-07           Vacation   \n",
       "1786 2020-06-14         Veterinary   \n",
       "1787 2020-06-14         Veterinary   \n",
       "1788 2020-11-08         Veterinary   \n",
       "1789 2022-03-16         Veterinary   \n",
       "\n",
       "                                            Description  Amount  \\\n",
       "0                                                 Delta  198.60   \n",
       "1     CVG 2145A BLUE GRASS BAZ ATLANTA GAAPPLE PAY E...    2.19   \n",
       "2                                                   DMV   30.00   \n",
       "3                                 Brendan Cohen Charged  -11.47   \n",
       "4                                 Brendan Cohen Charged  -11.47   \n",
       "...                                                 ...     ...   \n",
       "1785                               SHENANDOAH NATL PARK   30.00   \n",
       "1786                        Gahanna Animal Hospital Inc  457.42   \n",
       "1787                        Gahanna Animal Hospital Inc   27.74   \n",
       "1788                        Gahanna Animal Hospital Inc  131.93   \n",
       "1789                BRENTWOOD ANIMAL HOSPI BRENTWOOD MD  171.21   \n",
       "\n",
       "                 Account Name  week  day  month  year  \n",
       "0     DISCOVER IT CHROME CARD    52   23     12  2019  \n",
       "1     DISCOVER IT CHROME CARD     5   31      1  2020  \n",
       "2                 CREDIT CARD    18    5      5  2021  \n",
       "3                       Venmo    12   21      3  2020  \n",
       "4                       Venmo    12   21      3  2020  \n",
       "...                       ...   ...  ...    ...   ...  \n",
       "1785              CREDIT CARD    31    7      8  2022  \n",
       "1786              CREDIT CARD    24   14      6  2020  \n",
       "1787              CREDIT CARD    24   14      6  2020  \n",
       "1788              CREDIT CARD    45    8     11  2020  \n",
       "1789  DISCOVER IT CHROME CARD    11   16      3  2022  \n",
       "\n",
       "[1790 rows x 9 columns]"
      ]
     },
     "execution_count": 181,
     "metadata": {},
     "output_type": "execute_result"
    }
   ],
   "source": [
    "df"
   ]
  },
  {
   "cell_type": "code",
   "execution_count": 214,
   "id": "cfb00804",
   "metadata": {},
   "outputs": [
    {
     "name": "stdout",
     "output_type": "stream",
     "text": [
      "2022\n"
     ]
    }
   ],
   "source": [
    "year = int(input())\n",
    "year = dt.datetime(year, 1, 1).year"
   ]
  },
  {
   "cell_type": "code",
   "execution_count": 231,
   "id": "191bd486",
   "metadata": {},
   "outputs": [
    {
     "data": {
      "text/plain": [
       "-19172.829999999998"
      ]
     },
     "execution_count": 231,
     "metadata": {},
     "output_type": "execute_result"
    }
   ],
   "source": [
    "by_year = df[df['year'] == year].groupby('Category').sum()['Amount']\n",
    "expenses_by_year = by_year.drop('Paycheck').sum() * -1\n",
    "expenses_by_year"
   ]
  },
  {
   "cell_type": "code",
   "execution_count": null,
   "id": "79d41250",
   "metadata": {},
   "outputs": [
    {
     "name": "stdout",
     "output_type": "stream",
     "text": [
      " * Serving Flask app \"__main__\" (lazy loading)\n",
      " * Environment: production\n",
      "\u001b[31m   WARNING: This is a development server. Do not use it in a production deployment.\u001b[0m\n",
      "\u001b[2m   Use a production WSGI server instead.\u001b[0m\n",
      " * Debug mode: off\n"
     ]
    },
    {
     "name": "stderr",
     "output_type": "stream",
     "text": [
      " * Running on http://127.0.0.1:5000/ (Press CTRL+C to quit)\n",
      "127.0.0.1 - - [19/Aug/2022 15:15:54] \"\u001b[37mGET / HTTP/1.1\u001b[0m\" 200 -\n",
      "127.0.0.1 - - [19/Aug/2022 15:15:54] \"\u001b[33mGET /static/https://fonts.googleapis.com/css%3Ffamily%3DNunito:200%2C200i%2C300%2C300i%2C400%2C400i%2C600%2C600i%2C700%2C700i%2C800%2C800i%2C900%2C900i HTTP/1.1\u001b[0m\" 404 -\n",
      "127.0.0.1 - - [19/Aug/2022 15:15:54] \"\u001b[33mGET /assets/bootstrap/js/bootstrap.min.js HTTP/1.1\u001b[0m\" 404 -\n",
      "127.0.0.1 - - [19/Aug/2022 15:15:54] \"\u001b[33mGET /assets/js/chart.min.js HTTP/1.1\u001b[0m\" 404 -\n",
      "127.0.0.1 - - [19/Aug/2022 15:15:54] \"\u001b[33mGET /assets/js/script.min.js HTTP/1.1\u001b[0m\" 404 -\n"
     ]
    }
   ],
   "source": [
    "## from flask import Flask, render_template\n",
    "app = Flask(__name__)\n",
    "\n",
    "@app.route('/', methods=['GET', 'POST'])\n",
    "def dashboard():\n",
    "    if expenses_by_year < 0:\n",
    "        expenses = expenses_by_year * -1\n",
    "        expenses = \"-${:,.2f}\".format(expenses)\n",
    "    else:\n",
    "        expenses = \"${:,.2f}\".format(expenses_by_year)\n",
    "    return render_template('index.html', income = \"${:,.2f}\".format(income), expenses = expenses)\n",
    "\n",
    "@app.route('/table.html', methods=['GET', 'POST'])\n",
    "def finances():\n",
    "    return render_template('table.html')\n",
    "\n",
    "if __name__ == '__main__':\n",
    "    app.run()"
   ]
  },
  {
   "cell_type": "code",
   "execution_count": null,
   "id": "a6dcdc76",
   "metadata": {},
   "outputs": [],
   "source": []
  },
  {
   "cell_type": "code",
   "execution_count": null,
   "id": "be9dee2e",
   "metadata": {},
   "outputs": [],
   "source": []
  }
 ],
 "metadata": {
  "kernelspec": {
   "display_name": "Python 3",
   "language": "python",
   "name": "python3"
  },
  "language_info": {
   "codemirror_mode": {
    "name": "ipython",
    "version": 3
   },
   "file_extension": ".py",
   "mimetype": "text/x-python",
   "name": "python",
   "nbconvert_exporter": "python",
   "pygments_lexer": "ipython3",
   "version": "3.8.10"
  }
 },
 "nbformat": 4,
 "nbformat_minor": 5
}
