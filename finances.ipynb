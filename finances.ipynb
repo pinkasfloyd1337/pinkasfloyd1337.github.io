{
 "cells": [
  {
   "cell_type": "code",
   "execution_count": 79,
   "id": "0f8f96ad",
   "metadata": {},
   "outputs": [],
   "source": [
    "import pandas as pd\n",
    "from datetime import datetime"
   ]
  },
  {
   "cell_type": "code",
   "execution_count": 80,
   "id": "38a31ca7",
   "metadata": {},
   "outputs": [],
   "source": [
    "income_sheet = pd.read_excel('Goal.xlsx', sheet_name = 'Income', index_col = 0)"
   ]
  },
  {
   "cell_type": "code",
   "execution_count": 81,
   "id": "634c661c",
   "metadata": {},
   "outputs": [
    {
     "data": {
      "text/plain": [
       "108397.58"
      ]
     },
     "execution_count": 81,
     "metadata": {},
     "output_type": "execute_result"
    }
   ],
   "source": [
    "income = income_sheet['Yearly']['Base Pay']\n",
    "income"
   ]
  },
  {
   "cell_type": "code",
   "execution_count": 82,
   "id": "ce70d31b",
   "metadata": {},
   "outputs": [
    {
     "data": {
      "text/plain": [
       "8671.8064"
      ]
     },
     "execution_count": 82,
     "metadata": {},
     "output_type": "execute_result"
    }
   ],
   "source": [
    "k_401 = income * 0.08\n",
    "k_401"
   ]
  },
  {
   "cell_type": "code",
   "execution_count": 83,
   "id": "961d5922",
   "metadata": {},
   "outputs": [
    {
     "data": {
      "text/plain": [
       "280.317258375074"
      ]
     },
     "execution_count": 83,
     "metadata": {},
     "output_type": "execute_result"
    }
   ],
   "source": [
    "benefits = income * 0.0025860103\n",
    "benefits"
   ]
  },
  {
   "cell_type": "code",
   "execution_count": 84,
   "id": "d6bece1a",
   "metadata": {},
   "outputs": [
    {
     "data": {
      "text/plain": [
       "16873.51504223664"
      ]
     },
     "execution_count": 84,
     "metadata": {},
     "output_type": "execute_result"
    }
   ],
   "source": [
    "federal_tax = income * 0.155663208\n",
    "federal_tax"
   ]
  },
  {
   "cell_type": "code",
   "execution_count": 85,
   "id": "c1214884",
   "metadata": {},
   "outputs": [
    {
     "data": {
      "text/plain": [
       "6754.493949985422"
      ]
     },
     "execution_count": 85,
     "metadata": {},
     "output_type": "execute_result"
    }
   ],
   "source": [
    "ss = income * 0.0623122209\n",
    "ss"
   ]
  },
  {
   "cell_type": "code",
   "execution_count": 86,
   "id": "12dea13c",
   "metadata": {},
   "outputs": [
    {
     "data": {
      "text/plain": [
       "1579.664557078628"
      ]
     },
     "execution_count": 86,
     "metadata": {},
     "output_type": "execute_result"
    }
   ],
   "source": [
    "medicare = income * 0.0145728766\n",
    "medicare"
   ]
  },
  {
   "cell_type": "code",
   "execution_count": 87,
   "id": "129e0471",
   "metadata": {},
   "outputs": [
    {
     "data": {
      "text/plain": [
       "74237.78279232423"
      ]
     },
     "execution_count": 87,
     "metadata": {},
     "output_type": "execute_result"
    }
   ],
   "source": [
    "net_pay = income - k_401 - benefits - federal_tax - ss - medicare\n",
    "net_pay"
   ]
  },
  {
   "cell_type": "code",
   "execution_count": 88,
   "id": "1a87aa75",
   "metadata": {},
   "outputs": [
    {
     "data": {
      "text/html": [
       "<div>\n",
       "<style scoped>\n",
       "    .dataframe tbody tr th:only-of-type {\n",
       "        vertical-align: middle;\n",
       "    }\n",
       "\n",
       "    .dataframe tbody tr th {\n",
       "        vertical-align: top;\n",
       "    }\n",
       "\n",
       "    .dataframe thead th {\n",
       "        text-align: right;\n",
       "    }\n",
       "</style>\n",
       "<table border=\"1\" class=\"dataframe\">\n",
       "  <thead>\n",
       "    <tr style=\"text-align: right;\">\n",
       "      <th></th>\n",
       "      <th>Date</th>\n",
       "      <th>Description</th>\n",
       "      <th>Original Description</th>\n",
       "      <th>Amount</th>\n",
       "      <th>Transaction Type</th>\n",
       "      <th>Category</th>\n",
       "      <th>Account Name</th>\n",
       "      <th>Labels</th>\n",
       "      <th>Notes</th>\n",
       "    </tr>\n",
       "  </thead>\n",
       "  <tbody>\n",
       "    <tr>\n",
       "      <th>0</th>\n",
       "      <td>12/23/2019</td>\n",
       "      <td>Delta</td>\n",
       "      <td>DELTA AIR LINES 18002211212 CA</td>\n",
       "      <td>198.60</td>\n",
       "      <td>debit</td>\n",
       "      <td>Air Travel</td>\n",
       "      <td>DISCOVER IT CHROME CARD</td>\n",
       "      <td>NaN</td>\n",
       "      <td>NaN</td>\n",
       "    </tr>\n",
       "    <tr>\n",
       "      <th>1</th>\n",
       "      <td>1/31/2020</td>\n",
       "      <td>CVG 2145A BLUE GRASS BAZ ATLANTA GAAPPLE PAY E...</td>\n",
       "      <td>CVG 2145A BLUE GRASS BAZ ATLANTA GAAPPLE PAY E...</td>\n",
       "      <td>2.19</td>\n",
       "      <td>debit</td>\n",
       "      <td>Air Travel</td>\n",
       "      <td>DISCOVER IT CHROME CARD</td>\n",
       "      <td>NaN</td>\n",
       "      <td>NaN</td>\n",
       "    </tr>\n",
       "    <tr>\n",
       "      <th>2</th>\n",
       "      <td>5/05/2021</td>\n",
       "      <td>DMV</td>\n",
       "      <td>OH BUREAU MOTOR VEHICLES</td>\n",
       "      <td>30.00</td>\n",
       "      <td>debit</td>\n",
       "      <td>Auto &amp; Transport</td>\n",
       "      <td>CREDIT CARD</td>\n",
       "      <td>NaN</td>\n",
       "      <td>NaN</td>\n",
       "    </tr>\n",
       "    <tr>\n",
       "      <th>3</th>\n",
       "      <td>3/21/2020</td>\n",
       "      <td>Brendan Cohen Charged</td>\n",
       "      <td>Brendan Cohen Charged Keith Cook</td>\n",
       "      <td>11.47</td>\n",
       "      <td>credit</td>\n",
       "      <td>Bills &amp; Utilities</td>\n",
       "      <td>Venmo</td>\n",
       "      <td>NaN</td>\n",
       "      <td>NaN</td>\n",
       "    </tr>\n",
       "    <tr>\n",
       "      <th>4</th>\n",
       "      <td>3/21/2020</td>\n",
       "      <td>Brendan Cohen Charged</td>\n",
       "      <td>Brendan Cohen Charged Justin Mormol</td>\n",
       "      <td>11.47</td>\n",
       "      <td>credit</td>\n",
       "      <td>Bills &amp; Utilities</td>\n",
       "      <td>Venmo</td>\n",
       "      <td>NaN</td>\n",
       "      <td>NaN</td>\n",
       "    </tr>\n",
       "    <tr>\n",
       "      <th>...</th>\n",
       "      <td>...</td>\n",
       "      <td>...</td>\n",
       "      <td>...</td>\n",
       "      <td>...</td>\n",
       "      <td>...</td>\n",
       "      <td>...</td>\n",
       "      <td>...</td>\n",
       "      <td>...</td>\n",
       "      <td>...</td>\n",
       "    </tr>\n",
       "    <tr>\n",
       "      <th>1785</th>\n",
       "      <td>8/07/2022</td>\n",
       "      <td>SHENANDOAH NATL PARK</td>\n",
       "      <td>SHENANDOAH NATL PARK</td>\n",
       "      <td>30.00</td>\n",
       "      <td>debit</td>\n",
       "      <td>Vacation</td>\n",
       "      <td>CREDIT CARD</td>\n",
       "      <td>Expenses</td>\n",
       "      <td>NaN</td>\n",
       "    </tr>\n",
       "    <tr>\n",
       "      <th>1786</th>\n",
       "      <td>6/14/2020</td>\n",
       "      <td>Gahanna Animal Hospital Inc</td>\n",
       "      <td>GAHANNA ANIMAL HOSPITA</td>\n",
       "      <td>457.42</td>\n",
       "      <td>debit</td>\n",
       "      <td>Veterinary</td>\n",
       "      <td>CREDIT CARD</td>\n",
       "      <td>NaN</td>\n",
       "      <td>NaN</td>\n",
       "    </tr>\n",
       "    <tr>\n",
       "      <th>1787</th>\n",
       "      <td>6/14/2020</td>\n",
       "      <td>Gahanna Animal Hospital Inc</td>\n",
       "      <td>GAHANNA ANIMAL HOSPITA</td>\n",
       "      <td>27.74</td>\n",
       "      <td>debit</td>\n",
       "      <td>Veterinary</td>\n",
       "      <td>CREDIT CARD</td>\n",
       "      <td>NaN</td>\n",
       "      <td>NaN</td>\n",
       "    </tr>\n",
       "    <tr>\n",
       "      <th>1788</th>\n",
       "      <td>11/08/2020</td>\n",
       "      <td>Gahanna Animal Hospital Inc</td>\n",
       "      <td>GAHANNA ANIMAL HOSPITA</td>\n",
       "      <td>131.93</td>\n",
       "      <td>debit</td>\n",
       "      <td>Veterinary</td>\n",
       "      <td>CREDIT CARD</td>\n",
       "      <td>NaN</td>\n",
       "      <td>NaN</td>\n",
       "    </tr>\n",
       "    <tr>\n",
       "      <th>1789</th>\n",
       "      <td>3/16/2022</td>\n",
       "      <td>BRENTWOOD ANIMAL HOSPI BRENTWOOD MD</td>\n",
       "      <td>BRENTWOOD ANIMAL HOSPI BRENTWOOD MD</td>\n",
       "      <td>171.21</td>\n",
       "      <td>debit</td>\n",
       "      <td>Veterinary</td>\n",
       "      <td>DISCOVER IT CHROME CARD</td>\n",
       "      <td>Expenses</td>\n",
       "      <td>NaN</td>\n",
       "    </tr>\n",
       "  </tbody>\n",
       "</table>\n",
       "<p>1790 rows × 9 columns</p>\n",
       "</div>"
      ],
      "text/plain": [
       "            Date                                        Description  \\\n",
       "0     12/23/2019                                              Delta   \n",
       "1      1/31/2020  CVG 2145A BLUE GRASS BAZ ATLANTA GAAPPLE PAY E...   \n",
       "2      5/05/2021                                                DMV   \n",
       "3      3/21/2020                              Brendan Cohen Charged   \n",
       "4      3/21/2020                              Brendan Cohen Charged   \n",
       "...          ...                                                ...   \n",
       "1785   8/07/2022                               SHENANDOAH NATL PARK   \n",
       "1786   6/14/2020                        Gahanna Animal Hospital Inc   \n",
       "1787   6/14/2020                        Gahanna Animal Hospital Inc   \n",
       "1788  11/08/2020                        Gahanna Animal Hospital Inc   \n",
       "1789   3/16/2022                BRENTWOOD ANIMAL HOSPI BRENTWOOD MD   \n",
       "\n",
       "                                   Original Description  Amount  \\\n",
       "0                        DELTA AIR LINES 18002211212 CA  198.60   \n",
       "1     CVG 2145A BLUE GRASS BAZ ATLANTA GAAPPLE PAY E...    2.19   \n",
       "2                              OH BUREAU MOTOR VEHICLES   30.00   \n",
       "3                      Brendan Cohen Charged Keith Cook   11.47   \n",
       "4                   Brendan Cohen Charged Justin Mormol   11.47   \n",
       "...                                                 ...     ...   \n",
       "1785                               SHENANDOAH NATL PARK   30.00   \n",
       "1786                             GAHANNA ANIMAL HOSPITA  457.42   \n",
       "1787                             GAHANNA ANIMAL HOSPITA   27.74   \n",
       "1788                             GAHANNA ANIMAL HOSPITA  131.93   \n",
       "1789                BRENTWOOD ANIMAL HOSPI BRENTWOOD MD  171.21   \n",
       "\n",
       "     Transaction Type           Category             Account Name    Labels  \\\n",
       "0               debit         Air Travel  DISCOVER IT CHROME CARD       NaN   \n",
       "1               debit         Air Travel  DISCOVER IT CHROME CARD       NaN   \n",
       "2               debit   Auto & Transport              CREDIT CARD       NaN   \n",
       "3              credit  Bills & Utilities                    Venmo       NaN   \n",
       "4              credit  Bills & Utilities                    Venmo       NaN   \n",
       "...               ...                ...                      ...       ...   \n",
       "1785            debit           Vacation              CREDIT CARD  Expenses   \n",
       "1786            debit         Veterinary              CREDIT CARD       NaN   \n",
       "1787            debit         Veterinary              CREDIT CARD       NaN   \n",
       "1788            debit         Veterinary              CREDIT CARD       NaN   \n",
       "1789            debit         Veterinary  DISCOVER IT CHROME CARD  Expenses   \n",
       "\n",
       "      Notes  \n",
       "0       NaN  \n",
       "1       NaN  \n",
       "2       NaN  \n",
       "3       NaN  \n",
       "4       NaN  \n",
       "...     ...  \n",
       "1785    NaN  \n",
       "1786    NaN  \n",
       "1787    NaN  \n",
       "1788    NaN  \n",
       "1789    NaN  \n",
       "\n",
       "[1790 rows x 9 columns]"
      ]
     },
     "execution_count": 88,
     "metadata": {},
     "output_type": "execute_result"
    }
   ],
   "source": [
    "transactions = pd.read_csv('transactions.csv')\n",
    "transactions"
   ]
  },
  {
   "cell_type": "code",
   "execution_count": 89,
   "id": "7503edb3",
   "metadata": {},
   "outputs": [
    {
     "name": "stderr",
     "output_type": "stream",
     "text": [
      "<ipython-input-89-c88f70988ea8>:1: SettingWithCopyWarning: \n",
      "A value is trying to be set on a copy of a slice from a DataFrame\n",
      "\n",
      "See the caveats in the documentation: https://pandas.pydata.org/pandas-docs/stable/user_guide/indexing.html#returning-a-view-versus-a-copy\n",
      "  transactions['Amount'][transactions['Transaction Type'] == 'debit'] = transactions[transactions['Transaction Type'] == 'debit'].apply(lambda x: x*-1)['Amount']\n"
     ]
    }
   ],
   "source": [
    "transactions['Amount'][transactions['Transaction Type'] == 'debit'] = transactions[transactions['Transaction Type'] == 'debit'].apply(lambda x: x*-1)['Amount']"
   ]
  },
  {
   "cell_type": "code",
   "execution_count": 90,
   "id": "4e42a667",
   "metadata": {},
   "outputs": [
    {
     "data": {
      "text/html": [
       "<div>\n",
       "<style scoped>\n",
       "    .dataframe tbody tr th:only-of-type {\n",
       "        vertical-align: middle;\n",
       "    }\n",
       "\n",
       "    .dataframe tbody tr th {\n",
       "        vertical-align: top;\n",
       "    }\n",
       "\n",
       "    .dataframe thead th {\n",
       "        text-align: right;\n",
       "    }\n",
       "</style>\n",
       "<table border=\"1\" class=\"dataframe\">\n",
       "  <thead>\n",
       "    <tr style=\"text-align: right;\">\n",
       "      <th></th>\n",
       "      <th>Date</th>\n",
       "      <th>Category</th>\n",
       "      <th>Description</th>\n",
       "      <th>Amount</th>\n",
       "      <th>Account Name</th>\n",
       "    </tr>\n",
       "  </thead>\n",
       "  <tbody>\n",
       "    <tr>\n",
       "      <th>0</th>\n",
       "      <td>12/23/2019</td>\n",
       "      <td>Air Travel</td>\n",
       "      <td>Delta</td>\n",
       "      <td>-198.60</td>\n",
       "      <td>DISCOVER IT CHROME CARD</td>\n",
       "    </tr>\n",
       "    <tr>\n",
       "      <th>1</th>\n",
       "      <td>1/31/2020</td>\n",
       "      <td>Air Travel</td>\n",
       "      <td>CVG 2145A BLUE GRASS BAZ ATLANTA GAAPPLE PAY E...</td>\n",
       "      <td>-2.19</td>\n",
       "      <td>DISCOVER IT CHROME CARD</td>\n",
       "    </tr>\n",
       "    <tr>\n",
       "      <th>2</th>\n",
       "      <td>5/05/2021</td>\n",
       "      <td>Auto &amp; Transport</td>\n",
       "      <td>DMV</td>\n",
       "      <td>-30.00</td>\n",
       "      <td>CREDIT CARD</td>\n",
       "    </tr>\n",
       "    <tr>\n",
       "      <th>3</th>\n",
       "      <td>3/21/2020</td>\n",
       "      <td>Bills &amp; Utilities</td>\n",
       "      <td>Brendan Cohen Charged</td>\n",
       "      <td>11.47</td>\n",
       "      <td>Venmo</td>\n",
       "    </tr>\n",
       "    <tr>\n",
       "      <th>4</th>\n",
       "      <td>3/21/2020</td>\n",
       "      <td>Bills &amp; Utilities</td>\n",
       "      <td>Brendan Cohen Charged</td>\n",
       "      <td>11.47</td>\n",
       "      <td>Venmo</td>\n",
       "    </tr>\n",
       "    <tr>\n",
       "      <th>...</th>\n",
       "      <td>...</td>\n",
       "      <td>...</td>\n",
       "      <td>...</td>\n",
       "      <td>...</td>\n",
       "      <td>...</td>\n",
       "    </tr>\n",
       "    <tr>\n",
       "      <th>1785</th>\n",
       "      <td>8/07/2022</td>\n",
       "      <td>Vacation</td>\n",
       "      <td>SHENANDOAH NATL PARK</td>\n",
       "      <td>-30.00</td>\n",
       "      <td>CREDIT CARD</td>\n",
       "    </tr>\n",
       "    <tr>\n",
       "      <th>1786</th>\n",
       "      <td>6/14/2020</td>\n",
       "      <td>Veterinary</td>\n",
       "      <td>Gahanna Animal Hospital Inc</td>\n",
       "      <td>-457.42</td>\n",
       "      <td>CREDIT CARD</td>\n",
       "    </tr>\n",
       "    <tr>\n",
       "      <th>1787</th>\n",
       "      <td>6/14/2020</td>\n",
       "      <td>Veterinary</td>\n",
       "      <td>Gahanna Animal Hospital Inc</td>\n",
       "      <td>-27.74</td>\n",
       "      <td>CREDIT CARD</td>\n",
       "    </tr>\n",
       "    <tr>\n",
       "      <th>1788</th>\n",
       "      <td>11/08/2020</td>\n",
       "      <td>Veterinary</td>\n",
       "      <td>Gahanna Animal Hospital Inc</td>\n",
       "      <td>-131.93</td>\n",
       "      <td>CREDIT CARD</td>\n",
       "    </tr>\n",
       "    <tr>\n",
       "      <th>1789</th>\n",
       "      <td>3/16/2022</td>\n",
       "      <td>Veterinary</td>\n",
       "      <td>BRENTWOOD ANIMAL HOSPI BRENTWOOD MD</td>\n",
       "      <td>-171.21</td>\n",
       "      <td>DISCOVER IT CHROME CARD</td>\n",
       "    </tr>\n",
       "  </tbody>\n",
       "</table>\n",
       "<p>1790 rows × 5 columns</p>\n",
       "</div>"
      ],
      "text/plain": [
       "            Date           Category  \\\n",
       "0     12/23/2019         Air Travel   \n",
       "1      1/31/2020         Air Travel   \n",
       "2      5/05/2021   Auto & Transport   \n",
       "3      3/21/2020  Bills & Utilities   \n",
       "4      3/21/2020  Bills & Utilities   \n",
       "...          ...                ...   \n",
       "1785   8/07/2022           Vacation   \n",
       "1786   6/14/2020         Veterinary   \n",
       "1787   6/14/2020         Veterinary   \n",
       "1788  11/08/2020         Veterinary   \n",
       "1789   3/16/2022         Veterinary   \n",
       "\n",
       "                                            Description  Amount  \\\n",
       "0                                                 Delta -198.60   \n",
       "1     CVG 2145A BLUE GRASS BAZ ATLANTA GAAPPLE PAY E...   -2.19   \n",
       "2                                                   DMV  -30.00   \n",
       "3                                 Brendan Cohen Charged   11.47   \n",
       "4                                 Brendan Cohen Charged   11.47   \n",
       "...                                                 ...     ...   \n",
       "1785                               SHENANDOAH NATL PARK  -30.00   \n",
       "1786                        Gahanna Animal Hospital Inc -457.42   \n",
       "1787                        Gahanna Animal Hospital Inc  -27.74   \n",
       "1788                        Gahanna Animal Hospital Inc -131.93   \n",
       "1789                BRENTWOOD ANIMAL HOSPI BRENTWOOD MD -171.21   \n",
       "\n",
       "                 Account Name  \n",
       "0     DISCOVER IT CHROME CARD  \n",
       "1     DISCOVER IT CHROME CARD  \n",
       "2                 CREDIT CARD  \n",
       "3                       Venmo  \n",
       "4                       Venmo  \n",
       "...                       ...  \n",
       "1785              CREDIT CARD  \n",
       "1786              CREDIT CARD  \n",
       "1787              CREDIT CARD  \n",
       "1788              CREDIT CARD  \n",
       "1789  DISCOVER IT CHROME CARD  \n",
       "\n",
       "[1790 rows x 5 columns]"
      ]
     },
     "execution_count": 90,
     "metadata": {},
     "output_type": "execute_result"
    }
   ],
   "source": [
    "df = pd.DataFrame(transactions, columns=['Date', 'Category', 'Description', 'Amount', 'Account Name'])\n",
    "df"
   ]
  },
  {
   "cell_type": "code",
   "execution_count": 91,
   "id": "aee112d5",
   "metadata": {},
   "outputs": [
    {
     "name": "stderr",
     "output_type": "stream",
     "text": [
      "<ipython-input-91-0875c575732a>:13: FutureWarning: Series.dt.weekofyear and Series.dt.week have been deprecated.  Please use Series.dt.isocalendar().week instead.\n",
      "  df['week'] = df['Date'].dt.week\n"
     ]
    }
   ],
   "source": [
    "from datetime import date, timedelta\n",
    "\n",
    "year, week_num, day_of_week = date.today().isocalendar()\n",
    "\n",
    "today = date.today()\n",
    "start = today - timedelta(days=today.weekday())\n",
    "end = start + timedelta(days=6)\n",
    "\n",
    "this_week = start.strftime(\"%m/%d/%Y\")\n",
    "year = date.today().year\n",
    "\n",
    "df['Date'] = df['Date'].apply(lambda x: datetime.strptime(x, '%m/%d/%Y'))\n",
    "df['week'] = df['Date'].dt.week\n",
    "df['day'] = df['Date'].dt.day\n",
    "df['month'] = df['Date'].dt.month\n",
    "df['year'] = df['Date'].dt.year"
   ]
  },
  {
   "cell_type": "code",
   "execution_count": 92,
   "id": "16c24732",
   "metadata": {},
   "outputs": [],
   "source": [
    "def indexExists(list,index):\n",
    "    try:\n",
    "        list[index]\n",
    "        return True\n",
    "    except KeyError:\n",
    "        return False"
   ]
  },
  {
   "cell_type": "code",
   "execution_count": 93,
   "id": "47fdc4eb",
   "metadata": {},
   "outputs": [],
   "source": [
    "df_no_income = df[df['Category'] != 'Paycheck']\n",
    "expenses_week = df_no_income[df_no_income['year'] == date.today().year].groupby('week').sum()['Amount']\n",
    "if indexExists(expenses_week, week_num):\n",
    "    expenses_week = expenses_week[week_num]\n",
    "else:\n",
    "    expenses_week = 0"
   ]
  },
  {
   "cell_type": "code",
   "execution_count": 94,
   "id": "ffba5f50",
   "metadata": {},
   "outputs": [],
   "source": [
    "df_income = df[df['Category'] == 'Paycheck']\n",
    "income_week = df_income[df_income['year'] == date.today().year].groupby('week').sum()['Amount']\n",
    "if indexExists(income_week, week_num):\n",
    "    income_week = income_week[week_num]\n",
    "else:\n",
    "    income_week = 0"
   ]
  },
  {
   "cell_type": "code",
   "execution_count": 95,
   "id": "781a5385",
   "metadata": {},
   "outputs": [],
   "source": [
    "def formatting(amount):\n",
    "    if amount < 0:\n",
    "        amount = amount * -1\n",
    "        amount = \"-${:,.2f}\".format(amount)\n",
    "    else:\n",
    "        amount = \"${:,.2f}\".format(amount)\n",
    "    return amount"
   ]
  },
  {
   "cell_type": "code",
   "execution_count": 101,
   "id": "964eb686",
   "metadata": {},
   "outputs": [],
   "source": [
    "net_worth = 1\n",
    "progress = 1"
   ]
  },
  {
   "cell_type": "code",
   "execution_count": null,
   "id": "ff1118ef",
   "metadata": {},
   "outputs": [
    {
     "name": "stdout",
     "output_type": "stream",
     "text": [
      " * Serving Flask app \"__main__\" (lazy loading)\n",
      " * Environment: production\n",
      "\u001b[31m   WARNING: This is a development server. Do not use it in a production deployment.\u001b[0m\n",
      "\u001b[2m   Use a production WSGI server instead.\u001b[0m\n",
      " * Debug mode: off\n"
     ]
    },
    {
     "name": "stderr",
     "output_type": "stream",
     "text": [
      " * Running on http://127.0.0.1:5000/ (Press CTRL+C to quit)\n",
      "[2022-08-19 19:05:20,093] ERROR in app: Exception on / [GET]\n",
      "Traceback (most recent call last):\n",
      "  File \"C:\\Users\\bcohe\\anaconda3\\lib\\site-packages\\flask\\app.py\", line 2447, in wsgi_app\n",
      "    response = self.full_dispatch_request()\n",
      "  File \"C:\\Users\\bcohe\\anaconda3\\lib\\site-packages\\flask\\app.py\", line 1952, in full_dispatch_request\n",
      "    rv = self.handle_user_exception(e)\n",
      "  File \"C:\\Users\\bcohe\\anaconda3\\lib\\site-packages\\flask\\app.py\", line 1821, in handle_user_exception\n",
      "    reraise(exc_type, exc_value, tb)\n",
      "  File \"C:\\Users\\bcohe\\anaconda3\\lib\\site-packages\\flask\\_compat.py\", line 39, in reraise\n",
      "    raise value\n",
      "  File \"C:\\Users\\bcohe\\anaconda3\\lib\\site-packages\\flask\\app.py\", line 1950, in full_dispatch_request\n",
      "    rv = self.dispatch_request()\n",
      "  File \"C:\\Users\\bcohe\\anaconda3\\lib\\site-packages\\flask\\app.py\", line 1936, in dispatch_request\n",
      "    return self.view_functions[rule.endpoint](**req.view_args)\n",
      "  File \"<ipython-input-103-d15cc92d64a6>\", line 7, in dashboard\n",
      "    return render_template('index.html',\n",
      "  File \"C:\\Users\\bcohe\\anaconda3\\lib\\site-packages\\flask\\templating.py\", line 138, in render_template\n",
      "    ctx.app.jinja_env.get_or_select_template(template_name_or_list),\n",
      "  File \"C:\\Users\\bcohe\\anaconda3\\lib\\site-packages\\jinja2\\environment.py\", line 930, in get_or_select_template\n",
      "    return self.get_template(template_name_or_list, parent, globals)\n",
      "  File \"C:\\Users\\bcohe\\anaconda3\\lib\\site-packages\\jinja2\\environment.py\", line 883, in get_template\n",
      "    return self._load_template(name, self.make_globals(globals))\n",
      "  File \"C:\\Users\\bcohe\\anaconda3\\lib\\site-packages\\jinja2\\environment.py\", line 857, in _load_template\n",
      "    template = self.loader.load(self, name, globals)\n",
      "  File \"C:\\Users\\bcohe\\anaconda3\\lib\\site-packages\\jinja2\\loaders.py\", line 127, in load\n",
      "    code = environment.compile(source, name, filename)\n",
      "  File \"C:\\Users\\bcohe\\anaconda3\\lib\\site-packages\\jinja2\\environment.py\", line 638, in compile\n",
      "    self.handle_exception(source=source_hint)\n",
      "  File \"C:\\Users\\bcohe\\anaconda3\\lib\\site-packages\\jinja2\\environment.py\", line 832, in handle_exception\n",
      "    reraise(*rewrite_traceback_stack(source=source))\n",
      "  File \"C:\\Users\\bcohe\\anaconda3\\lib\\site-packages\\jinja2\\_compat.py\", line 28, in reraise\n",
      "    raise value.with_traceback(tb)\n",
      "  File \"C:\\Users\\bcohe\\OneDrive\\Documents\\GitHub\\pinkasfloyd1337.github.io\\templates\\index.html\", line 1, in template\n",
      "    <!DOCTYPE html><html><head><meta charset=\"utf-8\"><meta name=\"viewport\" content=\"width=device-width, initial-scale=1.0, shrink-to-fit=no\"><title>Dashboard - Brand</title><link rel=\"stylesheet\" href=\"{{ url_for('static', filename='assets/bootstrap/css/bootstrap.min.css')}}\"><link rel=\"stylesheet\" href=\"{{ url_for('static', filename='https://fonts.googleapis.com/css?family=Nunito:200,200i,300,300i,400,400i,600,600i,700,700i,800,800i,900,900i\"><link rel=\"stylesheet\" href=\"{{ url_for('static', filename='assets/fonts/fontawesome-all.min.css')}}\"><link rel=\"stylesheet\" href=\"{{ url_for('static', filename='assets/fonts/font-awesome.min.css')}}\"><link rel=\"stylesheet\" href=\"{{ url_for('static', filename='assets/fonts/material-icons.min.css')}}\"><link rel=\"stylesheet\" href=\"{{ url_for('static', filename='assets/fonts/fontawesome5-overrides.min.css')}}\"></head><body id=\"page-top\"><div id=\"wrapper\"><nav class=\"navbar navbar-dark align-items-start sidebar sidebar-dark accordion bg-gradient-primary p-0\"><div class=\"container-fluid d-flex flex-column p-0\"><a class=\"navbar-brand d-flex justify-content-center align-items-center sidebar-brand m-0\" href=\"#\"><div class=\"sidebar-brand-icon rotate-n-15\"><i class=\"fas fa-laugh-wink\"></i></div><div class=\"sidebar-brand-text mx-3\"><span>Brand</span></div></a><hr class=\"sidebar-divider my-0\"><ul class=\"navbar-nav text-light\" id=\"accordionSidebar\"><li class=\"nav-item\"><a class=\"nav-link active\" href=\"index.html\"><i class=\"fas fa-tachometer-alt\"></i><span>Dashboard</span></a></li><li class=\"nav-item\"><a class=\"nav-link\" href=\"profile.html\"><i class=\"fas fa-user\"></i><span>Profile</span></a></li><li class=\"nav-item\"><a class=\"nav-link\" href=\"table.html\"><i class=\"fas fa-table\"></i><span>Table</span></a></li><li class=\"nav-item\"><a class=\"nav-link\" href=\"login.html\"><i class=\"far fa-user-circle\"></i><span>Login</span></a></li><li class=\"nav-item\"><a class=\"nav-link\" href=\"register.html\"><i class=\"fas fa-user-circle\"></i><span>Register</span></a></li></ul><div class=\"text-center d-none d-md-inline\"><button class=\"btn rounded-circle border-0\" id=\"sidebarToggle\" type=\"button\"></button></div></div></nav><div class=\"d-flex flex-column\" id=\"content-wrapper\"><div id=\"content\"><nav class=\"navbar navbar-light navbar-expand bg-white shadow mb-4 topbar static-top\"><div class=\"container-fluid\"><button class=\"btn btn-link d-md-none rounded-circle me-3\" id=\"sidebarToggleTop\" type=\"button\"><i class=\"fas fa-bars\"></i></button><form class=\"d-none d-sm-inline-block me-auto ms-md-3 my-2 my-md-0 mw-100 navbar-search\"><div class=\"input-group\"><input class=\"bg-light form-control border-0 small\" type=\"text\" placeholder=\"Search for ...\"><button class=\"btn btn-primary py-0\" type=\"button\"><i class=\"fas fa-search\"></i></button></div></form></div></nav><div class=\"container\"><h2 class=\"text-dark\">Week of {{this_week}}</h2><div class=\"row\"><div class=\"col-md-3\"><div class=\"card shadow border-start-primary py-2\"><div class=\"card-body\"><div class=\"row align-items-center no-gutters\"><div class=\"col me-2\"><div class=\"text-uppercase text-primary fw-bold text-xs mb-1\"><span>Income</span></div><div class=\"text-dark fw-bold h5 mb-0\"><span>{{income_this_week}}</span></div></div><div class=\"col-auto\"><i class=\"material-icons fa-2x text-gray-300\" style=\"font-size: 35px;margin: 0px;\">attach_money</i></div></div></div></div></div><div class=\"col-md-3\"><div class=\"card shadow border-start-success py-2\"><div class=\"card-body\"><div class=\"row align-items-center no-gutters\"><div class=\"col me-2\"><div class=\"text-uppercase text-success fw-bold text-xs mb-1\"><span>Expenses</span></div><div class=\"text-dark fw-bold h5 mb-0\"><span>{{expenses_this_week}}</span></div></div><div class=\"col-auto\"><i class=\"material-icons fa-2x text-gray-300\" style=\"font-size: 35px;\">money_off</i></div></div></div></div></div><div class=\"col-md-3\"><div class=\"card shadow border-start-info py-2\"><div class=\"card-body\"><div class=\"row align-items-center no-gutters\"><div class=\"col me-2\"><div class=\"text-uppercase text-info fw-bold text-xs mb-1\"><span>Net Worth</span></div><div class=\"row g-0 align-items-center\"><div class=\"col-auto\"><div class=\"text-dark fw-bold h5 mb-0 me-3\"><span>{{net_worth}}</span></div></div><div class=\"col\"><div class=\"progress progress-sm\">\n",
      "jinja2.exceptions.TemplateSyntaxError: expected token ',', got 'static'\n",
      "127.0.0.1 - - [19/Aug/2022 19:05:20] \"\u001b[35m\u001b[1mGET / HTTP/1.1\u001b[0m\" 500 -\n"
     ]
    }
   ],
   "source": [
    "from flask import Flask, render_template\n",
    "## from flask import Flask, render_template\n",
    "app = Flask(__name__)\n",
    "\n",
    "@app.route('/', methods=['GET', 'POST'])\n",
    "def dashboard():\n",
    "    return render_template('index.html', \n",
    "    income_this_week = formatting(income_week), expenses_this_week = formatting(expenses_week), this_week = this_week, net_worth = net_worth)\n",
    "\n",
    "@app.route('/table.html', methods=['GET', 'POST'])\n",
    "def finances():\n",
    "    return render_template('table.html')\n",
    "\n",
    "if __name__ == '__main__':\n",
    "    app.run()"
   ]
  },
  {
   "cell_type": "code",
   "execution_count": null,
   "id": "acdd6e5b",
   "metadata": {},
   "outputs": [],
   "source": []
  },
  {
   "cell_type": "code",
   "execution_count": null,
   "id": "99d1ec7b",
   "metadata": {},
   "outputs": [],
   "source": []
  }
 ],
 "metadata": {
  "kernelspec": {
   "display_name": "Python 3",
   "language": "python",
   "name": "python3"
  },
  "language_info": {
   "codemirror_mode": {
    "name": "ipython",
    "version": 3
   },
   "file_extension": ".py",
   "mimetype": "text/x-python",
   "name": "python",
   "nbconvert_exporter": "python",
   "pygments_lexer": "ipython3",
   "version": "3.8.10"
  }
 },
 "nbformat": 4,
 "nbformat_minor": 5
}
