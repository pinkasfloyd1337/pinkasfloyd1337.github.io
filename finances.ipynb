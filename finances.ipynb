{
 "cells": [
  {
   "cell_type": "code",
   "execution_count": 21,
   "id": "0f8f96ad",
   "metadata": {},
   "outputs": [],
   "source": [
    "import pandas as pd\n",
    "from datetime import datetime\n",
    "import numpy as np\n",
    "from datetime import date, timedelta"
   ]
  },
  {
   "cell_type": "code",
   "execution_count": 29,
   "id": "d788a3f7",
   "metadata": {},
   "outputs": [],
   "source": [
    "def indexExists(list,index):\n",
    "    try:\n",
    "        list[index]\n",
    "        return True\n",
    "    except KeyError:\n",
    "        return False"
   ]
  },
  {
   "cell_type": "code",
   "execution_count": 30,
   "id": "9929dc3b",
   "metadata": {},
   "outputs": [],
   "source": [
    "def cal_average(num):\n",
    "    sum_num = 0\n",
    "    for t in num:\n",
    "        sum_num = sum_num + t           \n",
    "\n",
    "    avg = sum_num / len(num)\n",
    "    return avg"
   ]
  },
  {
   "cell_type": "code",
   "execution_count": 31,
   "id": "ef3000ed",
   "metadata": {},
   "outputs": [],
   "source": [
    "def formatting(amount):\n",
    "    if amount < 0:\n",
    "        amount = amount * -1\n",
    "        amount = \"-${:,.2f}\".format(amount)\n",
    "    else:\n",
    "        amount = \"${:,.2f}\".format(amount)\n",
    "    return amount"
   ]
  },
  {
   "cell_type": "code",
   "execution_count": 32,
   "id": "38a31ca7",
   "metadata": {},
   "outputs": [],
   "source": [
    "def salary():\n",
    "    income_sheet = pd.read_excel('Goal.xlsx', sheet_name = 'Income', index_col = 0)\n",
    "    income = income_sheet['Yearly']['Base Pay']\n",
    "    k_401 = income * 0.08\n",
    "    benefits = income * 0.0025860103\n",
    "    federal_tax = income * 0.155663208\n",
    "    ss = income * 0.0623122209\n",
    "    medicare = income * 0.0145728766\n",
    "    net_pay = income - k_401 - benefits - federal_tax - ss - medicare\n",
    "    return [income, k_401, benefits, federal_tax, ss, medicare, net_pay]"
   ]
  },
  {
   "cell_type": "code",
   "execution_count": 33,
   "id": "1a87aa75",
   "metadata": {},
   "outputs": [],
   "source": [
    "def transactions():\n",
    "    transactions = pd.read_csv('transactions.csv')\n",
    "    debit = transactions[transactions['Transaction Type'] == 'debit']\n",
    "    debit.Amount = debit.Amount * -1\n",
    "    transactions = transactions[transactions['Transaction Type'] == 'credit'].merge(debit, how=\"outer\")\n",
    "    return transactions"
   ]
  },
  {
   "cell_type": "code",
   "execution_count": 78,
   "id": "0addb10a",
   "metadata": {},
   "outputs": [
    {
     "name": "stderr",
     "output_type": "stream",
     "text": [
      "C:\\Users\\bcohe\\anaconda3\\lib\\site-packages\\pandas\\core\\generic.py:5494: SettingWithCopyWarning: \n",
      "A value is trying to be set on a copy of a slice from a DataFrame.\n",
      "Try using .loc[row_indexer,col_indexer] = value instead\n",
      "\n",
      "See the caveats in the documentation: https://pandas.pydata.org/pandas-docs/stable/user_guide/indexing.html#returning-a-view-versus-a-copy\n",
      "  self[name] = value\n"
     ]
    }
   ],
   "source": [
    "def df_processed(transactions = transactions()):\n",
    "    df = pd.DataFrame(transactions, columns=['Date', 'Category', 'Description', 'Amount', 'Account Name'])\n",
    "    auto_transport = ['Auto & Transport', 'Auto Insurance', 'Auto Payment', 'Gas & Fuel', 'Parking', 'Public Transportation', 'Ride Share', 'Service & Parts']\n",
    "    bills = ['Bills & Utilities', 'Home Phone', 'Internet', 'Mobile Phone', 'Television', 'Utilities']\n",
    "    business = ['Business Services', 'Advertising', 'Legal', 'Office Supplies', 'Printing', 'Shipping']\n",
    "    education = ['Education', 'Books & Supplies', 'Student Loan', 'Tuition']\n",
    "    entertainment = ['Entertainment', 'Amusement', 'Arts', 'Fun', 'Movies & DVDs', 'Music', 'Newspapers & Magazines', 'Streaming']\n",
    "    fees = ['Fees & Charges', 'ATM Fee', 'Bank Fee', 'Finance Charge', 'Late Fee', 'Service Fee', 'Trade Commissions']\n",
    "    financial = ['Financial', 'Financial Advisor', 'Life Insurance']\n",
    "    food = ['Food & Dining', 'Alcohol & Bars', 'All', 'Coffee Shops', 'Fast Food', 'Food Delivery', 'Restaurants']\n",
    "    groceries = ['Groceries']\n",
    "    gifts = ['Gifts & Donations', 'Charity', 'Gift']\n",
    "    health = ['Health & Fitness', 'Dentist', 'Doctor', 'Eyecare', 'Gym', 'Health Insurance', 'Pharmacy', 'Sports']\n",
    "    home = ['Home', 'Furnishings', 'Home Improvement', 'Home Insurance', 'Home Services', 'Home Supplies', 'Lawn & Garden', 'Mortgage & Rent']\n",
    "    income = ['Income', 'Bonus', 'Interest Income', 'Reimbursement', 'Rental Income', 'Returned Purchase']\n",
    "    paycheck = ['Paycheck']\n",
    "    investments = ['Investments', 'Buy', 'Deposit', 'Dividend & Cap Gains', 'Sell', 'Withdrawal']\n",
    "    personal_care = ['Personal Care', 'Hair', 'Laundry', 'Spa & Massage']\n",
    "    pets = ['Pets', 'Pet Food & Supplies', 'Pet Grooming', 'Veterinary']\n",
    "    shopping = ['Shopping', 'Books', 'Clothing', 'Electronics & Software', 'Hobbies', 'Sporting Goods']\n",
    "    transfer = ['Transfer', 'Credit Card Payment', 'Savings', 'Transfer for Cash Spending']\n",
    "    travel = ['Travel', 'Air Travel', 'Hotel', 'Rental Car & Taxi', 'Vacation']\n",
    "    df['Category'] = np.where(df['Category'].isin(auto_transport), 'Auto & Transport',\n",
    "                            np.where(df['Category'].isin(bills), 'Bills & Utilities', \n",
    "                            np.where(df['Category'].isin(business), 'Business Services',\n",
    "                            np.where(df['Category'].isin(education), 'Education',\n",
    "                            np.where(df['Category'].isin(entertainment), 'Entertainment',\n",
    "                            np.where(df['Category'].isin(fees), 'Fees & Charges',\n",
    "                            np.where(df['Category'].isin(financial), 'Financial',\n",
    "                            np.where(df['Category'].isin(food), 'Food & Dining',\n",
    "                            np.where(df['Category'].isin(groceries), 'Groceries',\n",
    "                            np.where(df['Category'].isin(gifts), 'Gifts & Donations',\n",
    "                            np.where(df['Category'].isin(health), 'Health & Fitness',\n",
    "                            np.where(df['Category'].isin(home), 'Home',\n",
    "                            np.where(df['Category'].isin(income), 'Income',\n",
    "                            np.where(df['Category'].isin(paycheck), 'Paycheck',\n",
    "                            np.where(df['Category'].isin(investments), 'Investments',\n",
    "                            np.where(df['Category'].isin(personal_care), 'Personal Care',\n",
    "                            np.where(df['Category'].isin(pets), 'Pets',\n",
    "                            np.where(df['Category'].isin(shopping), 'Shopping',\n",
    "                            np.where(df['Category'].isin(transfer), 'Transfer',\n",
    "                            np.where(df['Category'].isin(travel), 'Travel',\n",
    "                    'Other'))))))))))))))))))))\n",
    "    df['Expenses'] = np.where(df['Category'].isin(auto_transport), 1,\n",
    "                            np.where(df['Category'].isin(bills), 1, \n",
    "                            np.where(df['Category'].isin(business), 1,\n",
    "                            np.where(df['Category'].isin(education), 1,\n",
    "                            np.where(df['Category'].isin(entertainment), 1,\n",
    "                            np.where(df['Category'].isin(fees), 0,\n",
    "                            np.where(df['Category'].isin(financial), 0,\n",
    "                            np.where(df['Category'].isin(food), 1,\n",
    "                            np.where(df['Category'].isin(groceries), 1,\n",
    "                            np.where(df['Category'].isin(gifts), 0,\n",
    "                            np.where(df['Category'].isin(health), 1,\n",
    "                            np.where(df['Category'].isin(home), 1,\n",
    "                            np.where(df['Category'].isin(income), 0,\n",
    "                            np.where(df['Category'].isin(paycheck), 0,\n",
    "                            np.where(df['Category'].isin(investments), 0,\n",
    "                            np.where(df['Category'].isin(personal_care), 1,\n",
    "                            np.where(df['Category'].isin(pets), 1,\n",
    "                            np.where(df['Category'].isin(shopping), 1,\n",
    "                            np.where(df['Category'].isin(transfer), 0,\n",
    "                            np.where(df['Category'].isin(travel), 1,\n",
    "                    1))))))))))))))))))))\n",
    "    df['Budget'] = np.where(df['Category'].isin(auto_transport), 190,\n",
    "                            np.where(df['Category'].isin(bills), 100, \n",
    "                            np.where(df['Category'].isin(business), 10,\n",
    "                            np.where(df['Category'].isin(education), 45,\n",
    "                            np.where(df['Category'].isin(entertainment), 75,\n",
    "                            np.where(df['Category'].isin(fees), 0,\n",
    "                            np.where(df['Category'].isin(financial), 0,\n",
    "                            np.where(df['Category'].isin(food), 315,\n",
    "                            np.where(df['Category'].isin(groceries), 320,\n",
    "                            np.where(df['Category'].isin(gifts), 0,\n",
    "                            np.where(df['Category'].isin(health), 105,\n",
    "                            np.where(df['Category'].isin(home), 1700,\n",
    "                            np.where(df['Category'].isin(income), 0,\n",
    "                            np.where(df['Category'].isin(paycheck), 0,\n",
    "                            np.where(df['Category'].isin(investments), 0,\n",
    "                            np.where(df['Category'].isin(personal_care), 0,\n",
    "                            np.where(df['Category'].isin(pets), 100,\n",
    "                            np.where(df['Category'].isin(shopping), 190,\n",
    "                            np.where(df['Category'].isin(transfer), 10,\n",
    "                            np.where(df['Category'].isin(travel), 190,\n",
    "                    1))))))))))))))))))))\n",
    "    df['Date'] = df['Date'].apply(lambda x: datetime.strptime(x, '%m/%d/%Y'))\n",
    "    df['week'] = df['Date'].dt.isocalendar().week\n",
    "    df['day'] = df['Date'].dt.day\n",
    "    df['month'] = df['Date'].dt.month\n",
    "    df['year'] = df['Date'].dt.year\n",
    "    return df"
   ]
  },
  {
   "cell_type": "code",
   "execution_count": 96,
   "id": "d79b0ad1",
   "metadata": {},
   "outputs": [],
   "source": [
    "def process_dates():\n",
    "    year, week_num, day_of_week = date.today().isocalendar()\n",
    "\n",
    "    today = date.today()\n",
    "    start = today - timedelta(days=today.weekday())\n",
    "    end = start + timedelta(days=6)\n",
    "\n",
    "    this_week = start.strftime(\"%m/%d/%Y\")\n",
    "    month_num = today.month\n",
    "    day_of_year = int(date.today().strftime('%j'))\n",
    "    return [year, week_num, this_week, day_of_year, start]"
   ]
  },
  {
   "cell_type": "code",
   "execution_count": 115,
   "id": "373136da",
   "metadata": {},
   "outputs": [],
   "source": [
    "transactions_df = pd.DataFrame(df, columns=['Date', 'Category', 'Description', 'Amount'])\n",
    "tables = [transactions_df.head(10).to_html(classes='table table-stripped', index = False)]"
   ]
  },
  {
   "cell_type": "code",
   "execution_count": 97,
   "id": "3175bdf1",
   "metadata": {},
   "outputs": [],
   "source": [
    "last_transaction = df['Date'].dt.date.max()"
   ]
  },
  {
   "cell_type": "code",
   "execution_count": 143,
   "id": "ce41dd78",
   "metadata": {},
   "outputs": [],
   "source": [
    "def expenses_week(df = df_processed(), week_num = process_dates()[1]):\n",
    "    df_expenses = df[df['Expenses'] == 1]\n",
    "    expenses_week = df_expenses[df_expenses['year'] == date.today().year].groupby('week').sum()['Amount']\n",
    "    if indexExists(expenses_week, week_num):\n",
    "        expenses_week = round(expenses_week[week_num], 2)\n",
    "    else:\n",
    "        expenses_week = round(0, 2)\n",
    "    return expenses_week"
   ]
  },
  {
   "cell_type": "code",
   "execution_count": 142,
   "id": "ee97f111",
   "metadata": {},
   "outputs": [],
   "source": [
    "def expenses_month(df = df_processed(), month_num = date.today().month):\n",
    "    df_expenses = df[df['Expenses'] == 1]\n",
    "    df_expenses = df_expenses[df_expenses['year'] == date.today().year]\n",
    "    expenses_month = df_expenses[df_expenses['month'] == date.today().month].groupby('month').sum()['Amount']\n",
    "    if indexExists(expenses_month, month_num):\n",
    "        expenses_this_month = round(expenses_month[month_num], 2)\n",
    "    else:\n",
    "        expenses_this_month = round(0, 2)\n",
    "    return expenses_this_month"
   ]
  },
  {
   "cell_type": "code",
   "execution_count": 111,
   "id": "761ee113",
   "metadata": {},
   "outputs": [],
   "source": [
    "def budget_per_month(df = df_processed()):\n",
    "    df_expenses = df[df['Expenses'] == 1]\n",
    "    budget_per_month = df_expenses[df_expenses['year'] == date.today().year].groupby('Category').mean()['Budget'].sum()\n",
    "    return budget_per_month"
   ]
  },
  {
   "cell_type": "code",
   "execution_count": 114,
   "id": "887beab6",
   "metadata": {},
   "outputs": [],
   "source": [
    "def average_expenses(df = df_processed()):\n",
    "    df_expenses = df[df['Expenses'] == 1]\n",
    "    expenses_per_day = cal_average(df_expenses[df_expenses['year'] == date.today().year].groupby('Date').sum()['Amount'])\n",
    "    expenses_per_week = cal_average(df_expenses[df_expenses['year'] == date.today().year].groupby('week').sum()['Amount'])\n",
    "    expenses_per_month = cal_average(df_expenses[df_expenses['year'] == date.today().year].groupby('month').sum()['Amount'])\n",
    "    expenses_this_year = cal_average(df_expenses[df_expenses['year'] == date.today().year].groupby('year').sum()['Amount'])\n",
    "    df_2022 = df_expenses[df_expenses.year == 2022]\n",
    "    this_month = df_2022[df_2022.month == date.today().month]\n",
    "    return [expenses_per_day, expenses_per_week, expenses_per_month, expenses_this_year, this_month]"
   ]
  },
  {
   "cell_type": "code",
   "execution_count": 141,
   "id": "9da429a8",
   "metadata": {},
   "outputs": [],
   "source": [
    "def average_income(df = df_processed(), day_of_year = process_dates()[3]):\n",
    "    income_this_year = df[df['Category'] == 'Paycheck'].groupby('year').sum()['Amount'][date.today().year]\n",
    "    income_per_day = df[df['Category'] == 'Paycheck']\n",
    "    income_per_day = income_per_day[income_per_day['year'] == 2022]\n",
    "    income_per_day = income_per_day['Amount'].sum()/day_of_year\n",
    "    return [income_this_year, income_per_day]"
   ]
  },
  {
   "cell_type": "code",
   "execution_count": 140,
   "id": "69698302",
   "metadata": {},
   "outputs": [],
   "source": [
    "def income_week(df = df_processed(), week_num = process_dates()[1]):\n",
    "    df_income = df[df['Category'] == 'Paycheck']\n",
    "    income_week = df_income[df_income['year'] == date.today().year].groupby('week').sum()['Amount']\n",
    "    if indexExists(income_week, week_num):\n",
    "        income_week = income_week[week_num]\n",
    "    else:\n",
    "        income_week = round(0, 2)\n",
    "    return income_week"
   ]
  },
  {
   "cell_type": "code",
   "execution_count": 129,
   "id": "1b138d54",
   "metadata": {},
   "outputs": [
    {
     "data": {
      "text/plain": [
       "-1675.51"
      ]
     },
     "execution_count": 129,
     "metadata": {},
     "output_type": "execute_result"
    }
   ],
   "source": [
    "this_month = average_expenses()[-1]\n",
    "expenses_by_cat = this_month.groupby('Category').sum()['Amount']\n",
    "budget_by_cat = this_month.groupby('Category').mean()['Budget']\n",
    "df_b = budget_by_cat.to_frame()\n",
    "df_e = expenses_by_cat.to_frame()\n",
    "df_this_month = df_e.merge(df_b, left_index=True, right_index = True).sort_values(by='Amount')\n",
    "df_this_month.values[0][0]"
   ]
  },
  {
   "cell_type": "code",
   "execution_count": 130,
   "id": "06b5c3a0",
   "metadata": {},
   "outputs": [],
   "source": [
    "sorted_index = df_this_month.index\n",
    "sorted_values = df_this_month.values"
   ]
  },
  {
   "cell_type": "code",
   "execution_count": 131,
   "id": "4c1644f8",
   "metadata": {},
   "outputs": [],
   "source": [
    "category_len = len(this_month.groupby('Category').sum()['Amount'])\n",
    "budgets = {}\n",
    "for i in range(0, category_len):\n",
    "    cat = f\"{sorted_index[i]}\"\n",
    "    cat_num = f\"{round(sorted_values[i][0]*-1, 2)}\"\n",
    "    cat_max = f\"{round(sorted_values[i][1], 2)}\"\n",
    "    if float(cat_num) == 0 or float(cat_max) == 0:\n",
    "        cat_style = 0\n",
    "    else:\n",
    "        cat_style = round(float(cat_num) / float(cat_max)*100, 2)\n",
    "    cat_formatted = formatting(float(cat_num))\n",
    "    budgets[cat] = [cat_num, cat_max, cat_style, cat_formatted]"
   ]
  },
  {
   "cell_type": "code",
   "execution_count": 118,
   "id": "085d3e01",
   "metadata": {},
   "outputs": [],
   "source": [
    "sheet = pd.read_excel('Goal.xlsx', sheet_name = '2022', index_col = 0, header = 9)\n",
    "sheet['Start of Week']  = sheet['Start of Week'][:52].map(lambda x: datetime.strptime(str(x), \"%B-%d-%Y\").date())\n",
    "in_savings = float(sheet[sheet['Start of Week'] == process_dates()[4]]['Savings End'][0])\n",
    "savings_goal = 11000\n",
    "savings_perc = round(in_savings/savings_goal * 100, 2)\n",
    "for_investment = float(sheet[sheet['Start of Week'] == process_dates()[4]]['End For Investment'][0])\n",
    "net_worth = float(sheet[sheet['Start of Week'] == process_dates()[4]]['In Investment'][0]) + in_savings + for_investment\n",
    "df_progress = pd.read_excel('Goal.xlsx', sheet_name = 'Budget')\n",
    "progress = float(df_progress['Unnamed: 1'][6]) - net_worth\n",
    "needed = float(df_progress['Unnamed: 1'][6])\n",
    "left_perc = round(net_worth/needed*100, 2)\n",
    "budget_perc = round(expenses_month()*-1/budget_per_month()*100, 2)\n",
    "budget_left = expenses_month() + budget_per_month()"
   ]
  },
  {
   "cell_type": "code",
   "execution_count": 148,
   "id": "ab720134",
   "metadata": {},
   "outputs": [],
   "source": [
    "income_this_year = average_income()[0]\n",
    "income_per_day = average_income()[1]\n",
    "income_this_week = income_week()\n",
    "expenses_this_week = expenses_week()\n",
    "expenses_per_day = average_expenses()[0]\n",
    "expenses_per_week = average_expenses()[1]\n",
    "expenses_per_month = average_expenses()[2]\n",
    "expenses_this_year = average_expenses()[3]\n",
    "this_week = process_dates()[2]"
   ]
  },
  {
   "cell_type": "code",
   "execution_count": null,
   "id": "43687227",
   "metadata": {},
   "outputs": [
    {
     "name": "stdout",
     "output_type": "stream",
     "text": [
      " * Serving Flask app \"__main__\" (lazy loading)\n",
      " * Environment: production\n",
      "\u001b[31m   WARNING: This is a development server. Do not use it in a production deployment.\u001b[0m\n",
      "\u001b[2m   Use a production WSGI server instead.\u001b[0m\n",
      " * Debug mode: off\n"
     ]
    },
    {
     "name": "stderr",
     "output_type": "stream",
     "text": [
      " * Running on http://127.0.0.1:5000/ (Press CTRL+C to quit)\n",
      "127.0.0.1 - - [22/Aug/2022 16:11:22] \"\u001b[37mGET / HTTP/1.1\u001b[0m\" 200 -\n",
      "127.0.0.1 - - [22/Aug/2022 16:11:22] \"\u001b[33mGET /static/https://fonts.googleapis.com/css%3Ffamily%3DNunito:200%2C200i%2C300%2C300i%2C400%2C400i%2C600%2C600i%2C700%2C700i%2C800%2C800i%2C900%2C900i HTTP/1.1\u001b[0m\" 404 -\n",
      "127.0.0.1 - - [22/Aug/2022 16:11:22] \"\u001b[33mGET /assets/bootstrap/js/bootstrap.min.js HTTP/1.1\u001b[0m\" 404 -\n",
      "127.0.0.1 - - [22/Aug/2022 16:11:22] \"\u001b[33mGET /assets/js/script.min.js HTTP/1.1\u001b[0m\" 404 -\n"
     ]
    }
   ],
   "source": [
    "from flask import Flask, render_template\n",
    "## from flask import Flask, render_template\n",
    "app = Flask(__name__)\n",
    "\n",
    "@app.route('/', methods=['GET', 'POST'])\n",
    "def dashboard():\n",
    "    return render_template('finances.html', \n",
    "    income_this_week = formatting(income_this_week), expenses_this_week = expenses_this_week, \n",
    "    this_week = this_week, net_worth = formatting(net_worth), left = formatting(progress), needed = needed, \n",
    "    savings_goal = savings_goal, savings_perc = savings_perc, expenses_this_year_f = formatting(expenses_this_year), income_this_year_f = formatting(income_this_year),\n",
    "    left_perc = left_perc, expenses_per_day = formatting(expenses_per_day), expenses_per_week = formatting(expenses_per_week), \n",
    "    expenses_per_month = formatting(expenses_per_month), expenses_this_year = expenses_this_year,\n",
    "    income_this_year = income_this_year, income_per_day = formatting(income_per_day), in_savings = formatting(in_savings),\n",
    "    for_investment = formatting(for_investment), budgets = budgets, expenses_this_month = expenses_this_month, budget_per_month = budget_per_month, \n",
    "    budget_perc = budget_perc, budget_left = budget_left)\n",
    "\n",
    "@app.route('/fire.html', methods=['GET', 'POST'])\n",
    "def transactions():\n",
    "    return render_template('fire.html', net_worth = formatting(net_worth), left = formatting(progress), needed = needed, \n",
    "    left_perc = left_perc)\n",
    "\n",
    "if __name__ == '__main__':\n",
    "    app.run()"
   ]
  },
  {
   "cell_type": "code",
   "execution_count": 56,
   "id": "e9454f50",
   "metadata": {},
   "outputs": [
    {
     "ename": "SyntaxError",
     "evalue": "invalid syntax (<ipython-input-56-3bc417650f8b>, line 1)",
     "output_type": "error",
     "traceback": [
      "\u001b[1;36m  File \u001b[1;32m\"<ipython-input-56-3bc417650f8b>\"\u001b[1;36m, line \u001b[1;32m1\u001b[0m\n\u001b[1;33m    <!DOCTYPE html><html><head><meta charset=\"utf-8\"><meta name=\"viewport\" content=\"width=device-width, initial-scale=1.0, shrink-to-fit=no\"><title>Dashboard - Brand</title><link rel=\"stylesheet\" href=\"{{ url_for('static', filename='assets/bootstrap/css/bootstrap.min.css')}}\"><link rel=\"stylesheet\" href=\"{{ url_for('static', filename='https://fonts.googleapis.com/css?family=Nunito:200,200i,300,300i,400,400i,600,600i,700,700i,800,800i,900,900i')}}\"><link rel=\"stylesheet\" href=\"{{ url_for('static', filename='assets/fonts/fontawesome-all.min.css')}}\"><link rel=\"stylesheet\" href=\"{{ url_for('static', filename='assets/fonts/font-awesome.min.css')}}\"><link rel=\"stylesheet\" href=\"{{ url_for('static', filename='assets/fonts/material-icons.min.css')}}\"><link rel=\"stylesheet\" href=\"{{ url_for('static', filename='assets/fonts/fontawesome5-overrides.min.css')}}\">\u001b[0m\n\u001b[1;37m    ^\u001b[0m\n\u001b[1;31mSyntaxError\u001b[0m\u001b[1;31m:\u001b[0m invalid syntax\n"
     ]
    }
   ],
   "source": [
    "<!DOCTYPE html><html><head><meta charset=\"utf-8\"><meta name=\"viewport\" content=\"width=device-width, initial-scale=1.0, shrink-to-fit=no\"><title>Dashboard - Brand</title><link rel=\"stylesheet\" href=\"{{ url_for('static', filename='assets/bootstrap/css/bootstrap.min.css')}}\"><link rel=\"stylesheet\" href=\"{{ url_for('static', filename='https://fonts.googleapis.com/css?family=Nunito:200,200i,300,300i,400,400i,600,600i,700,700i,800,800i,900,900i')}}\"><link rel=\"stylesheet\" href=\"{{ url_for('static', filename='assets/fonts/fontawesome-all.min.css')}}\"><link rel=\"stylesheet\" href=\"{{ url_for('static', filename='assets/fonts/font-awesome.min.css')}}\"><link rel=\"stylesheet\" href=\"{{ url_for('static', filename='assets/fonts/material-icons.min.css')}}\"><link rel=\"stylesheet\" href=\"{{ url_for('static', filename='assets/fonts/fontawesome5-overrides.min.css')}}\">"
   ]
  }
 ],
 "metadata": {
  "kernelspec": {
   "display_name": "Python 3",
   "language": "python",
   "name": "python3"
  },
  "language_info": {
   "codemirror_mode": {
    "name": "ipython",
    "version": 3
   },
   "file_extension": ".py",
   "mimetype": "text/x-python",
   "name": "python",
   "nbconvert_exporter": "python",
   "pygments_lexer": "ipython3",
   "version": "3.8.10"
  }
 },
 "nbformat": 4,
 "nbformat_minor": 5
}
