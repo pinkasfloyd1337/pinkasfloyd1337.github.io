{
 "cells": [
  {
   "cell_type": "code",
   "execution_count": 79,
   "id": "0f8f96ad",
   "metadata": {},
   "outputs": [],
   "source": [
    "import pandas as pd\n",
    "from datetime import datetime"
   ]
  },
  {
   "cell_type": "code",
   "execution_count": 80,
   "id": "38a31ca7",
   "metadata": {},
   "outputs": [],
   "source": [
    "income_sheet = pd.read_excel('Goal.xlsx', sheet_name = 'Income', index_col = 0)"
   ]
  },
  {
   "cell_type": "code",
   "execution_count": 81,
   "id": "634c661c",
   "metadata": {},
   "outputs": [
    {
     "data": {
      "text/plain": [
       "108397.58"
      ]
     },
     "execution_count": 81,
     "metadata": {},
     "output_type": "execute_result"
    }
   ],
   "source": [
    "income = income_sheet['Yearly']['Base Pay']\n",
    "income"
   ]
  },
  {
   "cell_type": "code",
   "execution_count": 82,
   "id": "ce70d31b",
   "metadata": {},
   "outputs": [
    {
     "data": {
      "text/plain": [
       "8671.8064"
      ]
     },
     "execution_count": 82,
     "metadata": {},
     "output_type": "execute_result"
    }
   ],
   "source": [
    "k_401 = income * 0.08\n",
    "k_401"
   ]
  },
  {
   "cell_type": "code",
   "execution_count": 83,
   "id": "961d5922",
   "metadata": {},
   "outputs": [
    {
     "data": {
      "text/plain": [
       "280.317258375074"
      ]
     },
     "execution_count": 83,
     "metadata": {},
     "output_type": "execute_result"
    }
   ],
   "source": [
    "benefits = income * 0.0025860103\n",
    "benefits"
   ]
  },
  {
   "cell_type": "code",
   "execution_count": 84,
   "id": "d6bece1a",
   "metadata": {},
   "outputs": [
    {
     "data": {
      "text/plain": [
       "16873.51504223664"
      ]
     },
     "execution_count": 84,
     "metadata": {},
     "output_type": "execute_result"
    }
   ],
   "source": [
    "federal_tax = income * 0.155663208\n",
    "federal_tax"
   ]
  },
  {
   "cell_type": "code",
   "execution_count": 85,
   "id": "c1214884",
   "metadata": {},
   "outputs": [
    {
     "data": {
      "text/plain": [
       "6754.493949985422"
      ]
     },
     "execution_count": 85,
     "metadata": {},
     "output_type": "execute_result"
    }
   ],
   "source": [
    "ss = income * 0.0623122209\n",
    "ss"
   ]
  },
  {
   "cell_type": "code",
   "execution_count": 86,
   "id": "12dea13c",
   "metadata": {},
   "outputs": [
    {
     "data": {
      "text/plain": [
       "1579.664557078628"
      ]
     },
     "execution_count": 86,
     "metadata": {},
     "output_type": "execute_result"
    }
   ],
   "source": [
    "medicare = income * 0.0145728766\n",
    "medicare"
   ]
  },
  {
   "cell_type": "code",
   "execution_count": 87,
   "id": "129e0471",
   "metadata": {},
   "outputs": [
    {
     "data": {
      "text/plain": [
       "74237.78279232423"
      ]
     },
     "execution_count": 87,
     "metadata": {},
     "output_type": "execute_result"
    }
   ],
   "source": [
    "net_pay = income - k_401 - benefits - federal_tax - ss - medicare\n",
    "net_pay"
   ]
  },
  {
   "cell_type": "code",
   "execution_count": 88,
   "id": "1a87aa75",
   "metadata": {},
   "outputs": [
    {
     "data": {
      "text/html": [
       "<div>\n",
       "<style scoped>\n",
       "    .dataframe tbody tr th:only-of-type {\n",
       "        vertical-align: middle;\n",
       "    }\n",
       "\n",
       "    .dataframe tbody tr th {\n",
       "        vertical-align: top;\n",
       "    }\n",
       "\n",
       "    .dataframe thead th {\n",
       "        text-align: right;\n",
       "    }\n",
       "</style>\n",
       "<table border=\"1\" class=\"dataframe\">\n",
       "  <thead>\n",
       "    <tr style=\"text-align: right;\">\n",
       "      <th></th>\n",
       "      <th>Date</th>\n",
       "      <th>Description</th>\n",
       "      <th>Original Description</th>\n",
       "      <th>Amount</th>\n",
       "      <th>Transaction Type</th>\n",
       "      <th>Category</th>\n",
       "      <th>Account Name</th>\n",
       "      <th>Labels</th>\n",
       "      <th>Notes</th>\n",
       "    </tr>\n",
       "  </thead>\n",
       "  <tbody>\n",
       "    <tr>\n",
       "      <th>0</th>\n",
       "      <td>12/23/2019</td>\n",
       "      <td>Delta</td>\n",
       "      <td>DELTA AIR LINES 18002211212 CA</td>\n",
       "      <td>198.60</td>\n",
       "      <td>debit</td>\n",
       "      <td>Air Travel</td>\n",
       "      <td>DISCOVER IT CHROME CARD</td>\n",
       "      <td>NaN</td>\n",
       "      <td>NaN</td>\n",
       "    </tr>\n",
       "    <tr>\n",
       "      <th>1</th>\n",
       "      <td>1/31/2020</td>\n",
       "      <td>CVG 2145A BLUE GRASS BAZ ATLANTA GAAPPLE PAY E...</td>\n",
       "      <td>CVG 2145A BLUE GRASS BAZ ATLANTA GAAPPLE PAY E...</td>\n",
       "      <td>2.19</td>\n",
       "      <td>debit</td>\n",
       "      <td>Air Travel</td>\n",
       "      <td>DISCOVER IT CHROME CARD</td>\n",
       "      <td>NaN</td>\n",
       "      <td>NaN</td>\n",
       "    </tr>\n",
       "    <tr>\n",
       "      <th>2</th>\n",
       "      <td>5/05/2021</td>\n",
       "      <td>DMV</td>\n",
       "      <td>OH BUREAU MOTOR VEHICLES</td>\n",
       "      <td>30.00</td>\n",
       "      <td>debit</td>\n",
       "      <td>Auto &amp; Transport</td>\n",
       "      <td>CREDIT CARD</td>\n",
       "      <td>NaN</td>\n",
       "      <td>NaN</td>\n",
       "    </tr>\n",
       "    <tr>\n",
       "      <th>3</th>\n",
       "      <td>3/21/2020</td>\n",
       "      <td>Brendan Cohen Charged</td>\n",
       "      <td>Brendan Cohen Charged Keith Cook</td>\n",
       "      <td>11.47</td>\n",
       "      <td>credit</td>\n",
       "      <td>Bills &amp; Utilities</td>\n",
       "      <td>Venmo</td>\n",
       "      <td>NaN</td>\n",
       "      <td>NaN</td>\n",
       "    </tr>\n",
       "    <tr>\n",
       "      <th>4</th>\n",
       "      <td>3/21/2020</td>\n",
       "      <td>Brendan Cohen Charged</td>\n",
       "      <td>Brendan Cohen Charged Justin Mormol</td>\n",
       "      <td>11.47</td>\n",
       "      <td>credit</td>\n",
       "      <td>Bills &amp; Utilities</td>\n",
       "      <td>Venmo</td>\n",
       "      <td>NaN</td>\n",
       "      <td>NaN</td>\n",
       "    </tr>\n",
       "    <tr>\n",
       "      <th>...</th>\n",
       "      <td>...</td>\n",
       "      <td>...</td>\n",
       "      <td>...</td>\n",
       "      <td>...</td>\n",
       "      <td>...</td>\n",
       "      <td>...</td>\n",
       "      <td>...</td>\n",
       "      <td>...</td>\n",
       "      <td>...</td>\n",
       "    </tr>\n",
       "    <tr>\n",
       "      <th>1785</th>\n",
       "      <td>8/07/2022</td>\n",
       "      <td>SHENANDOAH NATL PARK</td>\n",
       "      <td>SHENANDOAH NATL PARK</td>\n",
       "      <td>30.00</td>\n",
       "      <td>debit</td>\n",
       "      <td>Vacation</td>\n",
       "      <td>CREDIT CARD</td>\n",
       "      <td>Expenses</td>\n",
       "      <td>NaN</td>\n",
       "    </tr>\n",
       "    <tr>\n",
       "      <th>1786</th>\n",
       "      <td>6/14/2020</td>\n",
       "      <td>Gahanna Animal Hospital Inc</td>\n",
       "      <td>GAHANNA ANIMAL HOSPITA</td>\n",
       "      <td>457.42</td>\n",
       "      <td>debit</td>\n",
       "      <td>Veterinary</td>\n",
       "      <td>CREDIT CARD</td>\n",
       "      <td>NaN</td>\n",
       "      <td>NaN</td>\n",
       "    </tr>\n",
       "    <tr>\n",
       "      <th>1787</th>\n",
       "      <td>6/14/2020</td>\n",
       "      <td>Gahanna Animal Hospital Inc</td>\n",
       "      <td>GAHANNA ANIMAL HOSPITA</td>\n",
       "      <td>27.74</td>\n",
       "      <td>debit</td>\n",
       "      <td>Veterinary</td>\n",
       "      <td>CREDIT CARD</td>\n",
       "      <td>NaN</td>\n",
       "      <td>NaN</td>\n",
       "    </tr>\n",
       "    <tr>\n",
       "      <th>1788</th>\n",
       "      <td>11/08/2020</td>\n",
       "      <td>Gahanna Animal Hospital Inc</td>\n",
       "      <td>GAHANNA ANIMAL HOSPITA</td>\n",
       "      <td>131.93</td>\n",
       "      <td>debit</td>\n",
       "      <td>Veterinary</td>\n",
       "      <td>CREDIT CARD</td>\n",
       "      <td>NaN</td>\n",
       "      <td>NaN</td>\n",
       "    </tr>\n",
       "    <tr>\n",
       "      <th>1789</th>\n",
       "      <td>3/16/2022</td>\n",
       "      <td>BRENTWOOD ANIMAL HOSPI BRENTWOOD MD</td>\n",
       "      <td>BRENTWOOD ANIMAL HOSPI BRENTWOOD MD</td>\n",
       "      <td>171.21</td>\n",
       "      <td>debit</td>\n",
       "      <td>Veterinary</td>\n",
       "      <td>DISCOVER IT CHROME CARD</td>\n",
       "      <td>Expenses</td>\n",
       "      <td>NaN</td>\n",
       "    </tr>\n",
       "  </tbody>\n",
       "</table>\n",
       "<p>1790 rows × 9 columns</p>\n",
       "</div>"
      ],
      "text/plain": [
       "            Date                                        Description  \\\n",
       "0     12/23/2019                                              Delta   \n",
       "1      1/31/2020  CVG 2145A BLUE GRASS BAZ ATLANTA GAAPPLE PAY E...   \n",
       "2      5/05/2021                                                DMV   \n",
       "3      3/21/2020                              Brendan Cohen Charged   \n",
       "4      3/21/2020                              Brendan Cohen Charged   \n",
       "...          ...                                                ...   \n",
       "1785   8/07/2022                               SHENANDOAH NATL PARK   \n",
       "1786   6/14/2020                        Gahanna Animal Hospital Inc   \n",
       "1787   6/14/2020                        Gahanna Animal Hospital Inc   \n",
       "1788  11/08/2020                        Gahanna Animal Hospital Inc   \n",
       "1789   3/16/2022                BRENTWOOD ANIMAL HOSPI BRENTWOOD MD   \n",
       "\n",
       "                                   Original Description  Amount  \\\n",
       "0                        DELTA AIR LINES 18002211212 CA  198.60   \n",
       "1     CVG 2145A BLUE GRASS BAZ ATLANTA GAAPPLE PAY E...    2.19   \n",
       "2                              OH BUREAU MOTOR VEHICLES   30.00   \n",
       "3                      Brendan Cohen Charged Keith Cook   11.47   \n",
       "4                   Brendan Cohen Charged Justin Mormol   11.47   \n",
       "...                                                 ...     ...   \n",
       "1785                               SHENANDOAH NATL PARK   30.00   \n",
       "1786                             GAHANNA ANIMAL HOSPITA  457.42   \n",
       "1787                             GAHANNA ANIMAL HOSPITA   27.74   \n",
       "1788                             GAHANNA ANIMAL HOSPITA  131.93   \n",
       "1789                BRENTWOOD ANIMAL HOSPI BRENTWOOD MD  171.21   \n",
       "\n",
       "     Transaction Type           Category             Account Name    Labels  \\\n",
       "0               debit         Air Travel  DISCOVER IT CHROME CARD       NaN   \n",
       "1               debit         Air Travel  DISCOVER IT CHROME CARD       NaN   \n",
       "2               debit   Auto & Transport              CREDIT CARD       NaN   \n",
       "3              credit  Bills & Utilities                    Venmo       NaN   \n",
       "4              credit  Bills & Utilities                    Venmo       NaN   \n",
       "...               ...                ...                      ...       ...   \n",
       "1785            debit           Vacation              CREDIT CARD  Expenses   \n",
       "1786            debit         Veterinary              CREDIT CARD       NaN   \n",
       "1787            debit         Veterinary              CREDIT CARD       NaN   \n",
       "1788            debit         Veterinary              CREDIT CARD       NaN   \n",
       "1789            debit         Veterinary  DISCOVER IT CHROME CARD  Expenses   \n",
       "\n",
       "      Notes  \n",
       "0       NaN  \n",
       "1       NaN  \n",
       "2       NaN  \n",
       "3       NaN  \n",
       "4       NaN  \n",
       "...     ...  \n",
       "1785    NaN  \n",
       "1786    NaN  \n",
       "1787    NaN  \n",
       "1788    NaN  \n",
       "1789    NaN  \n",
       "\n",
       "[1790 rows x 9 columns]"
      ]
     },
     "execution_count": 88,
     "metadata": {},
     "output_type": "execute_result"
    }
   ],
   "source": [
    "transactions = pd.read_csv('transactions.csv')\n",
    "transactions"
   ]
  },
  {
   "cell_type": "code",
   "execution_count": 89,
   "id": "b6fc2177",
   "metadata": {},
   "outputs": [
    {
     "name": "stderr",
     "output_type": "stream",
     "text": [
      "<ipython-input-89-c88f70988ea8>:1: SettingWithCopyWarning: \n",
      "A value is trying to be set on a copy of a slice from a DataFrame\n",
      "\n",
      "See the caveats in the documentation: https://pandas.pydata.org/pandas-docs/stable/user_guide/indexing.html#returning-a-view-versus-a-copy\n",
      "  transactions['Amount'][transactions['Transaction Type'] == 'debit'] = transactions[transactions['Transaction Type'] == 'debit'].apply(lambda x: x*-1)['Amount']\n"
     ]
    }
   ],
   "source": [
    "transactions['Amount'][transactions['Transaction Type'] == 'debit'] = transactions[transactions['Transaction Type'] == 'debit'].apply(lambda x: x*-1)['Amount']"
   ]
  },
  {
   "cell_type": "code",
   "execution_count": 90,
   "id": "025499df",
   "metadata": {},
   "outputs": [
    {
     "data": {
      "text/html": [
       "<div>\n",
       "<style scoped>\n",
       "    .dataframe tbody tr th:only-of-type {\n",
       "        vertical-align: middle;\n",
       "    }\n",
       "\n",
       "    .dataframe tbody tr th {\n",
       "        vertical-align: top;\n",
       "    }\n",
       "\n",
       "    .dataframe thead th {\n",
       "        text-align: right;\n",
       "    }\n",
       "</style>\n",
       "<table border=\"1\" class=\"dataframe\">\n",
       "  <thead>\n",
       "    <tr style=\"text-align: right;\">\n",
       "      <th></th>\n",
       "      <th>Date</th>\n",
       "      <th>Category</th>\n",
       "      <th>Description</th>\n",
       "      <th>Amount</th>\n",
       "      <th>Account Name</th>\n",
       "    </tr>\n",
       "  </thead>\n",
       "  <tbody>\n",
       "    <tr>\n",
       "      <th>0</th>\n",
       "      <td>12/23/2019</td>\n",
       "      <td>Air Travel</td>\n",
       "      <td>Delta</td>\n",
       "      <td>-198.60</td>\n",
       "      <td>DISCOVER IT CHROME CARD</td>\n",
       "    </tr>\n",
       "    <tr>\n",
       "      <th>1</th>\n",
       "      <td>1/31/2020</td>\n",
       "      <td>Air Travel</td>\n",
       "      <td>CVG 2145A BLUE GRASS BAZ ATLANTA GAAPPLE PAY E...</td>\n",
       "      <td>-2.19</td>\n",
       "      <td>DISCOVER IT CHROME CARD</td>\n",
       "    </tr>\n",
       "    <tr>\n",
       "      <th>2</th>\n",
       "      <td>5/05/2021</td>\n",
       "      <td>Auto &amp; Transport</td>\n",
       "      <td>DMV</td>\n",
       "      <td>-30.00</td>\n",
       "      <td>CREDIT CARD</td>\n",
       "    </tr>\n",
       "    <tr>\n",
       "      <th>3</th>\n",
       "      <td>3/21/2020</td>\n",
       "      <td>Bills &amp; Utilities</td>\n",
       "      <td>Brendan Cohen Charged</td>\n",
       "      <td>11.47</td>\n",
       "      <td>Venmo</td>\n",
       "    </tr>\n",
       "    <tr>\n",
       "      <th>4</th>\n",
       "      <td>3/21/2020</td>\n",
       "      <td>Bills &amp; Utilities</td>\n",
       "      <td>Brendan Cohen Charged</td>\n",
       "      <td>11.47</td>\n",
       "      <td>Venmo</td>\n",
       "    </tr>\n",
       "    <tr>\n",
       "      <th>...</th>\n",
       "      <td>...</td>\n",
       "      <td>...</td>\n",
       "      <td>...</td>\n",
       "      <td>...</td>\n",
       "      <td>...</td>\n",
       "    </tr>\n",
       "    <tr>\n",
       "      <th>1785</th>\n",
       "      <td>8/07/2022</td>\n",
       "      <td>Vacation</td>\n",
       "      <td>SHENANDOAH NATL PARK</td>\n",
       "      <td>-30.00</td>\n",
       "      <td>CREDIT CARD</td>\n",
       "    </tr>\n",
       "    <tr>\n",
       "      <th>1786</th>\n",
       "      <td>6/14/2020</td>\n",
       "      <td>Veterinary</td>\n",
       "      <td>Gahanna Animal Hospital Inc</td>\n",
       "      <td>-457.42</td>\n",
       "      <td>CREDIT CARD</td>\n",
       "    </tr>\n",
       "    <tr>\n",
       "      <th>1787</th>\n",
       "      <td>6/14/2020</td>\n",
       "      <td>Veterinary</td>\n",
       "      <td>Gahanna Animal Hospital Inc</td>\n",
       "      <td>-27.74</td>\n",
       "      <td>CREDIT CARD</td>\n",
       "    </tr>\n",
       "    <tr>\n",
       "      <th>1788</th>\n",
       "      <td>11/08/2020</td>\n",
       "      <td>Veterinary</td>\n",
       "      <td>Gahanna Animal Hospital Inc</td>\n",
       "      <td>-131.93</td>\n",
       "      <td>CREDIT CARD</td>\n",
       "    </tr>\n",
       "    <tr>\n",
       "      <th>1789</th>\n",
       "      <td>3/16/2022</td>\n",
       "      <td>Veterinary</td>\n",
       "      <td>BRENTWOOD ANIMAL HOSPI BRENTWOOD MD</td>\n",
       "      <td>-171.21</td>\n",
       "      <td>DISCOVER IT CHROME CARD</td>\n",
       "    </tr>\n",
       "  </tbody>\n",
       "</table>\n",
       "<p>1790 rows × 5 columns</p>\n",
       "</div>"
      ],
      "text/plain": [
       "            Date           Category  \\\n",
       "0     12/23/2019         Air Travel   \n",
       "1      1/31/2020         Air Travel   \n",
       "2      5/05/2021   Auto & Transport   \n",
       "3      3/21/2020  Bills & Utilities   \n",
       "4      3/21/2020  Bills & Utilities   \n",
       "...          ...                ...   \n",
       "1785   8/07/2022           Vacation   \n",
       "1786   6/14/2020         Veterinary   \n",
       "1787   6/14/2020         Veterinary   \n",
       "1788  11/08/2020         Veterinary   \n",
       "1789   3/16/2022         Veterinary   \n",
       "\n",
       "                                            Description  Amount  \\\n",
       "0                                                 Delta -198.60   \n",
       "1     CVG 2145A BLUE GRASS BAZ ATLANTA GAAPPLE PAY E...   -2.19   \n",
       "2                                                   DMV  -30.00   \n",
       "3                                 Brendan Cohen Charged   11.47   \n",
       "4                                 Brendan Cohen Charged   11.47   \n",
       "...                                                 ...     ...   \n",
       "1785                               SHENANDOAH NATL PARK  -30.00   \n",
       "1786                        Gahanna Animal Hospital Inc -457.42   \n",
       "1787                        Gahanna Animal Hospital Inc  -27.74   \n",
       "1788                        Gahanna Animal Hospital Inc -131.93   \n",
       "1789                BRENTWOOD ANIMAL HOSPI BRENTWOOD MD -171.21   \n",
       "\n",
       "                 Account Name  \n",
       "0     DISCOVER IT CHROME CARD  \n",
       "1     DISCOVER IT CHROME CARD  \n",
       "2                 CREDIT CARD  \n",
       "3                       Venmo  \n",
       "4                       Venmo  \n",
       "...                       ...  \n",
       "1785              CREDIT CARD  \n",
       "1786              CREDIT CARD  \n",
       "1787              CREDIT CARD  \n",
       "1788              CREDIT CARD  \n",
       "1789  DISCOVER IT CHROME CARD  \n",
       "\n",
       "[1790 rows x 5 columns]"
      ]
     },
     "execution_count": 90,
     "metadata": {},
     "output_type": "execute_result"
    }
   ],
   "source": [
    "df = pd.DataFrame(transactions, columns=['Date', 'Category', 'Description', 'Amount', 'Account Name'])\n",
    "df"
   ]
  },
  {
   "cell_type": "code",
   "execution_count": 150,
   "id": "a3b10eba",
   "metadata": {},
   "outputs": [
    {
     "ename": "TypeError",
     "evalue": "strptime() argument 1 must be str, not Timestamp",
     "output_type": "error",
     "traceback": [
      "\u001b[1;31m---------------------------------------------------------------------------\u001b[0m",
      "\u001b[1;31mTypeError\u001b[0m                                 Traceback (most recent call last)",
      "\u001b[1;32m<ipython-input-150-0875c575732a>\u001b[0m in \u001b[0;36m<module>\u001b[1;34m\u001b[0m\n\u001b[0;32m     10\u001b[0m \u001b[0myear\u001b[0m \u001b[1;33m=\u001b[0m \u001b[0mdate\u001b[0m\u001b[1;33m.\u001b[0m\u001b[0mtoday\u001b[0m\u001b[1;33m(\u001b[0m\u001b[1;33m)\u001b[0m\u001b[1;33m.\u001b[0m\u001b[0myear\u001b[0m\u001b[1;33m\u001b[0m\u001b[1;33m\u001b[0m\u001b[0m\n\u001b[0;32m     11\u001b[0m \u001b[1;33m\u001b[0m\u001b[0m\n\u001b[1;32m---> 12\u001b[1;33m \u001b[0mdf\u001b[0m\u001b[1;33m[\u001b[0m\u001b[1;34m'Date'\u001b[0m\u001b[1;33m]\u001b[0m \u001b[1;33m=\u001b[0m \u001b[0mdf\u001b[0m\u001b[1;33m[\u001b[0m\u001b[1;34m'Date'\u001b[0m\u001b[1;33m]\u001b[0m\u001b[1;33m.\u001b[0m\u001b[0mapply\u001b[0m\u001b[1;33m(\u001b[0m\u001b[1;32mlambda\u001b[0m \u001b[0mx\u001b[0m\u001b[1;33m:\u001b[0m \u001b[0mdatetime\u001b[0m\u001b[1;33m.\u001b[0m\u001b[0mstrptime\u001b[0m\u001b[1;33m(\u001b[0m\u001b[0mx\u001b[0m\u001b[1;33m,\u001b[0m \u001b[1;34m'%m/%d/%Y'\u001b[0m\u001b[1;33m)\u001b[0m\u001b[1;33m)\u001b[0m\u001b[1;33m\u001b[0m\u001b[1;33m\u001b[0m\u001b[0m\n\u001b[0m\u001b[0;32m     13\u001b[0m \u001b[0mdf\u001b[0m\u001b[1;33m[\u001b[0m\u001b[1;34m'week'\u001b[0m\u001b[1;33m]\u001b[0m \u001b[1;33m=\u001b[0m \u001b[0mdf\u001b[0m\u001b[1;33m[\u001b[0m\u001b[1;34m'Date'\u001b[0m\u001b[1;33m]\u001b[0m\u001b[1;33m.\u001b[0m\u001b[0mdt\u001b[0m\u001b[1;33m.\u001b[0m\u001b[0mweek\u001b[0m\u001b[1;33m\u001b[0m\u001b[1;33m\u001b[0m\u001b[0m\n\u001b[0;32m     14\u001b[0m \u001b[0mdf\u001b[0m\u001b[1;33m[\u001b[0m\u001b[1;34m'day'\u001b[0m\u001b[1;33m]\u001b[0m \u001b[1;33m=\u001b[0m \u001b[0mdf\u001b[0m\u001b[1;33m[\u001b[0m\u001b[1;34m'Date'\u001b[0m\u001b[1;33m]\u001b[0m\u001b[1;33m.\u001b[0m\u001b[0mdt\u001b[0m\u001b[1;33m.\u001b[0m\u001b[0mday\u001b[0m\u001b[1;33m\u001b[0m\u001b[1;33m\u001b[0m\u001b[0m\n",
      "\u001b[1;32m~\\anaconda3\\lib\\site-packages\\pandas\\core\\series.py\u001b[0m in \u001b[0;36mapply\u001b[1;34m(self, func, convert_dtype, args, **kwds)\u001b[0m\n\u001b[0;32m   4136\u001b[0m             \u001b[1;32melse\u001b[0m\u001b[1;33m:\u001b[0m\u001b[1;33m\u001b[0m\u001b[1;33m\u001b[0m\u001b[0m\n\u001b[0;32m   4137\u001b[0m                 \u001b[0mvalues\u001b[0m \u001b[1;33m=\u001b[0m \u001b[0mself\u001b[0m\u001b[1;33m.\u001b[0m\u001b[0mastype\u001b[0m\u001b[1;33m(\u001b[0m\u001b[0mobject\u001b[0m\u001b[1;33m)\u001b[0m\u001b[1;33m.\u001b[0m\u001b[0m_values\u001b[0m\u001b[1;33m\u001b[0m\u001b[1;33m\u001b[0m\u001b[0m\n\u001b[1;32m-> 4138\u001b[1;33m                 \u001b[0mmapped\u001b[0m \u001b[1;33m=\u001b[0m \u001b[0mlib\u001b[0m\u001b[1;33m.\u001b[0m\u001b[0mmap_infer\u001b[0m\u001b[1;33m(\u001b[0m\u001b[0mvalues\u001b[0m\u001b[1;33m,\u001b[0m \u001b[0mf\u001b[0m\u001b[1;33m,\u001b[0m \u001b[0mconvert\u001b[0m\u001b[1;33m=\u001b[0m\u001b[0mconvert_dtype\u001b[0m\u001b[1;33m)\u001b[0m\u001b[1;33m\u001b[0m\u001b[1;33m\u001b[0m\u001b[0m\n\u001b[0m\u001b[0;32m   4139\u001b[0m \u001b[1;33m\u001b[0m\u001b[0m\n\u001b[0;32m   4140\u001b[0m         \u001b[1;32mif\u001b[0m \u001b[0mlen\u001b[0m\u001b[1;33m(\u001b[0m\u001b[0mmapped\u001b[0m\u001b[1;33m)\u001b[0m \u001b[1;32mand\u001b[0m \u001b[0misinstance\u001b[0m\u001b[1;33m(\u001b[0m\u001b[0mmapped\u001b[0m\u001b[1;33m[\u001b[0m\u001b[1;36m0\u001b[0m\u001b[1;33m]\u001b[0m\u001b[1;33m,\u001b[0m \u001b[0mSeries\u001b[0m\u001b[1;33m)\u001b[0m\u001b[1;33m:\u001b[0m\u001b[1;33m\u001b[0m\u001b[1;33m\u001b[0m\u001b[0m\n",
      "\u001b[1;32mpandas\\_libs\\lib.pyx\u001b[0m in \u001b[0;36mpandas._libs.lib.map_infer\u001b[1;34m()\u001b[0m\n",
      "\u001b[1;32m<ipython-input-150-0875c575732a>\u001b[0m in \u001b[0;36m<lambda>\u001b[1;34m(x)\u001b[0m\n\u001b[0;32m     10\u001b[0m \u001b[0myear\u001b[0m \u001b[1;33m=\u001b[0m \u001b[0mdate\u001b[0m\u001b[1;33m.\u001b[0m\u001b[0mtoday\u001b[0m\u001b[1;33m(\u001b[0m\u001b[1;33m)\u001b[0m\u001b[1;33m.\u001b[0m\u001b[0myear\u001b[0m\u001b[1;33m\u001b[0m\u001b[1;33m\u001b[0m\u001b[0m\n\u001b[0;32m     11\u001b[0m \u001b[1;33m\u001b[0m\u001b[0m\n\u001b[1;32m---> 12\u001b[1;33m \u001b[0mdf\u001b[0m\u001b[1;33m[\u001b[0m\u001b[1;34m'Date'\u001b[0m\u001b[1;33m]\u001b[0m \u001b[1;33m=\u001b[0m \u001b[0mdf\u001b[0m\u001b[1;33m[\u001b[0m\u001b[1;34m'Date'\u001b[0m\u001b[1;33m]\u001b[0m\u001b[1;33m.\u001b[0m\u001b[0mapply\u001b[0m\u001b[1;33m(\u001b[0m\u001b[1;32mlambda\u001b[0m \u001b[0mx\u001b[0m\u001b[1;33m:\u001b[0m \u001b[0mdatetime\u001b[0m\u001b[1;33m.\u001b[0m\u001b[0mstrptime\u001b[0m\u001b[1;33m(\u001b[0m\u001b[0mx\u001b[0m\u001b[1;33m,\u001b[0m \u001b[1;34m'%m/%d/%Y'\u001b[0m\u001b[1;33m)\u001b[0m\u001b[1;33m)\u001b[0m\u001b[1;33m\u001b[0m\u001b[1;33m\u001b[0m\u001b[0m\n\u001b[0m\u001b[0;32m     13\u001b[0m \u001b[0mdf\u001b[0m\u001b[1;33m[\u001b[0m\u001b[1;34m'week'\u001b[0m\u001b[1;33m]\u001b[0m \u001b[1;33m=\u001b[0m \u001b[0mdf\u001b[0m\u001b[1;33m[\u001b[0m\u001b[1;34m'Date'\u001b[0m\u001b[1;33m]\u001b[0m\u001b[1;33m.\u001b[0m\u001b[0mdt\u001b[0m\u001b[1;33m.\u001b[0m\u001b[0mweek\u001b[0m\u001b[1;33m\u001b[0m\u001b[1;33m\u001b[0m\u001b[0m\n\u001b[0;32m     14\u001b[0m \u001b[0mdf\u001b[0m\u001b[1;33m[\u001b[0m\u001b[1;34m'day'\u001b[0m\u001b[1;33m]\u001b[0m \u001b[1;33m=\u001b[0m \u001b[0mdf\u001b[0m\u001b[1;33m[\u001b[0m\u001b[1;34m'Date'\u001b[0m\u001b[1;33m]\u001b[0m\u001b[1;33m.\u001b[0m\u001b[0mdt\u001b[0m\u001b[1;33m.\u001b[0m\u001b[0mday\u001b[0m\u001b[1;33m\u001b[0m\u001b[1;33m\u001b[0m\u001b[0m\n",
      "\u001b[1;31mTypeError\u001b[0m: strptime() argument 1 must be str, not Timestamp"
     ]
    }
   ],
   "source": [
    "from datetime import date, timedelta\n",
    "\n",
    "year, week_num, day_of_week = date.today().isocalendar()\n",
    "\n",
    "today = date.today()\n",
    "start = today - timedelta(days=today.weekday())\n",
    "end = start + timedelta(days=6)\n",
    "\n",
    "this_week = start.strftime(\"%m/%d/%Y\")\n",
    "year = date.today().year\n",
    "\n",
    "df['Date'] = df['Date'].apply(lambda x: datetime.strptime(x, '%m/%d/%Y'))\n",
    "df['week'] = df['Date'].dt.week\n",
    "df['day'] = df['Date'].dt.day\n",
    "df['month'] = df['Date'].dt.month\n",
    "df['year'] = df['Date'].dt.year"
   ]
  },
  {
   "cell_type": "code",
   "execution_count": 92,
   "id": "d8ccfc84",
   "metadata": {},
   "outputs": [],
   "source": [
    "def indexExists(list,index):\n",
    "    try:\n",
    "        list[index]\n",
    "        return True\n",
    "    except KeyError:\n",
    "        return False"
   ]
  },
  {
   "cell_type": "code",
   "execution_count": 117,
   "id": "830e9ed8",
   "metadata": {},
   "outputs": [],
   "source": [
    "def cal_average(num):\n",
    "    sum_num = 0\n",
    "    for t in num:\n",
    "        sum_num = sum_num + t           \n",
    "\n",
    "    avg = sum_num / len(num)\n",
    "    return avg"
   ]
  },
  {
   "cell_type": "code",
   "execution_count": 93,
   "id": "c9dfb64a",
   "metadata": {},
   "outputs": [],
   "source": [
    "df_no_income = df[df['Category'] != 'Paycheck']\n",
    "expenses_week = df_no_income[df_no_income['year'] == date.today().year].groupby('week').sum()['Amount']\n",
    "if indexExists(expenses_week, week_num):\n",
    "    expenses_week = expenses_week[week_num]\n",
    "else:\n",
    "    expenses_week = 0"
   ]
  },
  {
   "cell_type": "code",
   "execution_count": 118,
   "id": "c876998f",
   "metadata": {},
   "outputs": [
    {
     "data": {
      "text/plain": [
       "-111.46994186046513"
      ]
     },
     "execution_count": 118,
     "metadata": {},
     "output_type": "execute_result"
    }
   ],
   "source": [
    "expenses_per_day = cal_average(df_no_income[df_no_income['year'] == date.today().year].groupby('Date').sum()['Amount'])\n",
    "expenses_per_day"
   ]
  },
  {
   "cell_type": "code",
   "execution_count": 119,
   "id": "1230809e",
   "metadata": {},
   "outputs": [
    {
     "data": {
      "text/plain": [
       "-563.9067647058826"
      ]
     },
     "execution_count": 119,
     "metadata": {},
     "output_type": "execute_result"
    }
   ],
   "source": [
    "expenses_per_week = cal_average(df_no_income[df_no_income['year'] == date.today().year].groupby('week').sum()['Amount'])\n",
    "expenses_per_week"
   ]
  },
  {
   "cell_type": "code",
   "execution_count": 120,
   "id": "0455357c",
   "metadata": {},
   "outputs": [
    {
     "data": {
      "text/plain": [
       "-2396.6037499999993"
      ]
     },
     "execution_count": 120,
     "metadata": {},
     "output_type": "execute_result"
    }
   ],
   "source": [
    "expenses_per_month = cal_average(df_no_income[df_no_income['year'] == date.today().year].groupby('month').sum()['Amount'])\n",
    "expenses_per_month"
   ]
  },
  {
   "cell_type": "code",
   "execution_count": 134,
   "id": "2bb535cf",
   "metadata": {},
   "outputs": [
    {
     "data": {
      "text/plain": [
       "-19172.830000000005"
      ]
     },
     "execution_count": 134,
     "metadata": {},
     "output_type": "execute_result"
    }
   ],
   "source": [
    "expenses_this_year = cal_average(df_no_income[df_no_income['year'] == date.today().year].groupby('year').sum()['Amount'])\n",
    "expenses_this_year"
   ]
  },
  {
   "cell_type": "code",
   "execution_count": 146,
   "id": "1722a906",
   "metadata": {},
   "outputs": [
    {
     "data": {
      "text/plain": [
       "16428.67"
      ]
     },
     "execution_count": 146,
     "metadata": {},
     "output_type": "execute_result"
    }
   ],
   "source": [
    "income_this_year = df[df['Category'] == 'Paycheck'].groupby('year').sum()['Amount'][date.today().year]\n",
    "income_this_year"
   ]
  },
  {
   "cell_type": "code",
   "execution_count": 178,
   "id": "e42bcfa4",
   "metadata": {},
   "outputs": [
    {
     "data": {
      "text/plain": [
       "71.11978354978355"
      ]
     },
     "execution_count": 178,
     "metadata": {},
     "output_type": "execute_result"
    }
   ],
   "source": [
    "income_per_day = df[df['Category'] == 'Paycheck']\n",
    "income_per_day = income_per_day[income_per_day['year'] == 2022]\n",
    "income_per_day = income_per_day['Amount'].sum()/int(day_of_year)"
   ]
  },
  {
   "cell_type": "code",
   "execution_count": 152,
   "id": "f1d11d19",
   "metadata": {},
   "outputs": [
    {
     "data": {
      "text/plain": [
       "'231'"
      ]
     },
     "execution_count": 152,
     "metadata": {},
     "output_type": "execute_result"
    }
   ],
   "source": [
    "day_of_year = date.today().strftime('%j')\n",
    "day_of_year"
   ]
  },
  {
   "cell_type": "code",
   "execution_count": 94,
   "id": "1b4a576c",
   "metadata": {},
   "outputs": [],
   "source": [
    "df_income = df[df['Category'] == 'Paycheck']\n",
    "income_week = df_income[df_income['year'] == date.today().year].groupby('week').sum()['Amount']\n",
    "if indexExists(income_week, week_num):\n",
    "    income_week = income_week[week_num]\n",
    "else:\n",
    "    income_week = 0"
   ]
  },
  {
   "cell_type": "code",
   "execution_count": 142,
   "id": "4d2e13fd",
   "metadata": {},
   "outputs": [],
   "source": [
    "def formatting(amount):\n",
    "    if amount < 0:\n",
    "        amount = amount * -1\n",
    "        amount = \"-${:,.2f}\".format(amount)\n",
    "        color = '\"color:red\"'\n",
    "    else:\n",
    "        amount = \"${:,.2f}\".format(amount)\n",
    "        color = '\"color:black\"'\n",
    "    return amount"
   ]
  },
  {
   "cell_type": "code",
   "execution_count": 107,
   "id": "9530732f",
   "metadata": {},
   "outputs": [],
   "source": [
    "net_worth = 1\n",
    "progress = 1"
   ]
  },
  {
   "cell_type": "code",
   "execution_count": 143,
   "id": "19daa193",
   "metadata": {},
   "outputs": [
    {
     "name": "stdout",
     "output_type": "stream",
     "text": [
      " * Serving Flask app \"__main__\" (lazy loading)\n",
      " * Environment: production\n",
      "\u001b[31m   WARNING: This is a development server. Do not use it in a production deployment.\u001b[0m\n",
      "\u001b[2m   Use a production WSGI server instead.\u001b[0m\n",
      " * Debug mode: off\n"
     ]
    },
    {
     "name": "stderr",
     "output_type": "stream",
     "text": [
      " * Running on http://127.0.0.1:5000/ (Press CTRL+C to quit)\n",
      "127.0.0.1 - - [19/Aug/2022 20:20:36] \"\u001b[37mGET / HTTP/1.1\u001b[0m\" 200 -\n",
      "127.0.0.1 - - [19/Aug/2022 20:20:37] \"\u001b[33mGET /static/https://fonts.googleapis.com/css%3Ffamily%3DNunito:200%2C200i%2C300%2C300i%2C400%2C400i%2C600%2C600i%2C700%2C700i%2C800%2C800i%2C900%2C900i HTTP/1.1\u001b[0m\" 404 -\n",
      "127.0.0.1 - - [19/Aug/2022 20:20:37] \"\u001b[33mGET /assets/bootstrap/js/bootstrap.min.js HTTP/1.1\u001b[0m\" 404 -\n",
      "127.0.0.1 - - [19/Aug/2022 20:20:37] \"\u001b[33mGET /assets/js/chart.min.js HTTP/1.1\u001b[0m\" 404 -\n",
      "127.0.0.1 - - [19/Aug/2022 20:20:37] \"\u001b[33mGET /assets/js/script.min.js HTTP/1.1\u001b[0m\" 404 -\n"
     ]
    }
   ],
   "source": [
    "from flask import Flask, render_template\n",
    "## from flask import Flask, render_template\n",
    "app = Flask(__name__)\n",
    "\n",
    "@app.route('/', methods=['GET', 'POST'])\n",
    "def dashboard():\n",
    "    return render_template('index.html', \n",
    "    income_this_week = formatting(income_week), expenses_this_week = formatting(expenses_week), \n",
    "    this_week = this_week, net_worth = formatting(net_worth), progress = formatting(progress),\n",
    "    expenses_per_day = formatting(expenses_per_day), expenses_per_week = formatting(expenses_per_week), \n",
    "    expenses_per_month = formatting(expenses_per_month), expenses_this_year = formatting(expenses_this_year),\n",
    "    income_this_year = formatting(income_this_year))\n",
    "\n",
    "@app.route('/table.html', methods=['GET', 'POST'])\n",
    "def finances():\n",
    "    return render_template('table.html')\n",
    "\n",
    "if __name__ == '__main__':\n",
    "    app.run()"
   ]
  },
  {
   "cell_type": "code",
   "execution_count": null,
   "id": "8597ea88",
   "metadata": {},
   "outputs": [],
   "source": []
  },
  {
   "cell_type": "code",
   "execution_count": null,
   "id": "f9031df8",
   "metadata": {},
   "outputs": [],
   "source": []
  }
 ],
 "metadata": {
  "kernelspec": {
   "display_name": "Python 3",
   "language": "python",
   "name": "python3"
  },
  "language_info": {
   "codemirror_mode": {
    "name": "ipython",
    "version": 3
   },
   "file_extension": ".py",
   "mimetype": "text/x-python",
   "name": "python",
   "nbconvert_exporter": "python",
   "pygments_lexer": "ipython3",
   "version": "3.8.10"
  }
 },
 "nbformat": 4,
 "nbformat_minor": 5
}
